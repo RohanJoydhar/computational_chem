{
  "cells": [
    {
      "cell_type": "code",
      "source": [
        "!pip install rdkit pandas py3Dmol"
      ],
      "metadata": {
        "colab": {
          "base_uri": "https://localhost:8080/"
        },
        "id": "-thpi5oUqItj",
        "outputId": "7bd3c8d3-81cd-44d3-ce77-335646152158"
      },
      "execution_count": 7,
      "outputs": [
        {
          "output_type": "stream",
          "name": "stdout",
          "text": [
            "Requirement already satisfied: rdkit in /usr/local/lib/python3.10/dist-packages (2024.3.3)\n",
            "Requirement already satisfied: pandas in /usr/local/lib/python3.10/dist-packages (2.0.3)\n",
            "Collecting py3Dmol\n",
            "  Downloading py3Dmol-2.2.1-py2.py3-none-any.whl.metadata (1.9 kB)\n",
            "Requirement already satisfied: numpy<2.0 in /usr/local/lib/python3.10/dist-packages (from rdkit) (1.25.2)\n",
            "Requirement already satisfied: Pillow in /usr/local/lib/python3.10/dist-packages (from rdkit) (9.4.0)\n",
            "Requirement already satisfied: python-dateutil>=2.8.2 in /usr/local/lib/python3.10/dist-packages (from pandas) (2.8.2)\n",
            "Requirement already satisfied: pytz>=2020.1 in /usr/local/lib/python3.10/dist-packages (from pandas) (2023.4)\n",
            "Requirement already satisfied: tzdata>=2022.1 in /usr/local/lib/python3.10/dist-packages (from pandas) (2024.1)\n",
            "Requirement already satisfied: six>=1.5 in /usr/local/lib/python3.10/dist-packages (from python-dateutil>=2.8.2->pandas) (1.16.0)\n",
            "Downloading py3Dmol-2.2.1-py2.py3-none-any.whl (12 kB)\n",
            "Installing collected packages: py3Dmol\n",
            "Successfully installed py3Dmol-2.2.1\n"
          ]
        }
      ]
    },
    {
      "cell_type": "code",
      "execution_count": 21,
      "metadata": {
        "id": "uiKlQozApwqK"
      },
      "outputs": [],
      "source": [
        "import pandas as pd\n",
        "from rdkit import Chem\n",
        "from rdkit.Chem import AllChem\n",
        "from rdkit.Chem import rdDistGeom\n",
        "from rdkit.Chem import rdMolAlign\n",
        "from rdkit.Chem import Draw\n",
        "from rdkit.Chem import Descriptors\n",
        "from IPython.display import display, HTML\n",
        "import py3Dmol"
      ]
    },
    {
      "cell_type": "code",
      "source": [
        "from google.colab import files\n",
        "uploaded = files.upload()"
      ],
      "metadata": {
        "colab": {
          "base_uri": "https://localhost:8080/",
          "height": 74
        },
        "id": "tR3jT9B3p6xl",
        "outputId": "d4ec09b8-d91c-46bf-9e1e-97ed5cef88b3"
      },
      "execution_count": 3,
      "outputs": [
        {
          "output_type": "display_data",
          "data": {
            "text/plain": [
              "<IPython.core.display.HTML object>"
            ],
            "text/html": [
              "\n",
              "     <input type=\"file\" id=\"files-87946880-6cac-4f9a-8a24-b8b7d81c01b0\" name=\"files[]\" multiple disabled\n",
              "        style=\"border:none\" />\n",
              "     <output id=\"result-87946880-6cac-4f9a-8a24-b8b7d81c01b0\">\n",
              "      Upload widget is only available when the cell has been executed in the\n",
              "      current browser session. Please rerun this cell to enable.\n",
              "      </output>\n",
              "      <script>// Copyright 2017 Google LLC\n",
              "//\n",
              "// Licensed under the Apache License, Version 2.0 (the \"License\");\n",
              "// you may not use this file except in compliance with the License.\n",
              "// You may obtain a copy of the License at\n",
              "//\n",
              "//      http://www.apache.org/licenses/LICENSE-2.0\n",
              "//\n",
              "// Unless required by applicable law or agreed to in writing, software\n",
              "// distributed under the License is distributed on an \"AS IS\" BASIS,\n",
              "// WITHOUT WARRANTIES OR CONDITIONS OF ANY KIND, either express or implied.\n",
              "// See the License for the specific language governing permissions and\n",
              "// limitations under the License.\n",
              "\n",
              "/**\n",
              " * @fileoverview Helpers for google.colab Python module.\n",
              " */\n",
              "(function(scope) {\n",
              "function span(text, styleAttributes = {}) {\n",
              "  const element = document.createElement('span');\n",
              "  element.textContent = text;\n",
              "  for (const key of Object.keys(styleAttributes)) {\n",
              "    element.style[key] = styleAttributes[key];\n",
              "  }\n",
              "  return element;\n",
              "}\n",
              "\n",
              "// Max number of bytes which will be uploaded at a time.\n",
              "const MAX_PAYLOAD_SIZE = 100 * 1024;\n",
              "\n",
              "function _uploadFiles(inputId, outputId) {\n",
              "  const steps = uploadFilesStep(inputId, outputId);\n",
              "  const outputElement = document.getElementById(outputId);\n",
              "  // Cache steps on the outputElement to make it available for the next call\n",
              "  // to uploadFilesContinue from Python.\n",
              "  outputElement.steps = steps;\n",
              "\n",
              "  return _uploadFilesContinue(outputId);\n",
              "}\n",
              "\n",
              "// This is roughly an async generator (not supported in the browser yet),\n",
              "// where there are multiple asynchronous steps and the Python side is going\n",
              "// to poll for completion of each step.\n",
              "// This uses a Promise to block the python side on completion of each step,\n",
              "// then passes the result of the previous step as the input to the next step.\n",
              "function _uploadFilesContinue(outputId) {\n",
              "  const outputElement = document.getElementById(outputId);\n",
              "  const steps = outputElement.steps;\n",
              "\n",
              "  const next = steps.next(outputElement.lastPromiseValue);\n",
              "  return Promise.resolve(next.value.promise).then((value) => {\n",
              "    // Cache the last promise value to make it available to the next\n",
              "    // step of the generator.\n",
              "    outputElement.lastPromiseValue = value;\n",
              "    return next.value.response;\n",
              "  });\n",
              "}\n",
              "\n",
              "/**\n",
              " * Generator function which is called between each async step of the upload\n",
              " * process.\n",
              " * @param {string} inputId Element ID of the input file picker element.\n",
              " * @param {string} outputId Element ID of the output display.\n",
              " * @return {!Iterable<!Object>} Iterable of next steps.\n",
              " */\n",
              "function* uploadFilesStep(inputId, outputId) {\n",
              "  const inputElement = document.getElementById(inputId);\n",
              "  inputElement.disabled = false;\n",
              "\n",
              "  const outputElement = document.getElementById(outputId);\n",
              "  outputElement.innerHTML = '';\n",
              "\n",
              "  const pickedPromise = new Promise((resolve) => {\n",
              "    inputElement.addEventListener('change', (e) => {\n",
              "      resolve(e.target.files);\n",
              "    });\n",
              "  });\n",
              "\n",
              "  const cancel = document.createElement('button');\n",
              "  inputElement.parentElement.appendChild(cancel);\n",
              "  cancel.textContent = 'Cancel upload';\n",
              "  const cancelPromise = new Promise((resolve) => {\n",
              "    cancel.onclick = () => {\n",
              "      resolve(null);\n",
              "    };\n",
              "  });\n",
              "\n",
              "  // Wait for the user to pick the files.\n",
              "  const files = yield {\n",
              "    promise: Promise.race([pickedPromise, cancelPromise]),\n",
              "    response: {\n",
              "      action: 'starting',\n",
              "    }\n",
              "  };\n",
              "\n",
              "  cancel.remove();\n",
              "\n",
              "  // Disable the input element since further picks are not allowed.\n",
              "  inputElement.disabled = true;\n",
              "\n",
              "  if (!files) {\n",
              "    return {\n",
              "      response: {\n",
              "        action: 'complete',\n",
              "      }\n",
              "    };\n",
              "  }\n",
              "\n",
              "  for (const file of files) {\n",
              "    const li = document.createElement('li');\n",
              "    li.append(span(file.name, {fontWeight: 'bold'}));\n",
              "    li.append(span(\n",
              "        `(${file.type || 'n/a'}) - ${file.size} bytes, ` +\n",
              "        `last modified: ${\n",
              "            file.lastModifiedDate ? file.lastModifiedDate.toLocaleDateString() :\n",
              "                                    'n/a'} - `));\n",
              "    const percent = span('0% done');\n",
              "    li.appendChild(percent);\n",
              "\n",
              "    outputElement.appendChild(li);\n",
              "\n",
              "    const fileDataPromise = new Promise((resolve) => {\n",
              "      const reader = new FileReader();\n",
              "      reader.onload = (e) => {\n",
              "        resolve(e.target.result);\n",
              "      };\n",
              "      reader.readAsArrayBuffer(file);\n",
              "    });\n",
              "    // Wait for the data to be ready.\n",
              "    let fileData = yield {\n",
              "      promise: fileDataPromise,\n",
              "      response: {\n",
              "        action: 'continue',\n",
              "      }\n",
              "    };\n",
              "\n",
              "    // Use a chunked sending to avoid message size limits. See b/62115660.\n",
              "    let position = 0;\n",
              "    do {\n",
              "      const length = Math.min(fileData.byteLength - position, MAX_PAYLOAD_SIZE);\n",
              "      const chunk = new Uint8Array(fileData, position, length);\n",
              "      position += length;\n",
              "\n",
              "      const base64 = btoa(String.fromCharCode.apply(null, chunk));\n",
              "      yield {\n",
              "        response: {\n",
              "          action: 'append',\n",
              "          file: file.name,\n",
              "          data: base64,\n",
              "        },\n",
              "      };\n",
              "\n",
              "      let percentDone = fileData.byteLength === 0 ?\n",
              "          100 :\n",
              "          Math.round((position / fileData.byteLength) * 100);\n",
              "      percent.textContent = `${percentDone}% done`;\n",
              "\n",
              "    } while (position < fileData.byteLength);\n",
              "  }\n",
              "\n",
              "  // All done.\n",
              "  yield {\n",
              "    response: {\n",
              "      action: 'complete',\n",
              "    }\n",
              "  };\n",
              "}\n",
              "\n",
              "scope.google = scope.google || {};\n",
              "scope.google.colab = scope.google.colab || {};\n",
              "scope.google.colab._files = {\n",
              "  _uploadFiles,\n",
              "  _uploadFilesContinue,\n",
              "};\n",
              "})(self);\n",
              "</script> "
            ]
          },
          "metadata": {}
        },
        {
          "output_type": "stream",
          "name": "stdout",
          "text": [
            "Saving qm9_subset.csv to qm9_subset.csv\n"
          ]
        }
      ]
    },
    {
      "cell_type": "code",
      "execution_count": 4,
      "metadata": {
        "colab": {
          "base_uri": "https://localhost:8080/"
        },
        "id": "fp6XBL4ApwqK",
        "outputId": "40833f89-626a-4bd8-c6c8-eb4fb0a4a3b1"
      },
      "outputs": [
        {
          "output_type": "stream",
          "name": "stdout",
          "text": [
            "  mol_id smiles          A           B           C      mu  alpha    homo  \\\n",
            "0  gdb_1      C  157.71180  157.709970  157.706990  0.0000  13.21 -0.3877   \n",
            "1  gdb_2      N  293.60975  293.541110  191.393970  1.6256   9.46 -0.2570   \n",
            "2  gdb_3      O  799.58812  437.903860  282.945450  1.8511   6.31 -0.2928   \n",
            "3  gdb_4    C#C    0.00000   35.610036   35.610036  0.0000  16.28 -0.2845   \n",
            "4  gdb_5    C#N    0.00000   44.593883   44.593883  2.8937  12.99 -0.3604   \n",
            "\n",
            "     lumo     gap  ...      zpve         u0       u298       h298       g298  \\\n",
            "0  0.1171  0.5048  ...  0.044749 -40.478930 -40.476062 -40.475117 -40.498597   \n",
            "1  0.0829  0.3399  ...  0.034358 -56.525887 -56.523026 -56.522082 -56.544961   \n",
            "2  0.0687  0.3615  ...  0.021375 -76.404702 -76.401867 -76.400922 -76.422349   \n",
            "3  0.0506  0.3351  ...  0.026841 -77.308427 -77.305527 -77.304583 -77.327429   \n",
            "4  0.0191  0.3796  ...  0.016601 -93.411888 -93.409370 -93.408425 -93.431246   \n",
            "\n",
            "      cv     u0_atom   u298_atom   h298_atom   g298_atom  \n",
            "0  6.469 -395.999595 -398.643290 -401.014647 -372.471772  \n",
            "1  6.316 -276.861363 -278.620271 -280.399259 -259.338802  \n",
            "2  6.002 -213.087624 -213.974294 -215.159658 -201.407171  \n",
            "3  8.574 -385.501997 -387.237686 -389.016047 -365.800724  \n",
            "4  6.278 -301.820534 -302.906752 -304.091489 -288.720028  \n",
            "\n",
            "[5 rows x 21 columns]\n"
          ]
        }
      ],
      "source": [
        "# Load the dataset\n",
        "file_path = '/content/qm9_subset.csv'  # Update with the actual path to your dataset\n",
        "data = pd.read_csv(file_path)\n",
        "\n",
        "# Display the first few rows of the dataset to identify the correct column name\n",
        "print(data.head())"
      ]
    },
    {
      "cell_type": "code",
      "execution_count": 5,
      "metadata": {
        "id": "1Irzb8MppwqL"
      },
      "outputs": [],
      "source": [
        "# Function to convert SMILES to 3D conformer\n",
        "def smiles_to_3d(smiles, num_conformers=1):\n",
        "    try:\n",
        "        # Generate RDKit molecule from SMILES\n",
        "        mol = Chem.MolFromSmiles(smiles)\n",
        "        if mol is None:\n",
        "            raise ValueError(\"Invalid SMILES string\")\n",
        "\n",
        "        # Add hydrogens\n",
        "        mol = Chem.AddHs(mol)\n",
        "\n",
        "        # Generate 3D conformers\n",
        "        cids = AllChem.EmbedMultipleConfs(mol, numConfs=num_conformers, pruneRmsThresh=0.5)\n",
        "\n",
        "        # Optimize conformers\n",
        "        for cid in cids:\n",
        "            AllChem.UFFOptimizeMolecule(mol, confId=cid)\n",
        "\n",
        "        # Align the conformers to the first conformer\n",
        "        rdMolAlign.AlignMolConformers(mol)\n",
        "\n",
        "        return mol\n",
        "    except Exception as e:\n",
        "        print(f\"Error processing SMILES {smiles}: {e}\")\n",
        "        return None"
      ]
    },
    {
      "cell_type": "code",
      "source": [
        "# Function to visualize molecule with py3Dmol\n",
        "def visualize_molecule(mol):\n",
        "    block = Chem.MolToMolBlock(mol)\n",
        "    viewer = py3Dmol.view(width=400, height=400)\n",
        "    viewer.addModel(block, 'mol')\n",
        "    viewer.setStyle({'stick': {}})\n",
        "    viewer.zoomTo()\n",
        "    return viewer"
      ],
      "metadata": {
        "id": "R-luM0purh0Z"
      },
      "execution_count": 9,
      "outputs": []
    },
    {
      "cell_type": "code",
      "source": [
        "print(\"Enter number of molicule want to display:\")\n",
        "input_number = int(input())"
      ],
      "metadata": {
        "colab": {
          "base_uri": "https://localhost:8080/"
        },
        "id": "O1_qkiJ1u60u",
        "outputId": "993f67a1-aec1-458d-c153-25f2273bee2c"
      },
      "execution_count": 25,
      "outputs": [
        {
          "name": "stdout",
          "output_type": "stream",
          "text": [
            "Enter number of molicule want to display:\n",
            "25\n"
          ]
        }
      ]
    },
    {
      "cell_type": "code",
      "execution_count": 26,
      "metadata": {
        "colab": {
          "base_uri": "https://localhost:8080/",
          "height": 1000
        },
        "id": "LMP-k26FpwqM",
        "outputId": "89129079-050a-4e9f-add8-724f14d8a42c"
      },
      "outputs": [
        {
          "output_type": "stream",
          "name": "stdout",
          "text": [
            "Molecule 1 (SMILES: C):\n"
          ]
        },
        {
          "output_type": "display_data",
          "data": {
            "text/plain": [
              "<PIL.PngImagePlugin.PngImageFile image mode=RGB size=300x300>"
            ],
            "image/png": "[encoded data removed]"
          },
          "metadata": {}
        },
        {
          "output_type": "stream",
          "name": "stdout",
          "text": [
            "3D Visualization:\n"
          ]
        },
        {
          "output_type": "display_data",
          "data": {
            "application/3dmoljs_load.v0": "<div id=\"3dmolviewer_1722009117866577\"  style=\"position: relative; width: 400px; height: 400px;\">\n        <p id=\"3dmolwarning_1722009117866577\" style=\"background-color:#ffcccc;color:black\">3Dmol.js failed to load for some reason.  Please check your browser console for error messages.<br></p>\n        </div>\n<script>\n\nvar loadScriptAsync = function(uri){\n  return new Promise((resolve, reject) => {\n    //this is to ignore the existence of requirejs amd\n    var savedexports, savedmodule;\n    if (typeof exports !== 'undefined') savedexports = exports;\n    else exports = {}\n    if (typeof module !== 'undefined') savedmodule = module;\n    else module = {}\n\n    var tag = document.createElement('script');\n    tag.src = uri;\n    tag.async = true;\n    tag.onload = () => {\n        exports = savedexports;\n        module = savedmodule;\n        resolve();\n    };\n  var firstScriptTag = document.getElementsByTagName('script')[0];\n  firstScriptTag.parentNode.insertBefore(tag, firstScriptTag);\n});\n};\n\nif(typeof $3Dmolpromise === 'undefined') {\n$3Dmolpromise = null;\n  $3Dmolpromise = loadScriptAsync('https://cdnjs.cloudflare.com/ajax/libs/3Dmol/2.2.1-post1/3Dmol-min.js');\n}\n\nvar viewer_1722009117866577 = null;\nvar warn = document.getElementById(\"3dmolwarning_1722009117866577\");\nif(warn) {\n    warn.parentNode.removeChild(warn);\n}\n$3Dmolpromise.then(function() {\nviewer_1722009117866577 = $3Dmol.createViewer(document.getElementById(\"3dmolviewer_1722009117866577\"),{backgroundColor:\"white\"});\nviewer_1722009117866577.zoomTo();\n\tviewer_1722009117866577.addModel(\"\\n     RDKit          3D\\n\\n  5  4  0  0  0  0  0  0  0  0999 V2000\\n   -0.0000   -0.0000   -0.0000 C   0  0  0  0  0  0  0  0  0  0  0  0\\n    0.8797   -0.6699    0.0905 H   0  0  0  0  0  0  0  0  0  0  0  0\\n    0.2900    0.9190   -0.5497 H   0  0  0  0  0  0  0  0  0  0  0  0\\n   -0.3623    0.2734    1.0123 H   0  0  0  0  0  0  0  0  0  0  0  0\\n   -0.8074   -0.5225   -0.5531 H   0  0  0  0  0  0  0  0  0  0  0  0\\n  1  2  1  0\\n  1  3  1  0\\n  1  4  1  0\\n  1  5  1  0\\nM  END\\n\",\"mol\");\n\tviewer_1722009117866577.setStyle({\"stick\": {}});\n\tviewer_1722009117866577.zoomTo();\nviewer_1722009117866577.render();\n});\n</script>",
            "text/html": [
              "<div id=\"3dmolviewer_1722009117866577\"  style=\"position: relative; width: 400px; height: 400px;\">\n",
              "        <p id=\"3dmolwarning_1722009117866577\" style=\"background-color:#ffcccc;color:black\">3Dmol.js failed to load for some reason.  Please check your browser console for error messages.<br></p>\n",
              "        </div>\n",
              "<script>\n",
              "\n",
              "var loadScriptAsync = function(uri){\n",
              "  return new Promise((resolve, reject) => {\n",
              "    //this is to ignore the existence of requirejs amd\n",
              "    var savedexports, savedmodule;\n",
              "    if (typeof exports !== 'undefined') savedexports = exports;\n",
              "    else exports = {}\n",
              "    if (typeof module !== 'undefined') savedmodule = module;\n",
              "    else module = {}\n",
              "\n",
              "    var tag = document.createElement('script');\n",
              "    tag.src = uri;\n",
              "    tag.async = true;\n",
              "    tag.onload = () => {\n",
              "        exports = savedexports;\n",
              "        module = savedmodule;\n",
              "        resolve();\n",
              "    };\n",
              "  var firstScriptTag = document.getElementsByTagName('script')[0];\n",
              "  firstScriptTag.parentNode.insertBefore(tag, firstScriptTag);\n",
              "});\n",
              "};\n",
              "\n",
              "if(typeof $3Dmolpromise === 'undefined') {\n",
              "$3Dmolpromise = null;\n",
              "  $3Dmolpromise = loadScriptAsync('https://cdnjs.cloudflare.com/ajax/libs/3Dmol/2.2.1-post1/3Dmol-min.js');\n",
              "}\n",
              "\n",
              "var viewer_1722009117866577 = null;\n",
              "var warn = document.getElementById(\"3dmolwarning_1722009117866577\");\n",
              "if(warn) {\n",
              "    warn.parentNode.removeChild(warn);\n",
              "}\n",
              "$3Dmolpromise.then(function() {\n",
              "viewer_1722009117866577 = $3Dmol.createViewer(document.getElementById(\"3dmolviewer_1722009117866577\"),{backgroundColor:\"white\"});\n",
              "viewer_1722009117866577.zoomTo();\n",
              "\tviewer_1722009117866577.addModel(\"\\n     RDKit          3D\\n\\n  5  4  0  0  0  0  0  0  0  0999 V2000\\n   -0.0000   -0.0000   -0.0000 C   0  0  0  0  0  0  0  0  0  0  0  0\\n    0.8797   -0.6699    0.0905 H   0  0  0  0  0  0  0  0  0  0  0  0\\n    0.2900    0.9190   -0.5497 H   0  0  0  0  0  0  0  0  0  0  0  0\\n   -0.3623    0.2734    1.0123 H   0  0  0  0  0  0  0  0  0  0  0  0\\n   -0.8074   -0.5225   -0.5531 H   0  0  0  0  0  0  0  0  0  0  0  0\\n  1  2  1  0\\n  1  3  1  0\\n  1  4  1  0\\n  1  5  1  0\\nM  END\\n\",\"mol\");\n",
              "\tviewer_1722009117866577.setStyle({\"stick\": {}});\n",
              "\tviewer_1722009117866577.zoomTo();\n",
              "viewer_1722009117866577.render();\n",
              "});\n",
              "</script>"
            ]
          },
          "metadata": {}
        },
        {
          "output_type": "stream",
          "name": "stdout",
          "text": [
            "Molecule 2 (SMILES: N):\n"
          ]
        },
        {
          "output_type": "display_data",
          "data": {
            "text/plain": [
              "<PIL.PngImagePlugin.PngImageFile image mode=RGB size=300x300>"
            ],
            "image/png": "[encoded data removed]"
          },
          "metadata": {}
        },
        {
          "output_type": "stream",
          "name": "stdout",
          "text": [
            "3D Visualization:\n"
          ]
        },
        {
          "output_type": "display_data",
          "data": {
            "application/3dmoljs_load.v0": "<div id=\"3dmolviewer_17220091178921013\"  style=\"position: relative; width: 400px; height: 400px;\">\n        <p id=\"3dmolwarning_17220091178921013\" style=\"background-color:#ffcccc;color:black\">3Dmol.js failed to load for some reason.  Please check your browser console for error messages.<br></p>\n        </div>\n<script>\n\nvar loadScriptAsync = function(uri){\n  return new Promise((resolve, reject) => {\n    //this is to ignore the existence of requirejs amd\n    var savedexports, savedmodule;\n    if (typeof exports !== 'undefined') savedexports = exports;\n    else exports = {}\n    if (typeof module !== 'undefined') savedmodule = module;\n    else module = {}\n\n    var tag = document.createElement('script');\n    tag.src = uri;\n    tag.async = true;\n    tag.onload = () => {\n        exports = savedexports;\n        module = savedmodule;\n        resolve();\n    };\n  var firstScriptTag = document.getElementsByTagName('script')[0];\n  firstScriptTag.parentNode.insertBefore(tag, firstScriptTag);\n});\n};\n\nif(typeof $3Dmolpromise === 'undefined') {\n$3Dmolpromise = null;\n  $3Dmolpromise = loadScriptAsync('https://cdnjs.cloudflare.com/ajax/libs/3Dmol/2.2.1-post1/3Dmol-min.js');\n}\n\nvar viewer_17220091178921013 = null;\nvar warn = document.getElementById(\"3dmolwarning_17220091178921013\");\nif(warn) {\n    warn.parentNode.removeChild(warn);\n}\n$3Dmolpromise.then(function() {\nviewer_17220091178921013 = $3Dmol.createViewer(document.getElementById(\"3dmolviewer_17220091178921013\"),{backgroundColor:\"white\"});\nviewer_17220091178921013.zoomTo();\n\tviewer_17220091178921013.addModel(\"\\n     RDKit          3D\\n\\n  4  3  0  0  0  0  0  0  0  0999 V2000\\n    0.0036    0.0169    0.2944 N   0  0  0  0  0  0  0  0  0  0  0  0\\n    0.9167   -0.3116   -0.0918 H   0  0  0  0  0  0  0  0  0  0  0  0\\n   -0.7250   -0.6461   -0.0524 H   0  0  0  0  0  0  0  0  0  0  0  0\\n   -0.1953    0.9408   -0.1502 H   0  0  0  0  0  0  0  0  0  0  0  0\\n  1  2  1  0\\n  1  3  1  0\\n  1  4  1  0\\nM  END\\n\",\"mol\");\n\tviewer_17220091178921013.setStyle({\"stick\": {}});\n\tviewer_17220091178921013.zoomTo();\nviewer_17220091178921013.render();\n});\n</script>",
            "text/html": [
              "<div id=\"3dmolviewer_17220091178921013\"  style=\"position: relative; width: 400px; height: 400px;\">\n",
              "        <p id=\"3dmolwarning_17220091178921013\" style=\"background-color:#ffcccc;color:black\">3Dmol.js failed to load for some reason.  Please check your browser console for error messages.<br></p>\n",
              "        </div>\n",
              "<script>\n",
              "\n",
              "var loadScriptAsync = function(uri){\n",
              "  return new Promise((resolve, reject) => {\n",
              "    //this is to ignore the existence of requirejs amd\n",
              "    var savedexports, savedmodule;\n",
              "    if (typeof exports !== 'undefined') savedexports = exports;\n",
              "    else exports = {}\n",
              "    if (typeof module !== 'undefined') savedmodule = module;\n",
              "    else module = {}\n",
              "\n",
              "    var tag = document.createElement('script');\n",
              "    tag.src = uri;\n",
              "    tag.async = true;\n",
              "    tag.onload = () => {\n",
              "        exports = savedexports;\n",
              "        module = savedmodule;\n",
              "        resolve();\n",
              "    };\n",
              "  var firstScriptTag = document.getElementsByTagName('script')[0];\n",
              "  firstScriptTag.parentNode.insertBefore(tag, firstScriptTag);\n",
              "});\n",
              "};\n",
              "\n",
              "if(typeof $3Dmolpromise === 'undefined') {\n",
              "$3Dmolpromise = null;\n",
              "  $3Dmolpromise = loadScriptAsync('https://cdnjs.cloudflare.com/ajax/libs/3Dmol/2.2.1-post1/3Dmol-min.js');\n",
              "}\n",
              "\n",
              "var viewer_17220091178921013 = null;\n",
              "var warn = document.getElementById(\"3dmolwarning_17220091178921013\");\n",
              "if(warn) {\n",
              "    warn.parentNode.removeChild(warn);\n",
              "}\n",
              "$3Dmolpromise.then(function() {\n",
              "viewer_17220091178921013 = $3Dmol.createViewer(document.getElementById(\"3dmolviewer_17220091178921013\"),{backgroundColor:\"white\"});\n",
              "viewer_17220091178921013.zoomTo();\n",
              "\tviewer_17220091178921013.addModel(\"\\n     RDKit          3D\\n\\n  4  3  0  0  0  0  0  0  0  0999 V2000\\n    0.0036    0.0169    0.2944 N   0  0  0  0  0  0  0  0  0  0  0  0\\n    0.9167   -0.3116   -0.0918 H   0  0  0  0  0  0  0  0  0  0  0  0\\n   -0.7250   -0.6461   -0.0524 H   0  0  0  0  0  0  0  0  0  0  0  0\\n   -0.1953    0.9408   -0.1502 H   0  0  0  0  0  0  0  0  0  0  0  0\\n  1  2  1  0\\n  1  3  1  0\\n  1  4  1  0\\nM  END\\n\",\"mol\");\n",
              "\tviewer_17220091178921013.setStyle({\"stick\": {}});\n",
              "\tviewer_17220091178921013.zoomTo();\n",
              "viewer_17220091178921013.render();\n",
              "});\n",
              "</script>"
            ]
          },
          "metadata": {}
        },
        {
          "output_type": "stream",
          "name": "stdout",
          "text": [
            "Molecule 3 (SMILES: O):\n"
          ]
        },
        {
          "output_type": "display_data",
          "data": {
            "text/plain": [
              "<PIL.PngImagePlugin.PngImageFile image mode=RGB size=300x300>"
            ],
            "image/png": "[encoded data removed]"
          },
          "metadata": {}
        },
        {
          "output_type": "stream",
          "name": "stdout",
          "text": [
            "3D Visualization:\n"
          ]
        },
        {
          "output_type": "display_data",
          "data": {
            "application/3dmoljs_load.v0": "<div id=\"3dmolviewer_17220091179164462\"  style=\"position: relative; width: 400px; height: 400px;\">\n        <p id=\"3dmolwarning_17220091179164462\" style=\"background-color:#ffcccc;color:black\">3Dmol.js failed to load for some reason.  Please check your browser console for error messages.<br></p>\n        </div>\n<script>\n\nvar loadScriptAsync = function(uri){\n  return new Promise((resolve, reject) => {\n    //this is to ignore the existence of requirejs amd\n    var savedexports, savedmodule;\n    if (typeof exports !== 'undefined') savedexports = exports;\n    else exports = {}\n    if (typeof module !== 'undefined') savedmodule = module;\n    else module = {}\n\n    var tag = document.createElement('script');\n    tag.src = uri;\n    tag.async = true;\n    tag.onload = () => {\n        exports = savedexports;\n        module = savedmodule;\n        resolve();\n    };\n  var firstScriptTag = document.getElementsByTagName('script')[0];\n  firstScriptTag.parentNode.insertBefore(tag, firstScriptTag);\n});\n};\n\nif(typeof $3Dmolpromise === 'undefined') {\n$3Dmolpromise = null;\n  $3Dmolpromise = loadScriptAsync('https://cdnjs.cloudflare.com/ajax/libs/3Dmol/2.2.1-post1/3Dmol-min.js');\n}\n\nvar viewer_17220091179164462 = null;\nvar warn = document.getElementById(\"3dmolwarning_17220091179164462\");\nif(warn) {\n    warn.parentNode.removeChild(warn);\n}\n$3Dmolpromise.then(function() {\nviewer_17220091179164462 = $3Dmol.createViewer(document.getElementById(\"3dmolviewer_17220091179164462\"),{backgroundColor:\"white\"});\nviewer_17220091179164462.zoomTo();\n\tviewer_17220091179164462.addModel(\"\\n     RDKit          3D\\n\\n  3  2  0  0  0  0  0  0  0  0999 V2000\\n   -0.0041    0.4041    0.0000 O   0  0  0  0  0  0  0  0  0  0  0  0\\n    0.7850   -0.1941    0.0000 H   0  0  0  0  0  0  0  0  0  0  0  0\\n   -0.7809   -0.2100    0.0000 H   0  0  0  0  0  0  0  0  0  0  0  0\\n  1  2  1  0\\n  1  3  1  0\\nM  END\\n\",\"mol\");\n\tviewer_17220091179164462.setStyle({\"stick\": {}});\n\tviewer_17220091179164462.zoomTo();\nviewer_17220091179164462.render();\n});\n</script>",
            "text/html": [
              "<div id=\"3dmolviewer_17220091179164462\"  style=\"position: relative; width: 400px; height: 400px;\">\n",
              "        <p id=\"3dmolwarning_17220091179164462\" style=\"background-color:#ffcccc;color:black\">3Dmol.js failed to load for some reason.  Please check your browser console for error messages.<br></p>\n",
              "        </div>\n",
              "<script>\n",
              "\n",
              "var loadScriptAsync = function(uri){\n",
              "  return new Promise((resolve, reject) => {\n",
              "    //this is to ignore the existence of requirejs amd\n",
              "    var savedexports, savedmodule;\n",
              "    if (typeof exports !== 'undefined') savedexports = exports;\n",
              "    else exports = {}\n",
              "    if (typeof module !== 'undefined') savedmodule = module;\n",
              "    else module = {}\n",
              "\n",
              "    var tag = document.createElement('script');\n",
              "    tag.src = uri;\n",
              "    tag.async = true;\n",
              "    tag.onload = () => {\n",
              "        exports = savedexports;\n",
              "        module = savedmodule;\n",
              "        resolve();\n",
              "    };\n",
              "  var firstScriptTag = document.getElementsByTagName('script')[0];\n",
              "  firstScriptTag.parentNode.insertBefore(tag, firstScriptTag);\n",
              "});\n",
              "};\n",
              "\n",
              "if(typeof $3Dmolpromise === 'undefined') {\n",
              "$3Dmolpromise = null;\n",
              "  $3Dmolpromise = loadScriptAsync('https://cdnjs.cloudflare.com/ajax/libs/3Dmol/2.2.1-post1/3Dmol-min.js');\n",
              "}\n",
              "\n",
              "var viewer_17220091179164462 = null;\n",
              "var warn = document.getElementById(\"3dmolwarning_17220091179164462\");\n",
              "if(warn) {\n",
              "    warn.parentNode.removeChild(warn);\n",
              "}\n",
              "$3Dmolpromise.then(function() {\n",
              "viewer_17220091179164462 = $3Dmol.createViewer(document.getElementById(\"3dmolviewer_17220091179164462\"),{backgroundColor:\"white\"});\n",
              "viewer_17220091179164462.zoomTo();\n",
              "\tviewer_17220091179164462.addModel(\"\\n     RDKit          3D\\n\\n  3  2  0  0  0  0  0  0  0  0999 V2000\\n   -0.0041    0.4041    0.0000 O   0  0  0  0  0  0  0  0  0  0  0  0\\n    0.7850   -0.1941    0.0000 H   0  0  0  0  0  0  0  0  0  0  0  0\\n   -0.7809   -0.2100    0.0000 H   0  0  0  0  0  0  0  0  0  0  0  0\\n  1  2  1  0\\n  1  3  1  0\\nM  END\\n\",\"mol\");\n",
              "\tviewer_17220091179164462.setStyle({\"stick\": {}});\n",
              "\tviewer_17220091179164462.zoomTo();\n",
              "viewer_17220091179164462.render();\n",
              "});\n",
              "</script>"
            ]
          },
          "metadata": {}
        },
        {
          "output_type": "stream",
          "name": "stdout",
          "text": [
            "Molecule 4 (SMILES: C#C):\n"
          ]
        },
        {
          "output_type": "display_data",
          "data": {
            "text/plain": [
              "<PIL.PngImagePlugin.PngImageFile image mode=RGB size=300x300>"
            ],
            "image/png": "[encoded data removed]"
          },
          "metadata": {}
        },
        {
          "output_type": "stream",
          "name": "stdout",
          "text": [
            "3D Visualization:\n"
          ]
        },
        {
          "output_type": "display_data",
          "data": {
            "application/3dmoljs_load.v0": "<div id=\"3dmolviewer_17220091179432633\"  style=\"position: relative; width: 400px; height: 400px;\">\n        <p id=\"3dmolwarning_17220091179432633\" style=\"background-color:#ffcccc;color:black\">3Dmol.js failed to load for some reason.  Please check your browser console for error messages.<br></p>\n        </div>\n<script>\n\nvar loadScriptAsync = function(uri){\n  return new Promise((resolve, reject) => {\n    //this is to ignore the existence of requirejs amd\n    var savedexports, savedmodule;\n    if (typeof exports !== 'undefined') savedexports = exports;\n    else exports = {}\n    if (typeof module !== 'undefined') savedmodule = module;\n    else module = {}\n\n    var tag = document.createElement('script');\n    tag.src = uri;\n    tag.async = true;\n    tag.onload = () => {\n        exports = savedexports;\n        module = savedmodule;\n        resolve();\n    };\n  var firstScriptTag = document.getElementsByTagName('script')[0];\n  firstScriptTag.parentNode.insertBefore(tag, firstScriptTag);\n});\n};\n\nif(typeof $3Dmolpromise === 'undefined') {\n$3Dmolpromise = null;\n  $3Dmolpromise = loadScriptAsync('https://cdnjs.cloudflare.com/ajax/libs/3Dmol/2.2.1-post1/3Dmol-min.js');\n}\n\nvar viewer_17220091179432633 = null;\nvar warn = document.getElementById(\"3dmolwarning_17220091179432633\");\nif(warn) {\n    warn.parentNode.removeChild(warn);\n}\n$3Dmolpromise.then(function() {\nviewer_17220091179432633 = $3Dmol.createViewer(document.getElementById(\"3dmolviewer_17220091179432633\"),{backgroundColor:\"white\"});\nviewer_17220091179432633.zoomTo();\n\tviewer_17220091179432633.addModel(\"\\n     RDKit          3D\\n\\n  4  3  0  0  0  0  0  0  0  0999 V2000\\n    0.5914   -0.1819    0.0385 C   0  0  0  0  0  0  0  0  0  0  0  0\\n   -0.5914    0.0366   -0.0385 C   0  0  0  0  0  0  0  0  0  0  0  0\\n    1.6301   -0.3737    0.1060 H   0  0  0  0  0  0  0  0  0  0  0  0\\n   -1.6301    0.2285   -0.1060 H   0  0  0  0  0  0  0  0  0  0  0  0\\n  1  2  3  0\\n  1  3  1  0\\n  2  4  1  0\\nM  END\\n\",\"mol\");\n\tviewer_17220091179432633.setStyle({\"stick\": {}});\n\tviewer_17220091179432633.zoomTo();\nviewer_17220091179432633.render();\n});\n</script>",
            "text/html": [
              "<div id=\"3dmolviewer_17220091179432633\"  style=\"position: relative; width: 400px; height: 400px;\">\n",
              "        <p id=\"3dmolwarning_17220091179432633\" style=\"background-color:#ffcccc;color:black\">3Dmol.js failed to load for some reason.  Please check your browser console for error messages.<br></p>\n",
              "        </div>\n",
              "<script>\n",
              "\n",
              "var loadScriptAsync = function(uri){\n",
              "  return new Promise((resolve, reject) => {\n",
              "    //this is to ignore the existence of requirejs amd\n",
              "    var savedexports, savedmodule;\n",
              "    if (typeof exports !== 'undefined') savedexports = exports;\n",
              "    else exports = {}\n",
              "    if (typeof module !== 'undefined') savedmodule = module;\n",
              "    else module = {}\n",
              "\n",
              "    var tag = document.createElement('script');\n",
              "    tag.src = uri;\n",
              "    tag.async = true;\n",
              "    tag.onload = () => {\n",
              "        exports = savedexports;\n",
              "        module = savedmodule;\n",
              "        resolve();\n",
              "    };\n",
              "  var firstScriptTag = document.getElementsByTagName('script')[0];\n",
              "  firstScriptTag.parentNode.insertBefore(tag, firstScriptTag);\n",
              "});\n",
              "};\n",
              "\n",
              "if(typeof $3Dmolpromise === 'undefined') {\n",
              "$3Dmolpromise = null;\n",
              "  $3Dmolpromise = loadScriptAsync('https://cdnjs.cloudflare.com/ajax/libs/3Dmol/2.2.1-post1/3Dmol-min.js');\n",
              "}\n",
              "\n",
              "var viewer_17220091179432633 = null;\n",
              "var warn = document.getElementById(\"3dmolwarning_17220091179432633\");\n",
              "if(warn) {\n",
              "    warn.parentNode.removeChild(warn);\n",
              "}\n",
              "$3Dmolpromise.then(function() {\n",
              "viewer_17220091179432633 = $3Dmol.createViewer(document.getElementById(\"3dmolviewer_17220091179432633\"),{backgroundColor:\"white\"});\n",
              "viewer_17220091179432633.zoomTo();\n",
              "\tviewer_17220091179432633.addModel(\"\\n     RDKit          3D\\n\\n  4  3  0  0  0  0  0  0  0  0999 V2000\\n    0.5914   -0.1819    0.0385 C   0  0  0  0  0  0  0  0  0  0  0  0\\n   -0.5914    0.0366   -0.0385 C   0  0  0  0  0  0  0  0  0  0  0  0\\n    1.6301   -0.3737    0.1060 H   0  0  0  0  0  0  0  0  0  0  0  0\\n   -1.6301    0.2285   -0.1060 H   0  0  0  0  0  0  0  0  0  0  0  0\\n  1  2  3  0\\n  1  3  1  0\\n  2  4  1  0\\nM  END\\n\",\"mol\");\n",
              "\tviewer_17220091179432633.setStyle({\"stick\": {}});\n",
              "\tviewer_17220091179432633.zoomTo();\n",
              "viewer_17220091179432633.render();\n",
              "});\n",
              "</script>"
            ]
          },
          "metadata": {}
        },
        {
          "output_type": "stream",
          "name": "stdout",
          "text": [
            "Molecule 5 (SMILES: C#N):\n"
          ]
        },
        {
          "output_type": "display_data",
          "data": {
            "text/plain": [
              "<PIL.PngImagePlugin.PngImageFile image mode=RGB size=300x300>"
            ],
            "image/png": "[encoded data removed]"
          },
          "metadata": {}
        },
        {
          "output_type": "stream",
          "name": "stdout",
          "text": [
            "3D Visualization:\n"
          ]
        },
        {
          "output_type": "display_data",
          "data": {
            "application/3dmoljs_load.v0": "<div id=\"3dmolviewer_17220091179703567\"  style=\"position: relative; width: 400px; height: 400px;\">\n        <p id=\"3dmolwarning_17220091179703567\" style=\"background-color:#ffcccc;color:black\">3Dmol.js failed to load for some reason.  Please check your browser console for error messages.<br></p>\n        </div>\n<script>\n\nvar loadScriptAsync = function(uri){\n  return new Promise((resolve, reject) => {\n    //this is to ignore the existence of requirejs amd\n    var savedexports, savedmodule;\n    if (typeof exports !== 'undefined') savedexports = exports;\n    else exports = {}\n    if (typeof module !== 'undefined') savedmodule = module;\n    else module = {}\n\n    var tag = document.createElement('script');\n    tag.src = uri;\n    tag.async = true;\n    tag.onload = () => {\n        exports = savedexports;\n        module = savedmodule;\n        resolve();\n    };\n  var firstScriptTag = document.getElementsByTagName('script')[0];\n  firstScriptTag.parentNode.insertBefore(tag, firstScriptTag);\n});\n};\n\nif(typeof $3Dmolpromise === 'undefined') {\n$3Dmolpromise = null;\n  $3Dmolpromise = loadScriptAsync('https://cdnjs.cloudflare.com/ajax/libs/3Dmol/2.2.1-post1/3Dmol-min.js');\n}\n\nvar viewer_17220091179703567 = null;\nvar warn = document.getElementById(\"3dmolwarning_17220091179703567\");\nif(warn) {\n    warn.parentNode.removeChild(warn);\n}\n$3Dmolpromise.then(function() {\nviewer_17220091179703567 = $3Dmol.createViewer(document.getElementById(\"3dmolviewer_17220091179703567\"),{backgroundColor:\"white\"});\nviewer_17220091179703567.zoomTo();\n\tviewer_17220091179703567.addModel(\"\\n     RDKit          3D\\n\\n  3  2  0  0  0  0  0  0  0  0999 V2000\\n    0.0197   -0.2087    0.0000 C   0  0  0  0  0  0  0  0  0  0  0  0\\n   -0.6744    0.7171    0.0000 N   0  0  0  0  0  0  0  0  0  0  0  0\\n    0.6546   -1.0556    0.0000 H   0  0  0  0  0  0  0  0  0  0  0  0\\n  1  2  3  0\\n  1  3  1  0\\nM  END\\n\",\"mol\");\n\tviewer_17220091179703567.setStyle({\"stick\": {}});\n\tviewer_17220091179703567.zoomTo();\nviewer_17220091179703567.render();\n});\n</script>",
            "text/html": [
              "<div id=\"3dmolviewer_17220091179703567\"  style=\"position: relative; width: 400px; height: 400px;\">\n",
              "        <p id=\"3dmolwarning_17220091179703567\" style=\"background-color:#ffcccc;color:black\">3Dmol.js failed to load for some reason.  Please check your browser console for error messages.<br></p>\n",
              "        </div>\n",
              "<script>\n",
              "\n",
              "var loadScriptAsync = function(uri){\n",
              "  return new Promise((resolve, reject) => {\n",
              "    //this is to ignore the existence of requirejs amd\n",
              "    var savedexports, savedmodule;\n",
              "    if (typeof exports !== 'undefined') savedexports = exports;\n",
              "    else exports = {}\n",
              "    if (typeof module !== 'undefined') savedmodule = module;\n",
              "    else module = {}\n",
              "\n",
              "    var tag = document.createElement('script');\n",
              "    tag.src = uri;\n",
              "    tag.async = true;\n",
              "    tag.onload = () => {\n",
              "        exports = savedexports;\n",
              "        module = savedmodule;\n",
              "        resolve();\n",
              "    };\n",
              "  var firstScriptTag = document.getElementsByTagName('script')[0];\n",
              "  firstScriptTag.parentNode.insertBefore(tag, firstScriptTag);\n",
              "});\n",
              "};\n",
              "\n",
              "if(typeof $3Dmolpromise === 'undefined') {\n",
              "$3Dmolpromise = null;\n",
              "  $3Dmolpromise = loadScriptAsync('https://cdnjs.cloudflare.com/ajax/libs/3Dmol/2.2.1-post1/3Dmol-min.js');\n",
              "}\n",
              "\n",
              "var viewer_17220091179703567 = null;\n",
              "var warn = document.getElementById(\"3dmolwarning_17220091179703567\");\n",
              "if(warn) {\n",
              "    warn.parentNode.removeChild(warn);\n",
              "}\n",
              "$3Dmolpromise.then(function() {\n",
              "viewer_17220091179703567 = $3Dmol.createViewer(document.getElementById(\"3dmolviewer_17220091179703567\"),{backgroundColor:\"white\"});\n",
              "viewer_17220091179703567.zoomTo();\n",
              "\tviewer_17220091179703567.addModel(\"\\n     RDKit          3D\\n\\n  3  2  0  0  0  0  0  0  0  0999 V2000\\n    0.0197   -0.2087    0.0000 C   0  0  0  0  0  0  0  0  0  0  0  0\\n   -0.6744    0.7171    0.0000 N   0  0  0  0  0  0  0  0  0  0  0  0\\n    0.6546   -1.0556    0.0000 H   0  0  0  0  0  0  0  0  0  0  0  0\\n  1  2  3  0\\n  1  3  1  0\\nM  END\\n\",\"mol\");\n",
              "\tviewer_17220091179703567.setStyle({\"stick\": {}});\n",
              "\tviewer_17220091179703567.zoomTo();\n",
              "viewer_17220091179703567.render();\n",
              "});\n",
              "</script>"
            ]
          },
          "metadata": {}
        },
        {
          "output_type": "stream",
          "name": "stdout",
          "text": [
            "Molecule 6 (SMILES: C=O):\n"
          ]
        },
        {
          "output_type": "display_data",
          "data": {
            "text/plain": [
              "<PIL.PngImagePlugin.PngImageFile image mode=RGB size=300x300>"
            ],
            "image/png": "[encoded data removed]"
          },
          "metadata": {}
        },
        {
          "output_type": "stream",
          "name": "stdout",
          "text": [
            "3D Visualization:\n"
          ]
        },
        {
          "output_type": "display_data",
          "data": {
            "application/3dmoljs_load.v0": "<div id=\"3dmolviewer_17220091179980106\"  style=\"position: relative; width: 400px; height: 400px;\">\n        <p id=\"3dmolwarning_17220091179980106\" style=\"background-color:#ffcccc;color:black\">3Dmol.js failed to load for some reason.  Please check your browser console for error messages.<br></p>\n        </div>\n<script>\n\nvar loadScriptAsync = function(uri){\n  return new Promise((resolve, reject) => {\n    //this is to ignore the existence of requirejs amd\n    var savedexports, savedmodule;\n    if (typeof exports !== 'undefined') savedexports = exports;\n    else exports = {}\n    if (typeof module !== 'undefined') savedmodule = module;\n    else module = {}\n\n    var tag = document.createElement('script');\n    tag.src = uri;\n    tag.async = true;\n    tag.onload = () => {\n        exports = savedexports;\n        module = savedmodule;\n        resolve();\n    };\n  var firstScriptTag = document.getElementsByTagName('script')[0];\n  firstScriptTag.parentNode.insertBefore(tag, firstScriptTag);\n});\n};\n\nif(typeof $3Dmolpromise === 'undefined') {\n$3Dmolpromise = null;\n  $3Dmolpromise = loadScriptAsync('https://cdnjs.cloudflare.com/ajax/libs/3Dmol/2.2.1-post1/3Dmol-min.js');\n}\n\nvar viewer_17220091179980106 = null;\nvar warn = document.getElementById(\"3dmolwarning_17220091179980106\");\nif(warn) {\n    warn.parentNode.removeChild(warn);\n}\n$3Dmolpromise.then(function() {\nviewer_17220091179980106 = $3Dmol.createViewer(document.getElementById(\"3dmolviewer_17220091179980106\"),{backgroundColor:\"white\"});\nviewer_17220091179980106.zoomTo();\n\tviewer_17220091179980106.addModel(\"\\n     RDKit          3D\\n\\n  4  3  0  0  0  0  0  0  0  0999 V2000\\n   -0.0333    0.0055    0.0001 C   0  0  0  0  0  0  0  0  0  0  0  0\\n    1.1697   -0.1939   -0.0047 O   0  0  0  0  0  0  0  0  0  0  0  0\\n   -0.4147    1.0206   -0.0087 H   0  0  0  0  0  0  0  0  0  0  0  0\\n   -0.7217   -0.8323    0.0133 H   0  0  0  0  0  0  0  0  0  0  0  0\\n  1  2  2  0\\n  1  3  1  0\\n  1  4  1  0\\nM  END\\n\",\"mol\");\n\tviewer_17220091179980106.setStyle({\"stick\": {}});\n\tviewer_17220091179980106.zoomTo();\nviewer_17220091179980106.render();\n});\n</script>",
            "text/html": [
              "<div id=\"3dmolviewer_17220091179980106\"  style=\"position: relative; width: 400px; height: 400px;\">\n",
              "        <p id=\"3dmolwarning_17220091179980106\" style=\"background-color:#ffcccc;color:black\">3Dmol.js failed to load for some reason.  Please check your browser console for error messages.<br></p>\n",
              "        </div>\n",
              "<script>\n",
              "\n",
              "var loadScriptAsync = function(uri){\n",
              "  return new Promise((resolve, reject) => {\n",
              "    //this is to ignore the existence of requirejs amd\n",
              "    var savedexports, savedmodule;\n",
              "    if (typeof exports !== 'undefined') savedexports = exports;\n",
              "    else exports = {}\n",
              "    if (typeof module !== 'undefined') savedmodule = module;\n",
              "    else module = {}\n",
              "\n",
              "    var tag = document.createElement('script');\n",
              "    tag.src = uri;\n",
              "    tag.async = true;\n",
              "    tag.onload = () => {\n",
              "        exports = savedexports;\n",
              "        module = savedmodule;\n",
              "        resolve();\n",
              "    };\n",
              "  var firstScriptTag = document.getElementsByTagName('script')[0];\n",
              "  firstScriptTag.parentNode.insertBefore(tag, firstScriptTag);\n",
              "});\n",
              "};\n",
              "\n",
              "if(typeof $3Dmolpromise === 'undefined') {\n",
              "$3Dmolpromise = null;\n",
              "  $3Dmolpromise = loadScriptAsync('https://cdnjs.cloudflare.com/ajax/libs/3Dmol/2.2.1-post1/3Dmol-min.js');\n",
              "}\n",
              "\n",
              "var viewer_17220091179980106 = null;\n",
              "var warn = document.getElementById(\"3dmolwarning_17220091179980106\");\n",
              "if(warn) {\n",
              "    warn.parentNode.removeChild(warn);\n",
              "}\n",
              "$3Dmolpromise.then(function() {\n",
              "viewer_17220091179980106 = $3Dmol.createViewer(document.getElementById(\"3dmolviewer_17220091179980106\"),{backgroundColor:\"white\"});\n",
              "viewer_17220091179980106.zoomTo();\n",
              "\tviewer_17220091179980106.addModel(\"\\n     RDKit          3D\\n\\n  4  3  0  0  0  0  0  0  0  0999 V2000\\n   -0.0333    0.0055    0.0001 C   0  0  0  0  0  0  0  0  0  0  0  0\\n    1.1697   -0.1939   -0.0047 O   0  0  0  0  0  0  0  0  0  0  0  0\\n   -0.4147    1.0206   -0.0087 H   0  0  0  0  0  0  0  0  0  0  0  0\\n   -0.7217   -0.8323    0.0133 H   0  0  0  0  0  0  0  0  0  0  0  0\\n  1  2  2  0\\n  1  3  1  0\\n  1  4  1  0\\nM  END\\n\",\"mol\");\n",
              "\tviewer_17220091179980106.setStyle({\"stick\": {}});\n",
              "\tviewer_17220091179980106.zoomTo();\n",
              "viewer_17220091179980106.render();\n",
              "});\n",
              "</script>"
            ]
          },
          "metadata": {}
        },
        {
          "output_type": "stream",
          "name": "stdout",
          "text": [
            "Molecule 7 (SMILES: CC):\n"
          ]
        },
        {
          "output_type": "display_data",
          "data": {
            "text/plain": [
              "<PIL.PngImagePlugin.PngImageFile image mode=RGB size=300x300>"
            ],
            "image/png": "[encoded data removed]"
          },
          "metadata": {}
        },
        {
          "output_type": "stream",
          "name": "stdout",
          "text": [
            "3D Visualization:\n"
          ]
        },
        {
          "output_type": "display_data",
          "data": {
            "application/3dmoljs_load.v0": "<div id=\"3dmolviewer_17220091180296662\"  style=\"position: relative; width: 400px; height: 400px;\">\n        <p id=\"3dmolwarning_17220091180296662\" style=\"background-color:#ffcccc;color:black\">3Dmol.js failed to load for some reason.  Please check your browser console for error messages.<br></p>\n        </div>\n<script>\n\nvar loadScriptAsync = function(uri){\n  return new Promise((resolve, reject) => {\n    //this is to ignore the existence of requirejs amd\n    var savedexports, savedmodule;\n    if (typeof exports !== 'undefined') savedexports = exports;\n    else exports = {}\n    if (typeof module !== 'undefined') savedmodule = module;\n    else module = {}\n\n    var tag = document.createElement('script');\n    tag.src = uri;\n    tag.async = true;\n    tag.onload = () => {\n        exports = savedexports;\n        module = savedmodule;\n        resolve();\n    };\n  var firstScriptTag = document.getElementsByTagName('script')[0];\n  firstScriptTag.parentNode.insertBefore(tag, firstScriptTag);\n});\n};\n\nif(typeof $3Dmolpromise === 'undefined') {\n$3Dmolpromise = null;\n  $3Dmolpromise = loadScriptAsync('https://cdnjs.cloudflare.com/ajax/libs/3Dmol/2.2.1-post1/3Dmol-min.js');\n}\n\nvar viewer_17220091180296662 = null;\nvar warn = document.getElementById(\"3dmolwarning_17220091180296662\");\nif(warn) {\n    warn.parentNode.removeChild(warn);\n}\n$3Dmolpromise.then(function() {\nviewer_17220091180296662 = $3Dmol.createViewer(document.getElementById(\"3dmolviewer_17220091180296662\"),{backgroundColor:\"white\"});\nviewer_17220091180296662.zoomTo();\n\tviewer_17220091180296662.addModel(\"\\n     RDKit          3D\\n\\n  8  7  0  0  0  0  0  0  0  0999 V2000\\n    0.7584    0.0087    0.0412 C   0  0  0  0  0  0  0  0  0  0  0  0\\n   -0.7584   -0.0087   -0.0412 C   0  0  0  0  0  0  0  0  0  0  0  0\\n    1.0869    0.7775    0.7719 H   0  0  0  0  0  0  0  0  0  0  0  0\\n    1.1291   -0.9857    0.3679 H   0  0  0  0  0  0  0  0  0  0  0  0\\n    1.1867    0.2472   -0.9551 H   0  0  0  0  0  0  0  0  0  0  0  0\\n   -1.1291    0.9857   -0.3679 H   0  0  0  0  0  0  0  0  0  0  0  0\\n   -1.1867   -0.2472    0.9551 H   0  0  0  0  0  0  0  0  0  0  0  0\\n   -1.0869   -0.7775   -0.7719 H   0  0  0  0  0  0  0  0  0  0  0  0\\n  1  2  1  0\\n  1  3  1  0\\n  1  4  1  0\\n  1  5  1  0\\n  2  6  1  0\\n  2  7  1  0\\n  2  8  1  0\\nM  END\\n\",\"mol\");\n\tviewer_17220091180296662.setStyle({\"stick\": {}});\n\tviewer_17220091180296662.zoomTo();\nviewer_17220091180296662.render();\n});\n</script>",
            "text/html": [
              "<div id=\"3dmolviewer_17220091180296662\"  style=\"position: relative; width: 400px; height: 400px;\">\n",
              "        <p id=\"3dmolwarning_17220091180296662\" style=\"background-color:#ffcccc;color:black\">3Dmol.js failed to load for some reason.  Please check your browser console for error messages.<br></p>\n",
              "        </div>\n",
              "<script>\n",
              "\n",
              "var loadScriptAsync = function(uri){\n",
              "  return new Promise((resolve, reject) => {\n",
              "    //this is to ignore the existence of requirejs amd\n",
              "    var savedexports, savedmodule;\n",
              "    if (typeof exports !== 'undefined') savedexports = exports;\n",
              "    else exports = {}\n",
              "    if (typeof module !== 'undefined') savedmodule = module;\n",
              "    else module = {}\n",
              "\n",
              "    var tag = document.createElement('script');\n",
              "    tag.src = uri;\n",
              "    tag.async = true;\n",
              "    tag.onload = () => {\n",
              "        exports = savedexports;\n",
              "        module = savedmodule;\n",
              "        resolve();\n",
              "    };\n",
              "  var firstScriptTag = document.getElementsByTagName('script')[0];\n",
              "  firstScriptTag.parentNode.insertBefore(tag, firstScriptTag);\n",
              "});\n",
              "};\n",
              "\n",
              "if(typeof $3Dmolpromise === 'undefined') {\n",
              "$3Dmolpromise = null;\n",
              "  $3Dmolpromise = loadScriptAsync('https://cdnjs.cloudflare.com/ajax/libs/3Dmol/2.2.1-post1/3Dmol-min.js');\n",
              "}\n",
              "\n",
              "var viewer_17220091180296662 = null;\n",
              "var warn = document.getElementById(\"3dmolwarning_17220091180296662\");\n",
              "if(warn) {\n",
              "    warn.parentNode.removeChild(warn);\n",
              "}\n",
              "$3Dmolpromise.then(function() {\n",
              "viewer_17220091180296662 = $3Dmol.createViewer(document.getElementById(\"3dmolviewer_17220091180296662\"),{backgroundColor:\"white\"});\n",
              "viewer_17220091180296662.zoomTo();\n",
              "\tviewer_17220091180296662.addModel(\"\\n     RDKit          3D\\n\\n  8  7  0  0  0  0  0  0  0  0999 V2000\\n    0.7584    0.0087    0.0412 C   0  0  0  0  0  0  0  0  0  0  0  0\\n   -0.7584   -0.0087   -0.0412 C   0  0  0  0  0  0  0  0  0  0  0  0\\n    1.0869    0.7775    0.7719 H   0  0  0  0  0  0  0  0  0  0  0  0\\n    1.1291   -0.9857    0.3679 H   0  0  0  0  0  0  0  0  0  0  0  0\\n    1.1867    0.2472   -0.9551 H   0  0  0  0  0  0  0  0  0  0  0  0\\n   -1.1291    0.9857   -0.3679 H   0  0  0  0  0  0  0  0  0  0  0  0\\n   -1.1867   -0.2472    0.9551 H   0  0  0  0  0  0  0  0  0  0  0  0\\n   -1.0869   -0.7775   -0.7719 H   0  0  0  0  0  0  0  0  0  0  0  0\\n  1  2  1  0\\n  1  3  1  0\\n  1  4  1  0\\n  1  5  1  0\\n  2  6  1  0\\n  2  7  1  0\\n  2  8  1  0\\nM  END\\n\",\"mol\");\n",
              "\tviewer_17220091180296662.setStyle({\"stick\": {}});\n",
              "\tviewer_17220091180296662.zoomTo();\n",
              "viewer_17220091180296662.render();\n",
              "});\n",
              "</script>"
            ]
          },
          "metadata": {}
        },
        {
          "output_type": "stream",
          "name": "stdout",
          "text": [
            "Molecule 8 (SMILES: CO):\n"
          ]
        },
        {
          "output_type": "display_data",
          "data": {
            "text/plain": [
              "<PIL.PngImagePlugin.PngImageFile image mode=RGB size=300x300>"
            ],
            "image/png": "[encoded data removed]"
          },
          "metadata": {}
        },
        {
          "output_type": "stream",
          "name": "stdout",
          "text": [
            "3D Visualization:\n"
          ]
        },
        {
          "output_type": "display_data",
          "data": {
            "application/3dmoljs_load.v0": "<div id=\"3dmolviewer_17220091180671308\"  style=\"position: relative; width: 400px; height: 400px;\">\n        <p id=\"3dmolwarning_17220091180671308\" style=\"background-color:#ffcccc;color:black\">3Dmol.js failed to load for some reason.  Please check your browser console for error messages.<br></p>\n        </div>\n<script>\n\nvar loadScriptAsync = function(uri){\n  return new Promise((resolve, reject) => {\n    //this is to ignore the existence of requirejs amd\n    var savedexports, savedmodule;\n    if (typeof exports !== 'undefined') savedexports = exports;\n    else exports = {}\n    if (typeof module !== 'undefined') savedmodule = module;\n    else module = {}\n\n    var tag = document.createElement('script');\n    tag.src = uri;\n    tag.async = true;\n    tag.onload = () => {\n        exports = savedexports;\n        module = savedmodule;\n        resolve();\n    };\n  var firstScriptTag = document.getElementsByTagName('script')[0];\n  firstScriptTag.parentNode.insertBefore(tag, firstScriptTag);\n});\n};\n\nif(typeof $3Dmolpromise === 'undefined') {\n$3Dmolpromise = null;\n  $3Dmolpromise = loadScriptAsync('https://cdnjs.cloudflare.com/ajax/libs/3Dmol/2.2.1-post1/3Dmol-min.js');\n}\n\nvar viewer_17220091180671308 = null;\nvar warn = document.getElementById(\"3dmolwarning_17220091180671308\");\nif(warn) {\n    warn.parentNode.removeChild(warn);\n}\n$3Dmolpromise.then(function() {\nviewer_17220091180671308 = $3Dmol.createViewer(document.getElementById(\"3dmolviewer_17220091180671308\"),{backgroundColor:\"white\"});\nviewer_17220091180671308.zoomTo();\n\tviewer_17220091180671308.addModel(\"\\n     RDKit          3D\\n\\n  6  5  0  0  0  0  0  0  0  0999 V2000\\n   -0.3562   -0.0180    0.0357 C   0  0  0  0  0  0  0  0  0  0  0  0\\n    0.9618   -0.0652    0.5009 O   0  0  0  0  0  0  0  0  0  0  0  0\\n   -1.0481   -0.2009    0.8834 H   0  0  0  0  0  0  0  0  0  0  0  0\\n   -0.5752    0.9831   -0.3952 H   0  0  0  0  0  0  0  0  0  0  0  0\\n   -0.5193   -0.8024   -0.7349 H   0  0  0  0  0  0  0  0  0  0  0  0\\n    1.5370    0.1033   -0.2900 H   0  0  0  0  0  0  0  0  0  0  0  0\\n  1  2  1  0\\n  1  3  1  0\\n  1  4  1  0\\n  1  5  1  0\\n  2  6  1  0\\nM  END\\n\",\"mol\");\n\tviewer_17220091180671308.setStyle({\"stick\": {}});\n\tviewer_17220091180671308.zoomTo();\nviewer_17220091180671308.render();\n});\n</script>",
            "text/html": [
              "<div id=\"3dmolviewer_17220091180671308\"  style=\"position: relative; width: 400px; height: 400px;\">\n",
              "        <p id=\"3dmolwarning_17220091180671308\" style=\"background-color:#ffcccc;color:black\">3Dmol.js failed to load for some reason.  Please check your browser console for error messages.<br></p>\n",
              "        </div>\n",
              "<script>\n",
              "\n",
              "var loadScriptAsync = function(uri){\n",
              "  return new Promise((resolve, reject) => {\n",
              "    //this is to ignore the existence of requirejs amd\n",
              "    var savedexports, savedmodule;\n",
              "    if (typeof exports !== 'undefined') savedexports = exports;\n",
              "    else exports = {}\n",
              "    if (typeof module !== 'undefined') savedmodule = module;\n",
              "    else module = {}\n",
              "\n",
              "    var tag = document.createElement('script');\n",
              "    tag.src = uri;\n",
              "    tag.async = true;\n",
              "    tag.onload = () => {\n",
              "        exports = savedexports;\n",
              "        module = savedmodule;\n",
              "        resolve();\n",
              "    };\n",
              "  var firstScriptTag = document.getElementsByTagName('script')[0];\n",
              "  firstScriptTag.parentNode.insertBefore(tag, firstScriptTag);\n",
              "});\n",
              "};\n",
              "\n",
              "if(typeof $3Dmolpromise === 'undefined') {\n",
              "$3Dmolpromise = null;\n",
              "  $3Dmolpromise = loadScriptAsync('https://cdnjs.cloudflare.com/ajax/libs/3Dmol/2.2.1-post1/3Dmol-min.js');\n",
              "}\n",
              "\n",
              "var viewer_17220091180671308 = null;\n",
              "var warn = document.getElementById(\"3dmolwarning_17220091180671308\");\n",
              "if(warn) {\n",
              "    warn.parentNode.removeChild(warn);\n",
              "}\n",
              "$3Dmolpromise.then(function() {\n",
              "viewer_17220091180671308 = $3Dmol.createViewer(document.getElementById(\"3dmolviewer_17220091180671308\"),{backgroundColor:\"white\"});\n",
              "viewer_17220091180671308.zoomTo();\n",
              "\tviewer_17220091180671308.addModel(\"\\n     RDKit          3D\\n\\n  6  5  0  0  0  0  0  0  0  0999 V2000\\n   -0.3562   -0.0180    0.0357 C   0  0  0  0  0  0  0  0  0  0  0  0\\n    0.9618   -0.0652    0.5009 O   0  0  0  0  0  0  0  0  0  0  0  0\\n   -1.0481   -0.2009    0.8834 H   0  0  0  0  0  0  0  0  0  0  0  0\\n   -0.5752    0.9831   -0.3952 H   0  0  0  0  0  0  0  0  0  0  0  0\\n   -0.5193   -0.8024   -0.7349 H   0  0  0  0  0  0  0  0  0  0  0  0\\n    1.5370    0.1033   -0.2900 H   0  0  0  0  0  0  0  0  0  0  0  0\\n  1  2  1  0\\n  1  3  1  0\\n  1  4  1  0\\n  1  5  1  0\\n  2  6  1  0\\nM  END\\n\",\"mol\");\n",
              "\tviewer_17220091180671308.setStyle({\"stick\": {}});\n",
              "\tviewer_17220091180671308.zoomTo();\n",
              "viewer_17220091180671308.render();\n",
              "});\n",
              "</script>"
            ]
          },
          "metadata": {}
        },
        {
          "output_type": "stream",
          "name": "stdout",
          "text": [
            "Molecule 9 (SMILES: CC#C):\n"
          ]
        },
        {
          "output_type": "display_data",
          "data": {
            "text/plain": [
              "<PIL.PngImagePlugin.PngImageFile image mode=RGB size=300x300>"
            ],
            "image/png": "[encoded data removed]"
          },
          "metadata": {}
        },
        {
          "output_type": "stream",
          "name": "stdout",
          "text": [
            "3D Visualization:\n"
          ]
        },
        {
          "output_type": "display_data",
          "data": {
            "application/3dmoljs_load.v0": "<div id=\"3dmolviewer_17220091181089332\"  style=\"position: relative; width: 400px; height: 400px;\">\n        <p id=\"3dmolwarning_17220091181089332\" style=\"background-color:#ffcccc;color:black\">3Dmol.js failed to load for some reason.  Please check your browser console for error messages.<br></p>\n        </div>\n<script>\n\nvar loadScriptAsync = function(uri){\n  return new Promise((resolve, reject) => {\n    //this is to ignore the existence of requirejs amd\n    var savedexports, savedmodule;\n    if (typeof exports !== 'undefined') savedexports = exports;\n    else exports = {}\n    if (typeof module !== 'undefined') savedmodule = module;\n    else module = {}\n\n    var tag = document.createElement('script');\n    tag.src = uri;\n    tag.async = true;\n    tag.onload = () => {\n        exports = savedexports;\n        module = savedmodule;\n        resolve();\n    };\n  var firstScriptTag = document.getElementsByTagName('script')[0];\n  firstScriptTag.parentNode.insertBefore(tag, firstScriptTag);\n});\n};\n\nif(typeof $3Dmolpromise === 'undefined') {\n$3Dmolpromise = null;\n  $3Dmolpromise = loadScriptAsync('https://cdnjs.cloudflare.com/ajax/libs/3Dmol/2.2.1-post1/3Dmol-min.js');\n}\n\nvar viewer_17220091181089332 = null;\nvar warn = document.getElementById(\"3dmolwarning_17220091181089332\");\nif(warn) {\n    warn.parentNode.removeChild(warn);\n}\n$3Dmolpromise.then(function() {\nviewer_17220091181089332 = $3Dmol.createViewer(document.getElementById(\"3dmolviewer_17220091181089332\"),{backgroundColor:\"white\"});\nviewer_17220091181089332.zoomTo();\n\tviewer_17220091181089332.addModel(\"\\n     RDKit          3D\\n\\n  7  6  0  0  0  0  0  0  0  0999 V2000\\n   -0.9389   -0.1071    0.5062 C   0  0  0  0  0  0  0  0  0  0  0  0\\n    0.4861    0.0554    0.2162 C   0  0  0  0  0  0  0  0  0  0  0  0\\n    1.6600    0.1893   -0.0227 C   0  0  0  0  0  0  0  0  0  0  0  0\\n   -1.5360    0.4272   -0.2612 H   0  0  0  0  0  0  0  0  0  0  0  0\\n   -1.1630    0.3138    1.5080 H   0  0  0  0  0  0  0  0  0  0  0  0\\n   -1.1988   -1.1856    0.4919 H   0  0  0  0  0  0  0  0  0  0  0  0\\n    2.6907    0.3069   -0.2324 H   0  0  0  0  0  0  0  0  0  0  0  0\\n  1  2  1  0\\n  2  3  3  0\\n  1  4  1  0\\n  1  5  1  0\\n  1  6  1  0\\n  3  7  1  0\\nM  END\\n\",\"mol\");\n\tviewer_17220091181089332.setStyle({\"stick\": {}});\n\tviewer_17220091181089332.zoomTo();\nviewer_17220091181089332.render();\n});\n</script>",
            "text/html": [
              "<div id=\"3dmolviewer_17220091181089332\"  style=\"position: relative; width: 400px; height: 400px;\">\n",
              "        <p id=\"3dmolwarning_17220091181089332\" style=\"background-color:#ffcccc;color:black\">3Dmol.js failed to load for some reason.  Please check your browser console for error messages.<br></p>\n",
              "        </div>\n",
              "<script>\n",
              "\n",
              "var loadScriptAsync = function(uri){\n",
              "  return new Promise((resolve, reject) => {\n",
              "    //this is to ignore the existence of requirejs amd\n",
              "    var savedexports, savedmodule;\n",
              "    if (typeof exports !== 'undefined') savedexports = exports;\n",
              "    else exports = {}\n",
              "    if (typeof module !== 'undefined') savedmodule = module;\n",
              "    else module = {}\n",
              "\n",
              "    var tag = document.createElement('script');\n",
              "    tag.src = uri;\n",
              "    tag.async = true;\n",
              "    tag.onload = () => {\n",
              "        exports = savedexports;\n",
              "        module = savedmodule;\n",
              "        resolve();\n",
              "    };\n",
              "  var firstScriptTag = document.getElementsByTagName('script')[0];\n",
              "  firstScriptTag.parentNode.insertBefore(tag, firstScriptTag);\n",
              "});\n",
              "};\n",
              "\n",
              "if(typeof $3Dmolpromise === 'undefined') {\n",
              "$3Dmolpromise = null;\n",
              "  $3Dmolpromise = loadScriptAsync('https://cdnjs.cloudflare.com/ajax/libs/3Dmol/2.2.1-post1/3Dmol-min.js');\n",
              "}\n",
              "\n",
              "var viewer_17220091181089332 = null;\n",
              "var warn = document.getElementById(\"3dmolwarning_17220091181089332\");\n",
              "if(warn) {\n",
              "    warn.parentNode.removeChild(warn);\n",
              "}\n",
              "$3Dmolpromise.then(function() {\n",
              "viewer_17220091181089332 = $3Dmol.createViewer(document.getElementById(\"3dmolviewer_17220091181089332\"),{backgroundColor:\"white\"});\n",
              "viewer_17220091181089332.zoomTo();\n",
              "\tviewer_17220091181089332.addModel(\"\\n     RDKit          3D\\n\\n  7  6  0  0  0  0  0  0  0  0999 V2000\\n   -0.9389   -0.1071    0.5062 C   0  0  0  0  0  0  0  0  0  0  0  0\\n    0.4861    0.0554    0.2162 C   0  0  0  0  0  0  0  0  0  0  0  0\\n    1.6600    0.1893   -0.0227 C   0  0  0  0  0  0  0  0  0  0  0  0\\n   -1.5360    0.4272   -0.2612 H   0  0  0  0  0  0  0  0  0  0  0  0\\n   -1.1630    0.3138    1.5080 H   0  0  0  0  0  0  0  0  0  0  0  0\\n   -1.1988   -1.1856    0.4919 H   0  0  0  0  0  0  0  0  0  0  0  0\\n    2.6907    0.3069   -0.2324 H   0  0  0  0  0  0  0  0  0  0  0  0\\n  1  2  1  0\\n  2  3  3  0\\n  1  4  1  0\\n  1  5  1  0\\n  1  6  1  0\\n  3  7  1  0\\nM  END\\n\",\"mol\");\n",
              "\tviewer_17220091181089332.setStyle({\"stick\": {}});\n",
              "\tviewer_17220091181089332.zoomTo();\n",
              "viewer_17220091181089332.render();\n",
              "});\n",
              "</script>"
            ]
          },
          "metadata": {}
        },
        {
          "output_type": "stream",
          "name": "stdout",
          "text": [
            "Molecule 10 (SMILES: CC#N):\n"
          ]
        },
        {
          "output_type": "display_data",
          "data": {
            "text/plain": [
              "<PIL.PngImagePlugin.PngImageFile image mode=RGB size=300x300>"
            ],
            "image/png": "[encoded data removed]"
          },
          "metadata": {}
        },
        {
          "output_type": "stream",
          "name": "stdout",
          "text": [
            "3D Visualization:\n"
          ]
        },
        {
          "output_type": "display_data",
          "data": {
            "application/3dmoljs_load.v0": "<div id=\"3dmolviewer_17220091181469562\"  style=\"position: relative; width: 400px; height: 400px;\">\n        <p id=\"3dmolwarning_17220091181469562\" style=\"background-color:#ffcccc;color:black\">3Dmol.js failed to load for some reason.  Please check your browser console for error messages.<br></p>\n        </div>\n<script>\n\nvar loadScriptAsync = function(uri){\n  return new Promise((resolve, reject) => {\n    //this is to ignore the existence of requirejs amd\n    var savedexports, savedmodule;\n    if (typeof exports !== 'undefined') savedexports = exports;\n    else exports = {}\n    if (typeof module !== 'undefined') savedmodule = module;\n    else module = {}\n\n    var tag = document.createElement('script');\n    tag.src = uri;\n    tag.async = true;\n    tag.onload = () => {\n        exports = savedexports;\n        module = savedmodule;\n        resolve();\n    };\n  var firstScriptTag = document.getElementsByTagName('script')[0];\n  firstScriptTag.parentNode.insertBefore(tag, firstScriptTag);\n});\n};\n\nif(typeof $3Dmolpromise === 'undefined') {\n$3Dmolpromise = null;\n  $3Dmolpromise = loadScriptAsync('https://cdnjs.cloudflare.com/ajax/libs/3Dmol/2.2.1-post1/3Dmol-min.js');\n}\n\nvar viewer_17220091181469562 = null;\nvar warn = document.getElementById(\"3dmolwarning_17220091181469562\");\nif(warn) {\n    warn.parentNode.removeChild(warn);\n}\n$3Dmolpromise.then(function() {\nviewer_17220091181469562 = $3Dmol.createViewer(document.getElementById(\"3dmolviewer_17220091181469562\"),{backgroundColor:\"white\"});\nviewer_17220091181469562.zoomTo();\n\tviewer_17220091181469562.addModel(\"\\n     RDKit          3D\\n\\n  6  5  0  0  0  0  0  0  0  0999 V2000\\n   -0.4284    0.2308    0.0939 C   0  0  0  0  0  0  0  0  0  0  0  0\\n    0.8364   -0.4506   -0.1833 C   0  0  0  0  0  0  0  0  0  0  0  0\\n    1.8367   -0.9895   -0.4026 N   0  0  0  0  0  0  0  0  0  0  0  0\\n   -1.2116   -0.1485   -0.5942 H   0  0  0  0  0  0  0  0  0  0  0  0\\n   -0.7318    0.0352    1.1430 H   0  0  0  0  0  0  0  0  0  0  0  0\\n   -0.3013    1.3226   -0.0567 H   0  0  0  0  0  0  0  0  0  0  0  0\\n  1  2  1  0\\n  2  3  3  0\\n  1  4  1  0\\n  1  5  1  0\\n  1  6  1  0\\nM  END\\n\",\"mol\");\n\tviewer_17220091181469562.setStyle({\"stick\": {}});\n\tviewer_17220091181469562.zoomTo();\nviewer_17220091181469562.render();\n});\n</script>",
            "text/html": [
              "<div id=\"3dmolviewer_17220091181469562\"  style=\"position: relative; width: 400px; height: 400px;\">\n",
              "        <p id=\"3dmolwarning_17220091181469562\" style=\"background-color:#ffcccc;color:black\">3Dmol.js failed to load for some reason.  Please check your browser console for error messages.<br></p>\n",
              "        </div>\n",
              "<script>\n",
              "\n",
              "var loadScriptAsync = function(uri){\n",
              "  return new Promise((resolve, reject) => {\n",
              "    //this is to ignore the existence of requirejs amd\n",
              "    var savedexports, savedmodule;\n",
              "    if (typeof exports !== 'undefined') savedexports = exports;\n",
              "    else exports = {}\n",
              "    if (typeof module !== 'undefined') savedmodule = module;\n",
              "    else module = {}\n",
              "\n",
              "    var tag = document.createElement('script');\n",
              "    tag.src = uri;\n",
              "    tag.async = true;\n",
              "    tag.onload = () => {\n",
              "        exports = savedexports;\n",
              "        module = savedmodule;\n",
              "        resolve();\n",
              "    };\n",
              "  var firstScriptTag = document.getElementsByTagName('script')[0];\n",
              "  firstScriptTag.parentNode.insertBefore(tag, firstScriptTag);\n",
              "});\n",
              "};\n",
              "\n",
              "if(typeof $3Dmolpromise === 'undefined') {\n",
              "$3Dmolpromise = null;\n",
              "  $3Dmolpromise = loadScriptAsync('https://cdnjs.cloudflare.com/ajax/libs/3Dmol/2.2.1-post1/3Dmol-min.js');\n",
              "}\n",
              "\n",
              "var viewer_17220091181469562 = null;\n",
              "var warn = document.getElementById(\"3dmolwarning_17220091181469562\");\n",
              "if(warn) {\n",
              "    warn.parentNode.removeChild(warn);\n",
              "}\n",
              "$3Dmolpromise.then(function() {\n",
              "viewer_17220091181469562 = $3Dmol.createViewer(document.getElementById(\"3dmolviewer_17220091181469562\"),{backgroundColor:\"white\"});\n",
              "viewer_17220091181469562.zoomTo();\n",
              "\tviewer_17220091181469562.addModel(\"\\n     RDKit          3D\\n\\n  6  5  0  0  0  0  0  0  0  0999 V2000\\n   -0.4284    0.2308    0.0939 C   0  0  0  0  0  0  0  0  0  0  0  0\\n    0.8364   -0.4506   -0.1833 C   0  0  0  0  0  0  0  0  0  0  0  0\\n    1.8367   -0.9895   -0.4026 N   0  0  0  0  0  0  0  0  0  0  0  0\\n   -1.2116   -0.1485   -0.5942 H   0  0  0  0  0  0  0  0  0  0  0  0\\n   -0.7318    0.0352    1.1430 H   0  0  0  0  0  0  0  0  0  0  0  0\\n   -0.3013    1.3226   -0.0567 H   0  0  0  0  0  0  0  0  0  0  0  0\\n  1  2  1  0\\n  2  3  3  0\\n  1  4  1  0\\n  1  5  1  0\\n  1  6  1  0\\nM  END\\n\",\"mol\");\n",
              "\tviewer_17220091181469562.setStyle({\"stick\": {}});\n",
              "\tviewer_17220091181469562.zoomTo();\n",
              "viewer_17220091181469562.render();\n",
              "});\n",
              "</script>"
            ]
          },
          "metadata": {}
        },
        {
          "output_type": "stream",
          "name": "stdout",
          "text": [
            "Molecule 11 (SMILES: CC=O):\n"
          ]
        },
        {
          "output_type": "display_data",
          "data": {
            "text/plain": [
              "<PIL.PngImagePlugin.PngImageFile image mode=RGB size=300x300>"
            ],
            "image/png": "[encoded data removed]"
          },
          "metadata": {}
        },
        {
          "output_type": "stream",
          "name": "stdout",
          "text": [
            "3D Visualization:\n"
          ]
        },
        {
          "output_type": "display_data",
          "data": {
            "application/3dmoljs_load.v0": "<div id=\"3dmolviewer_17220091181844769\"  style=\"position: relative; width: 400px; height: 400px;\">\n        <p id=\"3dmolwarning_17220091181844769\" style=\"background-color:#ffcccc;color:black\">3Dmol.js failed to load for some reason.  Please check your browser console for error messages.<br></p>\n        </div>\n<script>\n\nvar loadScriptAsync = function(uri){\n  return new Promise((resolve, reject) => {\n    //this is to ignore the existence of requirejs amd\n    var savedexports, savedmodule;\n    if (typeof exports !== 'undefined') savedexports = exports;\n    else exports = {}\n    if (typeof module !== 'undefined') savedmodule = module;\n    else module = {}\n\n    var tag = document.createElement('script');\n    tag.src = uri;\n    tag.async = true;\n    tag.onload = () => {\n        exports = savedexports;\n        module = savedmodule;\n        resolve();\n    };\n  var firstScriptTag = document.getElementsByTagName('script')[0];\n  firstScriptTag.parentNode.insertBefore(tag, firstScriptTag);\n});\n};\n\nif(typeof $3Dmolpromise === 'undefined') {\n$3Dmolpromise = null;\n  $3Dmolpromise = loadScriptAsync('https://cdnjs.cloudflare.com/ajax/libs/3Dmol/2.2.1-post1/3Dmol-min.js');\n}\n\nvar viewer_17220091181844769 = null;\nvar warn = document.getElementById(\"3dmolwarning_17220091181844769\");\nif(warn) {\n    warn.parentNode.removeChild(warn);\n}\n$3Dmolpromise.then(function() {\nviewer_17220091181844769 = $3Dmol.createViewer(document.getElementById(\"3dmolviewer_17220091181844769\"),{backgroundColor:\"white\"});\nviewer_17220091181844769.zoomTo();\n\tviewer_17220091181844769.addModel(\"\\n     RDKit          3D\\n\\n  7  6  0  0  0  0  0  0  0  0999 V2000\\n   -0.6408   -0.0470    0.0522 C   0  0  0  0  0  0  0  0  0  0  0  0\\n    0.8394    0.0971   -0.0804 C   0  0  0  0  0  0  0  0  0  0  0  0\\n    1.5737   -0.8379    0.1945 O   0  0  0  0  0  0  0  0  0  0  0  0\\n   -0.9020   -0.2837    1.1049 H   0  0  0  0  0  0  0  0  0  0  0  0\\n   -0.9989   -0.8637   -0.6091 H   0  0  0  0  0  0  0  0  0  0  0  0\\n   -1.1386    0.9011   -0.2405 H   0  0  0  0  0  0  0  0  0  0  0  0\\n    1.2671    1.0342   -0.4216 H   0  0  0  0  0  0  0  0  0  0  0  0\\n  1  2  1  0\\n  2  3  2  0\\n  1  4  1  0\\n  1  5  1  0\\n  1  6  1  0\\n  2  7  1  0\\nM  END\\n\",\"mol\");\n\tviewer_17220091181844769.setStyle({\"stick\": {}});\n\tviewer_17220091181844769.zoomTo();\nviewer_17220091181844769.render();\n});\n</script>",
            "text/html": [
              "<div id=\"3dmolviewer_17220091181844769\"  style=\"position: relative; width: 400px; height: 400px;\">\n",
              "        <p id=\"3dmolwarning_17220091181844769\" style=\"background-color:#ffcccc;color:black\">3Dmol.js failed to load for some reason.  Please check your browser console for error messages.<br></p>\n",
              "        </div>\n",
              "<script>\n",
              "\n",
              "var loadScriptAsync = function(uri){\n",
              "  return new Promise((resolve, reject) => {\n",
              "    //this is to ignore the existence of requirejs amd\n",
              "    var savedexports, savedmodule;\n",
              "    if (typeof exports !== 'undefined') savedexports = exports;\n",
              "    else exports = {}\n",
              "    if (typeof module !== 'undefined') savedmodule = module;\n",
              "    else module = {}\n",
              "\n",
              "    var tag = document.createElement('script');\n",
              "    tag.src = uri;\n",
              "    tag.async = true;\n",
              "    tag.onload = () => {\n",
              "        exports = savedexports;\n",
              "        module = savedmodule;\n",
              "        resolve();\n",
              "    };\n",
              "  var firstScriptTag = document.getElementsByTagName('script')[0];\n",
              "  firstScriptTag.parentNode.insertBefore(tag, firstScriptTag);\n",
              "});\n",
              "};\n",
              "\n",
              "if(typeof $3Dmolpromise === 'undefined') {\n",
              "$3Dmolpromise = null;\n",
              "  $3Dmolpromise = loadScriptAsync('https://cdnjs.cloudflare.com/ajax/libs/3Dmol/2.2.1-post1/3Dmol-min.js');\n",
              "}\n",
              "\n",
              "var viewer_17220091181844769 = null;\n",
              "var warn = document.getElementById(\"3dmolwarning_17220091181844769\");\n",
              "if(warn) {\n",
              "    warn.parentNode.removeChild(warn);\n",
              "}\n",
              "$3Dmolpromise.then(function() {\n",
              "viewer_17220091181844769 = $3Dmol.createViewer(document.getElementById(\"3dmolviewer_17220091181844769\"),{backgroundColor:\"white\"});\n",
              "viewer_17220091181844769.zoomTo();\n",
              "\tviewer_17220091181844769.addModel(\"\\n     RDKit          3D\\n\\n  7  6  0  0  0  0  0  0  0  0999 V2000\\n   -0.6408   -0.0470    0.0522 C   0  0  0  0  0  0  0  0  0  0  0  0\\n    0.8394    0.0971   -0.0804 C   0  0  0  0  0  0  0  0  0  0  0  0\\n    1.5737   -0.8379    0.1945 O   0  0  0  0  0  0  0  0  0  0  0  0\\n   -0.9020   -0.2837    1.1049 H   0  0  0  0  0  0  0  0  0  0  0  0\\n   -0.9989   -0.8637   -0.6091 H   0  0  0  0  0  0  0  0  0  0  0  0\\n   -1.1386    0.9011   -0.2405 H   0  0  0  0  0  0  0  0  0  0  0  0\\n    1.2671    1.0342   -0.4216 H   0  0  0  0  0  0  0  0  0  0  0  0\\n  1  2  1  0\\n  2  3  2  0\\n  1  4  1  0\\n  1  5  1  0\\n  1  6  1  0\\n  2  7  1  0\\nM  END\\n\",\"mol\");\n",
              "\tviewer_17220091181844769.setStyle({\"stick\": {}});\n",
              "\tviewer_17220091181844769.zoomTo();\n",
              "viewer_17220091181844769.render();\n",
              "});\n",
              "</script>"
            ]
          },
          "metadata": {}
        },
        {
          "output_type": "stream",
          "name": "stdout",
          "text": [
            "Molecule 12 (SMILES: C(=O)N):\n"
          ]
        },
        {
          "output_type": "display_data",
          "data": {
            "text/plain": [
              "<PIL.PngImagePlugin.PngImageFile image mode=RGB size=300x300>"
            ],
            "image/png": "[encoded data removed]"
          },
          "metadata": {}
        },
        {
          "output_type": "stream",
          "name": "stdout",
          "text": [
            "3D Visualization:\n"
          ]
        },
        {
          "output_type": "display_data",
          "data": {
            "application/3dmoljs_load.v0": "<div id=\"3dmolviewer_17220091182231565\"  style=\"position: relative; width: 400px; height: 400px;\">\n        <p id=\"3dmolwarning_17220091182231565\" style=\"background-color:#ffcccc;color:black\">3Dmol.js failed to load for some reason.  Please check your browser console for error messages.<br></p>\n        </div>\n<script>\n\nvar loadScriptAsync = function(uri){\n  return new Promise((resolve, reject) => {\n    //this is to ignore the existence of requirejs amd\n    var savedexports, savedmodule;\n    if (typeof exports !== 'undefined') savedexports = exports;\n    else exports = {}\n    if (typeof module !== 'undefined') savedmodule = module;\n    else module = {}\n\n    var tag = document.createElement('script');\n    tag.src = uri;\n    tag.async = true;\n    tag.onload = () => {\n        exports = savedexports;\n        module = savedmodule;\n        resolve();\n    };\n  var firstScriptTag = document.getElementsByTagName('script')[0];\n  firstScriptTag.parentNode.insertBefore(tag, firstScriptTag);\n});\n};\n\nif(typeof $3Dmolpromise === 'undefined') {\n$3Dmolpromise = null;\n  $3Dmolpromise = loadScriptAsync('https://cdnjs.cloudflare.com/ajax/libs/3Dmol/2.2.1-post1/3Dmol-min.js');\n}\n\nvar viewer_17220091182231565 = null;\nvar warn = document.getElementById(\"3dmolwarning_17220091182231565\");\nif(warn) {\n    warn.parentNode.removeChild(warn);\n}\n$3Dmolpromise.then(function() {\nviewer_17220091182231565 = $3Dmol.createViewer(document.getElementById(\"3dmolviewer_17220091182231565\"),{backgroundColor:\"white\"});\nviewer_17220091182231565.zoomTo();\n\tviewer_17220091182231565.addModel(\"\\n     RDKit          3D\\n\\n  6  5  0  0  0  0  0  0  0  0999 V2000\\n    0.6883   -0.0137   -0.0741 C   0  0  0  0  0  0  0  0  0  0  0  0\\n    1.3791    0.7527    0.6466 O   0  0  0  0  0  0  0  0  0  0  0  0\\n   -0.7314   -0.0207    0.0428 N   0  0  0  0  0  0  0  0  0  0  0  0\\n    1.1761   -0.6685   -0.7839 H   0  0  0  0  0  0  0  0  0  0  0  0\\n   -1.2109    0.6077    0.7251 H   0  0  0  0  0  0  0  0  0  0  0  0\\n   -1.3012   -0.6576   -0.5564 H   0  0  0  0  0  0  0  0  0  0  0  0\\n  1  2  2  0\\n  1  3  1  0\\n  1  4  1  0\\n  3  5  1  0\\n  3  6  1  0\\nM  END\\n\",\"mol\");\n\tviewer_17220091182231565.setStyle({\"stick\": {}});\n\tviewer_17220091182231565.zoomTo();\nviewer_17220091182231565.render();\n});\n</script>",
            "text/html": [
              "<div id=\"3dmolviewer_17220091182231565\"  style=\"position: relative; width: 400px; height: 400px;\">\n",
              "        <p id=\"3dmolwarning_17220091182231565\" style=\"background-color:#ffcccc;color:black\">3Dmol.js failed to load for some reason.  Please check your browser console for error messages.<br></p>\n",
              "        </div>\n",
              "<script>\n",
              "\n",
              "var loadScriptAsync = function(uri){\n",
              "  return new Promise((resolve, reject) => {\n",
              "    //this is to ignore the existence of requirejs amd\n",
              "    var savedexports, savedmodule;\n",
              "    if (typeof exports !== 'undefined') savedexports = exports;\n",
              "    else exports = {}\n",
              "    if (typeof module !== 'undefined') savedmodule = module;\n",
              "    else module = {}\n",
              "\n",
              "    var tag = document.createElement('script');\n",
              "    tag.src = uri;\n",
              "    tag.async = true;\n",
              "    tag.onload = () => {\n",
              "        exports = savedexports;\n",
              "        module = savedmodule;\n",
              "        resolve();\n",
              "    };\n",
              "  var firstScriptTag = document.getElementsByTagName('script')[0];\n",
              "  firstScriptTag.parentNode.insertBefore(tag, firstScriptTag);\n",
              "});\n",
              "};\n",
              "\n",
              "if(typeof $3Dmolpromise === 'undefined') {\n",
              "$3Dmolpromise = null;\n",
              "  $3Dmolpromise = loadScriptAsync('https://cdnjs.cloudflare.com/ajax/libs/3Dmol/2.2.1-post1/3Dmol-min.js');\n",
              "}\n",
              "\n",
              "var viewer_17220091182231565 = null;\n",
              "var warn = document.getElementById(\"3dmolwarning_17220091182231565\");\n",
              "if(warn) {\n",
              "    warn.parentNode.removeChild(warn);\n",
              "}\n",
              "$3Dmolpromise.then(function() {\n",
              "viewer_17220091182231565 = $3Dmol.createViewer(document.getElementById(\"3dmolviewer_17220091182231565\"),{backgroundColor:\"white\"});\n",
              "viewer_17220091182231565.zoomTo();\n",
              "\tviewer_17220091182231565.addModel(\"\\n     RDKit          3D\\n\\n  6  5  0  0  0  0  0  0  0  0999 V2000\\n    0.6883   -0.0137   -0.0741 C   0  0  0  0  0  0  0  0  0  0  0  0\\n    1.3791    0.7527    0.6466 O   0  0  0  0  0  0  0  0  0  0  0  0\\n   -0.7314   -0.0207    0.0428 N   0  0  0  0  0  0  0  0  0  0  0  0\\n    1.1761   -0.6685   -0.7839 H   0  0  0  0  0  0  0  0  0  0  0  0\\n   -1.2109    0.6077    0.7251 H   0  0  0  0  0  0  0  0  0  0  0  0\\n   -1.3012   -0.6576   -0.5564 H   0  0  0  0  0  0  0  0  0  0  0  0\\n  1  2  2  0\\n  1  3  1  0\\n  1  4  1  0\\n  3  5  1  0\\n  3  6  1  0\\nM  END\\n\",\"mol\");\n",
              "\tviewer_17220091182231565.setStyle({\"stick\": {}});\n",
              "\tviewer_17220091182231565.zoomTo();\n",
              "viewer_17220091182231565.render();\n",
              "});\n",
              "</script>"
            ]
          },
          "metadata": {}
        },
        {
          "output_type": "stream",
          "name": "stdout",
          "text": [
            "Molecule 13 (SMILES: CCC):\n"
          ]
        },
        {
          "output_type": "display_data",
          "data": {
            "text/plain": [
              "<PIL.PngImagePlugin.PngImageFile image mode=RGB size=300x300>"
            ],
            "image/png": "[encoded data removed]"
          },
          "metadata": {}
        },
        {
          "output_type": "stream",
          "name": "stdout",
          "text": [
            "3D Visualization:\n"
          ]
        },
        {
          "output_type": "display_data",
          "data": {
            "application/3dmoljs_load.v0": "<div id=\"3dmolviewer_17220091182717438\"  style=\"position: relative; width: 400px; height: 400px;\">\n        <p id=\"3dmolwarning_17220091182717438\" style=\"background-color:#ffcccc;color:black\">3Dmol.js failed to load for some reason.  Please check your browser console for error messages.<br></p>\n        </div>\n<script>\n\nvar loadScriptAsync = function(uri){\n  return new Promise((resolve, reject) => {\n    //this is to ignore the existence of requirejs amd\n    var savedexports, savedmodule;\n    if (typeof exports !== 'undefined') savedexports = exports;\n    else exports = {}\n    if (typeof module !== 'undefined') savedmodule = module;\n    else module = {}\n\n    var tag = document.createElement('script');\n    tag.src = uri;\n    tag.async = true;\n    tag.onload = () => {\n        exports = savedexports;\n        module = savedmodule;\n        resolve();\n    };\n  var firstScriptTag = document.getElementsByTagName('script')[0];\n  firstScriptTag.parentNode.insertBefore(tag, firstScriptTag);\n});\n};\n\nif(typeof $3Dmolpromise === 'undefined') {\n$3Dmolpromise = null;\n  $3Dmolpromise = loadScriptAsync('https://cdnjs.cloudflare.com/ajax/libs/3Dmol/2.2.1-post1/3Dmol-min.js');\n}\n\nvar viewer_17220091182717438 = null;\nvar warn = document.getElementById(\"3dmolwarning_17220091182717438\");\nif(warn) {\n    warn.parentNode.removeChild(warn);\n}\n$3Dmolpromise.then(function() {\nviewer_17220091182717438 = $3Dmol.createViewer(document.getElementById(\"3dmolviewer_17220091182717438\"),{backgroundColor:\"white\"});\nviewer_17220091182717438.zoomTo();\n\tviewer_17220091182717438.addModel(\"\\n     RDKit          3D\\n\\n 11 10  0  0  0  0  0  0  0  0999 V2000\\n    1.1845   -0.3155   -0.3754 C   0  0  0  0  0  0  0  0  0  0  0  0\\n   -0.1083   -0.4417    0.4248 C   0  0  0  0  0  0  0  0  0  0  0  0\\n   -1.1015    0.6540    0.0499 C   0  0  0  0  0  0  0  0  0  0  0  0\\n    1.8846   -1.1252   -0.0801 H   0  0  0  0  0  0  0  0  0  0  0  0\\n    0.9755   -0.4055   -1.4628 H   0  0  0  0  0  0  0  0  0  0  0  0\\n    1.6687    0.6639   -0.1743 H   0  0  0  0  0  0  0  0  0  0  0  0\\n   -0.5662   -1.4350    0.2276 H   0  0  0  0  0  0  0  0  0  0  0  0\\n    0.1234   -0.3711    1.5095 H   0  0  0  0  0  0  0  0  0  0  0  0\\n   -0.6691    1.6553    0.2606 H   0  0  0  0  0  0  0  0  0  0  0  0\\n   -2.0294    0.5347    0.6480 H   0  0  0  0  0  0  0  0  0  0  0  0\\n   -1.3623    0.5860   -1.0279 H   0  0  0  0  0  0  0  0  0  0  0  0\\n  1  2  1  0\\n  2  3  1  0\\n  1  4  1  0\\n  1  5  1  0\\n  1  6  1  0\\n  2  7  1  0\\n  2  8  1  0\\n  3  9  1  0\\n  3 10  1  0\\n  3 11  1  0\\nM  END\\n\",\"mol\");\n\tviewer_17220091182717438.setStyle({\"stick\": {}});\n\tviewer_17220091182717438.zoomTo();\nviewer_17220091182717438.render();\n});\n</script>",
            "text/html": [
              "<div id=\"3dmolviewer_17220091182717438\"  style=\"position: relative; width: 400px; height: 400px;\">\n",
              "        <p id=\"3dmolwarning_17220091182717438\" style=\"background-color:#ffcccc;color:black\">3Dmol.js failed to load for some reason.  Please check your browser console for error messages.<br></p>\n",
              "        </div>\n",
              "<script>\n",
              "\n",
              "var loadScriptAsync = function(uri){\n",
              "  return new Promise((resolve, reject) => {\n",
              "    //this is to ignore the existence of requirejs amd\n",
              "    var savedexports, savedmodule;\n",
              "    if (typeof exports !== 'undefined') savedexports = exports;\n",
              "    else exports = {}\n",
              "    if (typeof module !== 'undefined') savedmodule = module;\n",
              "    else module = {}\n",
              "\n",
              "    var tag = document.createElement('script');\n",
              "    tag.src = uri;\n",
              "    tag.async = true;\n",
              "    tag.onload = () => {\n",
              "        exports = savedexports;\n",
              "        module = savedmodule;\n",
              "        resolve();\n",
              "    };\n",
              "  var firstScriptTag = document.getElementsByTagName('script')[0];\n",
              "  firstScriptTag.parentNode.insertBefore(tag, firstScriptTag);\n",
              "});\n",
              "};\n",
              "\n",
              "if(typeof $3Dmolpromise === 'undefined') {\n",
              "$3Dmolpromise = null;\n",
              "  $3Dmolpromise = loadScriptAsync('https://cdnjs.cloudflare.com/ajax/libs/3Dmol/2.2.1-post1/3Dmol-min.js');\n",
              "}\n",
              "\n",
              "var viewer_17220091182717438 = null;\n",
              "var warn = document.getElementById(\"3dmolwarning_17220091182717438\");\n",
              "if(warn) {\n",
              "    warn.parentNode.removeChild(warn);\n",
              "}\n",
              "$3Dmolpromise.then(function() {\n",
              "viewer_17220091182717438 = $3Dmol.createViewer(document.getElementById(\"3dmolviewer_17220091182717438\"),{backgroundColor:\"white\"});\n",
              "viewer_17220091182717438.zoomTo();\n",
              "\tviewer_17220091182717438.addModel(\"\\n     RDKit          3D\\n\\n 11 10  0  0  0  0  0  0  0  0999 V2000\\n    1.1845   -0.3155   -0.3754 C   0  0  0  0  0  0  0  0  0  0  0  0\\n   -0.1083   -0.4417    0.4248 C   0  0  0  0  0  0  0  0  0  0  0  0\\n   -1.1015    0.6540    0.0499 C   0  0  0  0  0  0  0  0  0  0  0  0\\n    1.8846   -1.1252   -0.0801 H   0  0  0  0  0  0  0  0  0  0  0  0\\n    0.9755   -0.4055   -1.4628 H   0  0  0  0  0  0  0  0  0  0  0  0\\n    1.6687    0.6639   -0.1743 H   0  0  0  0  0  0  0  0  0  0  0  0\\n   -0.5662   -1.4350    0.2276 H   0  0  0  0  0  0  0  0  0  0  0  0\\n    0.1234   -0.3711    1.5095 H   0  0  0  0  0  0  0  0  0  0  0  0\\n   -0.6691    1.6553    0.2606 H   0  0  0  0  0  0  0  0  0  0  0  0\\n   -2.0294    0.5347    0.6480 H   0  0  0  0  0  0  0  0  0  0  0  0\\n   -1.3623    0.5860   -1.0279 H   0  0  0  0  0  0  0  0  0  0  0  0\\n  1  2  1  0\\n  2  3  1  0\\n  1  4  1  0\\n  1  5  1  0\\n  1  6  1  0\\n  2  7  1  0\\n  2  8  1  0\\n  3  9  1  0\\n  3 10  1  0\\n  3 11  1  0\\nM  END\\n\",\"mol\");\n",
              "\tviewer_17220091182717438.setStyle({\"stick\": {}});\n",
              "\tviewer_17220091182717438.zoomTo();\n",
              "viewer_17220091182717438.render();\n",
              "});\n",
              "</script>"
            ]
          },
          "metadata": {}
        },
        {
          "output_type": "stream",
          "name": "stdout",
          "text": [
            "Molecule 14 (SMILES: CCO):\n"
          ]
        },
        {
          "output_type": "display_data",
          "data": {
            "text/plain": [
              "<PIL.PngImagePlugin.PngImageFile image mode=RGB size=300x300>"
            ],
            "image/png": "[encoded data removed]"
          },
          "metadata": {}
        },
        {
          "output_type": "stream",
          "name": "stdout",
          "text": [
            "3D Visualization:\n"
          ]
        },
        {
          "output_type": "display_data",
          "data": {
            "application/3dmoljs_load.v0": "<div id=\"3dmolviewer_1722009118312584\"  style=\"position: relative; width: 400px; height: 400px;\">\n        <p id=\"3dmolwarning_1722009118312584\" style=\"background-color:#ffcccc;color:black\">3Dmol.js failed to load for some reason.  Please check your browser console for error messages.<br></p>\n        </div>\n<script>\n\nvar loadScriptAsync = function(uri){\n  return new Promise((resolve, reject) => {\n    //this is to ignore the existence of requirejs amd\n    var savedexports, savedmodule;\n    if (typeof exports !== 'undefined') savedexports = exports;\n    else exports = {}\n    if (typeof module !== 'undefined') savedmodule = module;\n    else module = {}\n\n    var tag = document.createElement('script');\n    tag.src = uri;\n    tag.async = true;\n    tag.onload = () => {\n        exports = savedexports;\n        module = savedmodule;\n        resolve();\n    };\n  var firstScriptTag = document.getElementsByTagName('script')[0];\n  firstScriptTag.parentNode.insertBefore(tag, firstScriptTag);\n});\n};\n\nif(typeof $3Dmolpromise === 'undefined') {\n$3Dmolpromise = null;\n  $3Dmolpromise = loadScriptAsync('https://cdnjs.cloudflare.com/ajax/libs/3Dmol/2.2.1-post1/3Dmol-min.js');\n}\n\nvar viewer_1722009118312584 = null;\nvar warn = document.getElementById(\"3dmolwarning_1722009118312584\");\nif(warn) {\n    warn.parentNode.removeChild(warn);\n}\n$3Dmolpromise.then(function() {\nviewer_1722009118312584 = $3Dmol.createViewer(document.getElementById(\"3dmolviewer_1722009118312584\"),{backgroundColor:\"white\"});\nviewer_1722009118312584.zoomTo();\n\tviewer_1722009118312584.addModel(\"\\n     RDKit          3D\\n\\n  9  8  0  0  0  0  0  0  0  0999 V2000\\n   -0.8306    0.1625   -0.3829 C   0  0  0  0  0  0  0  0  0  0  0  0\\n    0.5075   -0.4294    0.0427 C   0  0  0  0  0  0  0  0  0  0  0  0\\n    1.3950    0.5894    0.4150 O   0  0  0  0  0  0  0  0  0  0  0  0\\n   -0.6833    0.8642   -1.2311 H   0  0  0  0  0  0  0  0  0  0  0  0\\n   -1.5149   -0.6513   -0.7030 H   0  0  0  0  0  0  0  0  0  0  0  0\\n   -1.2940    0.7081    0.4663 H   0  0  0  0  0  0  0  0  0  0  0  0\\n    0.9444   -0.9896   -0.8107 H   0  0  0  0  0  0  0  0  0  0  0  0\\n    0.3570   -1.1438    0.8837 H   0  0  0  0  0  0  0  0  0  0  0  0\\n    1.1188    0.8898    1.3201 H   0  0  0  0  0  0  0  0  0  0  0  0\\n  1  2  1  0\\n  2  3  1  0\\n  1  4  1  0\\n  1  5  1  0\\n  1  6  1  0\\n  2  7  1  0\\n  2  8  1  0\\n  3  9  1  0\\nM  END\\n\",\"mol\");\n\tviewer_1722009118312584.setStyle({\"stick\": {}});\n\tviewer_1722009118312584.zoomTo();\nviewer_1722009118312584.render();\n});\n</script>",
            "text/html": [
              "<div id=\"3dmolviewer_1722009118312584\"  style=\"position: relative; width: 400px; height: 400px;\">\n",
              "        <p id=\"3dmolwarning_1722009118312584\" style=\"background-color:#ffcccc;color:black\">3Dmol.js failed to load for some reason.  Please check your browser console for error messages.<br></p>\n",
              "        </div>\n",
              "<script>\n",
              "\n",
              "var loadScriptAsync = function(uri){\n",
              "  return new Promise((resolve, reject) => {\n",
              "    //this is to ignore the existence of requirejs amd\n",
              "    var savedexports, savedmodule;\n",
              "    if (typeof exports !== 'undefined') savedexports = exports;\n",
              "    else exports = {}\n",
              "    if (typeof module !== 'undefined') savedmodule = module;\n",
              "    else module = {}\n",
              "\n",
              "    var tag = document.createElement('script');\n",
              "    tag.src = uri;\n",
              "    tag.async = true;\n",
              "    tag.onload = () => {\n",
              "        exports = savedexports;\n",
              "        module = savedmodule;\n",
              "        resolve();\n",
              "    };\n",
              "  var firstScriptTag = document.getElementsByTagName('script')[0];\n",
              "  firstScriptTag.parentNode.insertBefore(tag, firstScriptTag);\n",
              "});\n",
              "};\n",
              "\n",
              "if(typeof $3Dmolpromise === 'undefined') {\n",
              "$3Dmolpromise = null;\n",
              "  $3Dmolpromise = loadScriptAsync('https://cdnjs.cloudflare.com/ajax/libs/3Dmol/2.2.1-post1/3Dmol-min.js');\n",
              "}\n",
              "\n",
              "var viewer_1722009118312584 = null;\n",
              "var warn = document.getElementById(\"3dmolwarning_1722009118312584\");\n",
              "if(warn) {\n",
              "    warn.parentNode.removeChild(warn);\n",
              "}\n",
              "$3Dmolpromise.then(function() {\n",
              "viewer_1722009118312584 = $3Dmol.createViewer(document.getElementById(\"3dmolviewer_1722009118312584\"),{backgroundColor:\"white\"});\n",
              "viewer_1722009118312584.zoomTo();\n",
              "\tviewer_1722009118312584.addModel(\"\\n     RDKit          3D\\n\\n  9  8  0  0  0  0  0  0  0  0999 V2000\\n   -0.8306    0.1625   -0.3829 C   0  0  0  0  0  0  0  0  0  0  0  0\\n    0.5075   -0.4294    0.0427 C   0  0  0  0  0  0  0  0  0  0  0  0\\n    1.3950    0.5894    0.4150 O   0  0  0  0  0  0  0  0  0  0  0  0\\n   -0.6833    0.8642   -1.2311 H   0  0  0  0  0  0  0  0  0  0  0  0\\n   -1.5149   -0.6513   -0.7030 H   0  0  0  0  0  0  0  0  0  0  0  0\\n   -1.2940    0.7081    0.4663 H   0  0  0  0  0  0  0  0  0  0  0  0\\n    0.9444   -0.9896   -0.8107 H   0  0  0  0  0  0  0  0  0  0  0  0\\n    0.3570   -1.1438    0.8837 H   0  0  0  0  0  0  0  0  0  0  0  0\\n    1.1188    0.8898    1.3201 H   0  0  0  0  0  0  0  0  0  0  0  0\\n  1  2  1  0\\n  2  3  1  0\\n  1  4  1  0\\n  1  5  1  0\\n  1  6  1  0\\n  2  7  1  0\\n  2  8  1  0\\n  3  9  1  0\\nM  END\\n\",\"mol\");\n",
              "\tviewer_1722009118312584.setStyle({\"stick\": {}});\n",
              "\tviewer_1722009118312584.zoomTo();\n",
              "viewer_1722009118312584.render();\n",
              "});\n",
              "</script>"
            ]
          },
          "metadata": {}
        },
        {
          "output_type": "stream",
          "name": "stdout",
          "text": [
            "Molecule 15 (SMILES: COC):\n"
          ]
        },
        {
          "output_type": "display_data",
          "data": {
            "text/plain": [
              "<PIL.PngImagePlugin.PngImageFile image mode=RGB size=300x300>"
            ],
            "image/png": "[encoded data removed]"
          },
          "metadata": {}
        },
        {
          "output_type": "stream",
          "name": "stdout",
          "text": [
            "3D Visualization:\n"
          ]
        },
        {
          "output_type": "display_data",
          "data": {
            "application/3dmoljs_load.v0": "<div id=\"3dmolviewer_17220091183526764\"  style=\"position: relative; width: 400px; height: 400px;\">\n        <p id=\"3dmolwarning_17220091183526764\" style=\"background-color:#ffcccc;color:black\">3Dmol.js failed to load for some reason.  Please check your browser console for error messages.<br></p>\n        </div>\n<script>\n\nvar loadScriptAsync = function(uri){\n  return new Promise((resolve, reject) => {\n    //this is to ignore the existence of requirejs amd\n    var savedexports, savedmodule;\n    if (typeof exports !== 'undefined') savedexports = exports;\n    else exports = {}\n    if (typeof module !== 'undefined') savedmodule = module;\n    else module = {}\n\n    var tag = document.createElement('script');\n    tag.src = uri;\n    tag.async = true;\n    tag.onload = () => {\n        exports = savedexports;\n        module = savedmodule;\n        resolve();\n    };\n  var firstScriptTag = document.getElementsByTagName('script')[0];\n  firstScriptTag.parentNode.insertBefore(tag, firstScriptTag);\n});\n};\n\nif(typeof $3Dmolpromise === 'undefined') {\n$3Dmolpromise = null;\n  $3Dmolpromise = loadScriptAsync('https://cdnjs.cloudflare.com/ajax/libs/3Dmol/2.2.1-post1/3Dmol-min.js');\n}\n\nvar viewer_17220091183526764 = null;\nvar warn = document.getElementById(\"3dmolwarning_17220091183526764\");\nif(warn) {\n    warn.parentNode.removeChild(warn);\n}\n$3Dmolpromise.then(function() {\nviewer_17220091183526764 = $3Dmol.createViewer(document.getElementById(\"3dmolviewer_17220091183526764\"),{backgroundColor:\"white\"});\nviewer_17220091183526764.zoomTo();\n\tviewer_17220091183526764.addModel(\"\\n     RDKit          3D\\n\\n  9  8  0  0  0  0  0  0  0  0999 V2000\\n    1.1355    0.1721   -0.0549 C   0  0  0  0  0  0  0  0  0  0  0  0\\n    0.1450   -0.8100   -0.2584 O   0  0  0  0  0  0  0  0  0  0  0  0\\n   -1.1201   -0.2580    0.0275 C   0  0  0  0  0  0  0  0  0  0  0  0\\n    1.1552    0.5117    1.0048 H   0  0  0  0  0  0  0  0  0  0  0  0\\n    0.9910    1.0385   -0.7384 H   0  0  0  0  0  0  0  0  0  0  0  0\\n    2.1261   -0.2724   -0.2825 H   0  0  0  0  0  0  0  0  0  0  0  0\\n   -1.1885    0.0649    1.0904 H   0  0  0  0  0  0  0  0  0  0  0  0\\n   -1.3527    0.5916   -0.6528 H   0  0  0  0  0  0  0  0  0  0  0  0\\n   -1.8914   -1.0384   -0.1357 H   0  0  0  0  0  0  0  0  0  0  0  0\\n  1  2  1  0\\n  2  3  1  0\\n  1  4  1  0\\n  1  5  1  0\\n  1  6  1  0\\n  3  7  1  0\\n  3  8  1  0\\n  3  9  1  0\\nM  END\\n\",\"mol\");\n\tviewer_17220091183526764.setStyle({\"stick\": {}});\n\tviewer_17220091183526764.zoomTo();\nviewer_17220091183526764.render();\n});\n</script>",
            "text/html": [
              "<div id=\"3dmolviewer_17220091183526764\"  style=\"position: relative; width: 400px; height: 400px;\">\n",
              "        <p id=\"3dmolwarning_17220091183526764\" style=\"background-color:#ffcccc;color:black\">3Dmol.js failed to load for some reason.  Please check your browser console for error messages.<br></p>\n",
              "        </div>\n",
              "<script>\n",
              "\n",
              "var loadScriptAsync = function(uri){\n",
              "  return new Promise((resolve, reject) => {\n",
              "    //this is to ignore the existence of requirejs amd\n",
              "    var savedexports, savedmodule;\n",
              "    if (typeof exports !== 'undefined') savedexports = exports;\n",
              "    else exports = {}\n",
              "    if (typeof module !== 'undefined') savedmodule = module;\n",
              "    else module = {}\n",
              "\n",
              "    var tag = document.createElement('script');\n",
              "    tag.src = uri;\n",
              "    tag.async = true;\n",
              "    tag.onload = () => {\n",
              "        exports = savedexports;\n",
              "        module = savedmodule;\n",
              "        resolve();\n",
              "    };\n",
              "  var firstScriptTag = document.getElementsByTagName('script')[0];\n",
              "  firstScriptTag.parentNode.insertBefore(tag, firstScriptTag);\n",
              "});\n",
              "};\n",
              "\n",
              "if(typeof $3Dmolpromise === 'undefined') {\n",
              "$3Dmolpromise = null;\n",
              "  $3Dmolpromise = loadScriptAsync('https://cdnjs.cloudflare.com/ajax/libs/3Dmol/2.2.1-post1/3Dmol-min.js');\n",
              "}\n",
              "\n",
              "var viewer_17220091183526764 = null;\n",
              "var warn = document.getElementById(\"3dmolwarning_17220091183526764\");\n",
              "if(warn) {\n",
              "    warn.parentNode.removeChild(warn);\n",
              "}\n",
              "$3Dmolpromise.then(function() {\n",
              "viewer_17220091183526764 = $3Dmol.createViewer(document.getElementById(\"3dmolviewer_17220091183526764\"),{backgroundColor:\"white\"});\n",
              "viewer_17220091183526764.zoomTo();\n",
              "\tviewer_17220091183526764.addModel(\"\\n     RDKit          3D\\n\\n  9  8  0  0  0  0  0  0  0  0999 V2000\\n    1.1355    0.1721   -0.0549 C   0  0  0  0  0  0  0  0  0  0  0  0\\n    0.1450   -0.8100   -0.2584 O   0  0  0  0  0  0  0  0  0  0  0  0\\n   -1.1201   -0.2580    0.0275 C   0  0  0  0  0  0  0  0  0  0  0  0\\n    1.1552    0.5117    1.0048 H   0  0  0  0  0  0  0  0  0  0  0  0\\n    0.9910    1.0385   -0.7384 H   0  0  0  0  0  0  0  0  0  0  0  0\\n    2.1261   -0.2724   -0.2825 H   0  0  0  0  0  0  0  0  0  0  0  0\\n   -1.1885    0.0649    1.0904 H   0  0  0  0  0  0  0  0  0  0  0  0\\n   -1.3527    0.5916   -0.6528 H   0  0  0  0  0  0  0  0  0  0  0  0\\n   -1.8914   -1.0384   -0.1357 H   0  0  0  0  0  0  0  0  0  0  0  0\\n  1  2  1  0\\n  2  3  1  0\\n  1  4  1  0\\n  1  5  1  0\\n  1  6  1  0\\n  3  7  1  0\\n  3  8  1  0\\n  3  9  1  0\\nM  END\\n\",\"mol\");\n",
              "\tviewer_17220091183526764.setStyle({\"stick\": {}});\n",
              "\tviewer_17220091183526764.zoomTo();\n",
              "viewer_17220091183526764.render();\n",
              "});\n",
              "</script>"
            ]
          },
          "metadata": {}
        },
        {
          "output_type": "stream",
          "name": "stdout",
          "text": [
            "Molecule 16 (SMILES: C1CC1):\n"
          ]
        },
        {
          "output_type": "display_data",
          "data": {
            "text/plain": [
              "<PIL.PngImagePlugin.PngImageFile image mode=RGB size=300x300>"
            ],
            "image/png": "[encoded data removed]"
          },
          "metadata": {}
        },
        {
          "output_type": "stream",
          "name": "stdout",
          "text": [
            "3D Visualization:\n"
          ]
        },
        {
          "output_type": "display_data",
          "data": {
            "application/3dmoljs_load.v0": "<div id=\"3dmolviewer_17220091184098735\"  style=\"position: relative; width: 400px; height: 400px;\">\n        <p id=\"3dmolwarning_17220091184098735\" style=\"background-color:#ffcccc;color:black\">3Dmol.js failed to load for some reason.  Please check your browser console for error messages.<br></p>\n        </div>\n<script>\n\nvar loadScriptAsync = function(uri){\n  return new Promise((resolve, reject) => {\n    //this is to ignore the existence of requirejs amd\n    var savedexports, savedmodule;\n    if (typeof exports !== 'undefined') savedexports = exports;\n    else exports = {}\n    if (typeof module !== 'undefined') savedmodule = module;\n    else module = {}\n\n    var tag = document.createElement('script');\n    tag.src = uri;\n    tag.async = true;\n    tag.onload = () => {\n        exports = savedexports;\n        module = savedmodule;\n        resolve();\n    };\n  var firstScriptTag = document.getElementsByTagName('script')[0];\n  firstScriptTag.parentNode.insertBefore(tag, firstScriptTag);\n});\n};\n\nif(typeof $3Dmolpromise === 'undefined') {\n$3Dmolpromise = null;\n  $3Dmolpromise = loadScriptAsync('https://cdnjs.cloudflare.com/ajax/libs/3Dmol/2.2.1-post1/3Dmol-min.js');\n}\n\nvar viewer_17220091184098735 = null;\nvar warn = document.getElementById(\"3dmolwarning_17220091184098735\");\nif(warn) {\n    warn.parentNode.removeChild(warn);\n}\n$3Dmolpromise.then(function() {\nviewer_17220091184098735 = $3Dmol.createViewer(document.getElementById(\"3dmolviewer_17220091184098735\"),{backgroundColor:\"white\"});\nviewer_17220091184098735.zoomTo();\n\tviewer_17220091184098735.addModel(\"\\n     RDKit          3D\\n\\n  9  9  0  0  0  0  0  0  0  0999 V2000\\n    0.8090   -0.3351    0.0156 C   0  0  0  0  0  0  0  0  0  0  0  0\\n   -0.6923   -0.5305   -0.0792 C   0  0  0  0  0  0  0  0  0  0  0  0\\n   -0.1167    0.8658    0.0636 C   0  0  0  0  0  0  0  0  0  0  0  0\\n    1.3494   -0.4597   -0.9467 H   0  0  0  0  0  0  0  0  0  0  0  0\\n    1.2472   -0.6162    0.9967 H   0  0  0  0  0  0  0  0  0  0  0  0\\n   -1.0599   -0.7732   -1.0987 H   0  0  0  0  0  0  0  0  0  0  0  0\\n   -1.1621   -0.9299    0.8445 H   0  0  0  0  0  0  0  0  0  0  0  0\\n   -0.1362    1.4677   -0.8695 H   0  0  0  0  0  0  0  0  0  0  0  0\\n   -0.2385    1.3111    1.0737 H   0  0  0  0  0  0  0  0  0  0  0  0\\n  1  2  1  0\\n  2  3  1  0\\n  3  1  1  0\\n  1  4  1  0\\n  1  5  1  0\\n  2  6  1  0\\n  2  7  1  0\\n  3  8  1  0\\n  3  9  1  0\\nM  END\\n\",\"mol\");\n\tviewer_17220091184098735.setStyle({\"stick\": {}});\n\tviewer_17220091184098735.zoomTo();\nviewer_17220091184098735.render();\n});\n</script>",
            "text/html": [
              "<div id=\"3dmolviewer_17220091184098735\"  style=\"position: relative; width: 400px; height: 400px;\">\n",
              "        <p id=\"3dmolwarning_17220091184098735\" style=\"background-color:#ffcccc;color:black\">3Dmol.js failed to load for some reason.  Please check your browser console for error messages.<br></p>\n",
              "        </div>\n",
              "<script>\n",
              "\n",
              "var loadScriptAsync = function(uri){\n",
              "  return new Promise((resolve, reject) => {\n",
              "    //this is to ignore the existence of requirejs amd\n",
              "    var savedexports, savedmodule;\n",
              "    if (typeof exports !== 'undefined') savedexports = exports;\n",
              "    else exports = {}\n",
              "    if (typeof module !== 'undefined') savedmodule = module;\n",
              "    else module = {}\n",
              "\n",
              "    var tag = document.createElement('script');\n",
              "    tag.src = uri;\n",
              "    tag.async = true;\n",
              "    tag.onload = () => {\n",
              "        exports = savedexports;\n",
              "        module = savedmodule;\n",
              "        resolve();\n",
              "    };\n",
              "  var firstScriptTag = document.getElementsByTagName('script')[0];\n",
              "  firstScriptTag.parentNode.insertBefore(tag, firstScriptTag);\n",
              "});\n",
              "};\n",
              "\n",
              "if(typeof $3Dmolpromise === 'undefined') {\n",
              "$3Dmolpromise = null;\n",
              "  $3Dmolpromise = loadScriptAsync('https://cdnjs.cloudflare.com/ajax/libs/3Dmol/2.2.1-post1/3Dmol-min.js');\n",
              "}\n",
              "\n",
              "var viewer_17220091184098735 = null;\n",
              "var warn = document.getElementById(\"3dmolwarning_17220091184098735\");\n",
              "if(warn) {\n",
              "    warn.parentNode.removeChild(warn);\n",
              "}\n",
              "$3Dmolpromise.then(function() {\n",
              "viewer_17220091184098735 = $3Dmol.createViewer(document.getElementById(\"3dmolviewer_17220091184098735\"),{backgroundColor:\"white\"});\n",
              "viewer_17220091184098735.zoomTo();\n",
              "\tviewer_17220091184098735.addModel(\"\\n     RDKit          3D\\n\\n  9  9  0  0  0  0  0  0  0  0999 V2000\\n    0.8090   -0.3351    0.0156 C   0  0  0  0  0  0  0  0  0  0  0  0\\n   -0.6923   -0.5305   -0.0792 C   0  0  0  0  0  0  0  0  0  0  0  0\\n   -0.1167    0.8658    0.0636 C   0  0  0  0  0  0  0  0  0  0  0  0\\n    1.3494   -0.4597   -0.9467 H   0  0  0  0  0  0  0  0  0  0  0  0\\n    1.2472   -0.6162    0.9967 H   0  0  0  0  0  0  0  0  0  0  0  0\\n   -1.0599   -0.7732   -1.0987 H   0  0  0  0  0  0  0  0  0  0  0  0\\n   -1.1621   -0.9299    0.8445 H   0  0  0  0  0  0  0  0  0  0  0  0\\n   -0.1362    1.4677   -0.8695 H   0  0  0  0  0  0  0  0  0  0  0  0\\n   -0.2385    1.3111    1.0737 H   0  0  0  0  0  0  0  0  0  0  0  0\\n  1  2  1  0\\n  2  3  1  0\\n  3  1  1  0\\n  1  4  1  0\\n  1  5  1  0\\n  2  6  1  0\\n  2  7  1  0\\n  3  8  1  0\\n  3  9  1  0\\nM  END\\n\",\"mol\");\n",
              "\tviewer_17220091184098735.setStyle({\"stick\": {}});\n",
              "\tviewer_17220091184098735.zoomTo();\n",
              "viewer_17220091184098735.render();\n",
              "});\n",
              "</script>"
            ]
          },
          "metadata": {}
        },
        {
          "output_type": "stream",
          "name": "stdout",
          "text": [
            "Molecule 17 (SMILES: C1CO1):\n"
          ]
        },
        {
          "output_type": "display_data",
          "data": {
            "text/plain": [
              "<PIL.PngImagePlugin.PngImageFile image mode=RGB size=300x300>"
            ],
            "image/png": "[encoded data removed]"
          },
          "metadata": {}
        },
        {
          "output_type": "stream",
          "name": "stdout",
          "text": [
            "3D Visualization:\n"
          ]
        },
        {
          "output_type": "display_data",
          "data": {
            "application/3dmoljs_load.v0": "<div id=\"3dmolviewer_17220091184526858\"  style=\"position: relative; width: 400px; height: 400px;\">\n        <p id=\"3dmolwarning_17220091184526858\" style=\"background-color:#ffcccc;color:black\">3Dmol.js failed to load for some reason.  Please check your browser console for error messages.<br></p>\n        </div>\n<script>\n\nvar loadScriptAsync = function(uri){\n  return new Promise((resolve, reject) => {\n    //this is to ignore the existence of requirejs amd\n    var savedexports, savedmodule;\n    if (typeof exports !== 'undefined') savedexports = exports;\n    else exports = {}\n    if (typeof module !== 'undefined') savedmodule = module;\n    else module = {}\n\n    var tag = document.createElement('script');\n    tag.src = uri;\n    tag.async = true;\n    tag.onload = () => {\n        exports = savedexports;\n        module = savedmodule;\n        resolve();\n    };\n  var firstScriptTag = document.getElementsByTagName('script')[0];\n  firstScriptTag.parentNode.insertBefore(tag, firstScriptTag);\n});\n};\n\nif(typeof $3Dmolpromise === 'undefined') {\n$3Dmolpromise = null;\n  $3Dmolpromise = loadScriptAsync('https://cdnjs.cloudflare.com/ajax/libs/3Dmol/2.2.1-post1/3Dmol-min.js');\n}\n\nvar viewer_17220091184526858 = null;\nvar warn = document.getElementById(\"3dmolwarning_17220091184526858\");\nif(warn) {\n    warn.parentNode.removeChild(warn);\n}\n$3Dmolpromise.then(function() {\nviewer_17220091184526858 = $3Dmol.createViewer(document.getElementById(\"3dmolviewer_17220091184526858\"),{backgroundColor:\"white\"});\nviewer_17220091184526858.zoomTo();\n\tviewer_17220091184526858.addModel(\"\\n     RDKit          3D\\n\\n  7  7  0  0  0  0  0  0  0  0999 V2000\\n    0.7393    0.0308   -0.0474 C   0  0  0  0  0  0  0  0  0  0  0  0\\n   -0.7349   -0.0277   -0.0949 C   0  0  0  0  0  0  0  0  0  0  0  0\\n   -0.0353   -0.0251    1.1265 O   0  0  0  0  0  0  0  0  0  0  0  0\\n    1.1964    1.0328   -0.1859 H   0  0  0  0  0  0  0  0  0  0  0  0\\n    1.2753   -0.9244   -0.2271 H   0  0  0  0  0  0  0  0  0  0  0  0\\n   -1.1809   -1.0218   -0.3062 H   0  0  0  0  0  0  0  0  0  0  0  0\\n   -1.2600    0.9353   -0.2650 H   0  0  0  0  0  0  0  0  0  0  0  0\\n  1  2  1  0\\n  2  3  1  0\\n  3  1  1  0\\n  1  4  1  0\\n  1  5  1  0\\n  2  6  1  0\\n  2  7  1  0\\nM  END\\n\",\"mol\");\n\tviewer_17220091184526858.setStyle({\"stick\": {}});\n\tviewer_17220091184526858.zoomTo();\nviewer_17220091184526858.render();\n});\n</script>",
            "text/html": [
              "<div id=\"3dmolviewer_17220091184526858\"  style=\"position: relative; width: 400px; height: 400px;\">\n",
              "        <p id=\"3dmolwarning_17220091184526858\" style=\"background-color:#ffcccc;color:black\">3Dmol.js failed to load for some reason.  Please check your browser console for error messages.<br></p>\n",
              "        </div>\n",
              "<script>\n",
              "\n",
              "var loadScriptAsync = function(uri){\n",
              "  return new Promise((resolve, reject) => {\n",
              "    //this is to ignore the existence of requirejs amd\n",
              "    var savedexports, savedmodule;\n",
              "    if (typeof exports !== 'undefined') savedexports = exports;\n",
              "    else exports = {}\n",
              "    if (typeof module !== 'undefined') savedmodule = module;\n",
              "    else module = {}\n",
              "\n",
              "    var tag = document.createElement('script');\n",
              "    tag.src = uri;\n",
              "    tag.async = true;\n",
              "    tag.onload = () => {\n",
              "        exports = savedexports;\n",
              "        module = savedmodule;\n",
              "        resolve();\n",
              "    };\n",
              "  var firstScriptTag = document.getElementsByTagName('script')[0];\n",
              "  firstScriptTag.parentNode.insertBefore(tag, firstScriptTag);\n",
              "});\n",
              "};\n",
              "\n",
              "if(typeof $3Dmolpromise === 'undefined') {\n",
              "$3Dmolpromise = null;\n",
              "  $3Dmolpromise = loadScriptAsync('https://cdnjs.cloudflare.com/ajax/libs/3Dmol/2.2.1-post1/3Dmol-min.js');\n",
              "}\n",
              "\n",
              "var viewer_17220091184526858 = null;\n",
              "var warn = document.getElementById(\"3dmolwarning_17220091184526858\");\n",
              "if(warn) {\n",
              "    warn.parentNode.removeChild(warn);\n",
              "}\n",
              "$3Dmolpromise.then(function() {\n",
              "viewer_17220091184526858 = $3Dmol.createViewer(document.getElementById(\"3dmolviewer_17220091184526858\"),{backgroundColor:\"white\"});\n",
              "viewer_17220091184526858.zoomTo();\n",
              "\tviewer_17220091184526858.addModel(\"\\n     RDKit          3D\\n\\n  7  7  0  0  0  0  0  0  0  0999 V2000\\n    0.7393    0.0308   -0.0474 C   0  0  0  0  0  0  0  0  0  0  0  0\\n   -0.7349   -0.0277   -0.0949 C   0  0  0  0  0  0  0  0  0  0  0  0\\n   -0.0353   -0.0251    1.1265 O   0  0  0  0  0  0  0  0  0  0  0  0\\n    1.1964    1.0328   -0.1859 H   0  0  0  0  0  0  0  0  0  0  0  0\\n    1.2753   -0.9244   -0.2271 H   0  0  0  0  0  0  0  0  0  0  0  0\\n   -1.1809   -1.0218   -0.3062 H   0  0  0  0  0  0  0  0  0  0  0  0\\n   -1.2600    0.9353   -0.2650 H   0  0  0  0  0  0  0  0  0  0  0  0\\n  1  2  1  0\\n  2  3  1  0\\n  3  1  1  0\\n  1  4  1  0\\n  1  5  1  0\\n  2  6  1  0\\n  2  7  1  0\\nM  END\\n\",\"mol\");\n",
              "\tviewer_17220091184526858.setStyle({\"stick\": {}});\n",
              "\tviewer_17220091184526858.zoomTo();\n",
              "viewer_17220091184526858.render();\n",
              "});\n",
              "</script>"
            ]
          },
          "metadata": {}
        },
        {
          "output_type": "stream",
          "name": "stdout",
          "text": [
            "Molecule 18 (SMILES: CC(=O)C):\n"
          ]
        },
        {
          "output_type": "display_data",
          "data": {
            "text/plain": [
              "<PIL.PngImagePlugin.PngImageFile image mode=RGB size=300x300>"
            ],
            "image/png": "[encoded data removed]"
          },
          "metadata": {}
        },
        {
          "output_type": "stream",
          "name": "stdout",
          "text": [
            "3D Visualization:\n"
          ]
        },
        {
          "output_type": "display_data",
          "data": {
            "application/3dmoljs_load.v0": "<div id=\"3dmolviewer_1722009118502029\"  style=\"position: relative; width: 400px; height: 400px;\">\n        <p id=\"3dmolwarning_1722009118502029\" style=\"background-color:#ffcccc;color:black\">3Dmol.js failed to load for some reason.  Please check your browser console for error messages.<br></p>\n        </div>\n<script>\n\nvar loadScriptAsync = function(uri){\n  return new Promise((resolve, reject) => {\n    //this is to ignore the existence of requirejs amd\n    var savedexports, savedmodule;\n    if (typeof exports !== 'undefined') savedexports = exports;\n    else exports = {}\n    if (typeof module !== 'undefined') savedmodule = module;\n    else module = {}\n\n    var tag = document.createElement('script');\n    tag.src = uri;\n    tag.async = true;\n    tag.onload = () => {\n        exports = savedexports;\n        module = savedmodule;\n        resolve();\n    };\n  var firstScriptTag = document.getElementsByTagName('script')[0];\n  firstScriptTag.parentNode.insertBefore(tag, firstScriptTag);\n});\n};\n\nif(typeof $3Dmolpromise === 'undefined') {\n$3Dmolpromise = null;\n  $3Dmolpromise = loadScriptAsync('https://cdnjs.cloudflare.com/ajax/libs/3Dmol/2.2.1-post1/3Dmol-min.js');\n}\n\nvar viewer_1722009118502029 = null;\nvar warn = document.getElementById(\"3dmolwarning_1722009118502029\");\nif(warn) {\n    warn.parentNode.removeChild(warn);\n}\n$3Dmolpromise.then(function() {\nviewer_1722009118502029 = $3Dmol.createViewer(document.getElementById(\"3dmolviewer_1722009118502029\"),{backgroundColor:\"white\"});\nviewer_1722009118502029.zoomTo();\n\tviewer_1722009118502029.addModel(\"\\n     RDKit          3D\\n\\n 10  9  0  0  0  0  0  0  0  0999 V2000\\n   -1.2625   -0.1273   -0.3598 C   0  0  0  0  0  0  0  0  0  0  0  0\\n   -0.0788   -0.0831    0.5607 C   0  0  0  0  0  0  0  0  0  0  0  0\\n   -0.2470   -0.2604    1.7572 O   0  0  0  0  0  0  0  0  0  0  0  0\\n    1.3066    0.1738    0.0460 C   0  0  0  0  0  0  0  0  0  0  0  0\\n   -1.7486   -1.1230   -0.2912 H   0  0  0  0  0  0  0  0  0  0  0  0\\n   -0.9641    0.0496   -1.4142 H   0  0  0  0  0  0  0  0  0  0  0  0\\n   -1.9930    0.6539   -0.0623 H   0  0  0  0  0  0  0  0  0  0  0  0\\n    1.3111    0.3163   -1.0548 H   0  0  0  0  0  0  0  0  0  0  0  0\\n    1.9604   -0.6883    0.2946 H   0  0  0  0  0  0  0  0  0  0  0  0\\n    1.7159    1.0886    0.5236 H   0  0  0  0  0  0  0  0  0  0  0  0\\n  1  2  1  0\\n  2  3  2  0\\n  2  4  1  0\\n  1  5  1  0\\n  1  6  1  0\\n  1  7  1  0\\n  4  8  1  0\\n  4  9  1  0\\n  4 10  1  0\\nM  END\\n\",\"mol\");\n\tviewer_1722009118502029.setStyle({\"stick\": {}});\n\tviewer_1722009118502029.zoomTo();\nviewer_1722009118502029.render();\n});\n</script>",
            "text/html": [
              "<div id=\"3dmolviewer_1722009118502029\"  style=\"position: relative; width: 400px; height: 400px;\">\n",
              "        <p id=\"3dmolwarning_1722009118502029\" style=\"background-color:#ffcccc;color:black\">3Dmol.js failed to load for some reason.  Please check your browser console for error messages.<br></p>\n",
              "        </div>\n",
              "<script>\n",
              "\n",
              "var loadScriptAsync = function(uri){\n",
              "  return new Promise((resolve, reject) => {\n",
              "    //this is to ignore the existence of requirejs amd\n",
              "    var savedexports, savedmodule;\n",
              "    if (typeof exports !== 'undefined') savedexports = exports;\n",
              "    else exports = {}\n",
              "    if (typeof module !== 'undefined') savedmodule = module;\n",
              "    else module = {}\n",
              "\n",
              "    var tag = document.createElement('script');\n",
              "    tag.src = uri;\n",
              "    tag.async = true;\n",
              "    tag.onload = () => {\n",
              "        exports = savedexports;\n",
              "        module = savedmodule;\n",
              "        resolve();\n",
              "    };\n",
              "  var firstScriptTag = document.getElementsByTagName('script')[0];\n",
              "  firstScriptTag.parentNode.insertBefore(tag, firstScriptTag);\n",
              "});\n",
              "};\n",
              "\n",
              "if(typeof $3Dmolpromise === 'undefined') {\n",
              "$3Dmolpromise = null;\n",
              "  $3Dmolpromise = loadScriptAsync('https://cdnjs.cloudflare.com/ajax/libs/3Dmol/2.2.1-post1/3Dmol-min.js');\n",
              "}\n",
              "\n",
              "var viewer_1722009118502029 = null;\n",
              "var warn = document.getElementById(\"3dmolwarning_1722009118502029\");\n",
              "if(warn) {\n",
              "    warn.parentNode.removeChild(warn);\n",
              "}\n",
              "$3Dmolpromise.then(function() {\n",
              "viewer_1722009118502029 = $3Dmol.createViewer(document.getElementById(\"3dmolviewer_1722009118502029\"),{backgroundColor:\"white\"});\n",
              "viewer_1722009118502029.zoomTo();\n",
              "\tviewer_1722009118502029.addModel(\"\\n     RDKit          3D\\n\\n 10  9  0  0  0  0  0  0  0  0999 V2000\\n   -1.2625   -0.1273   -0.3598 C   0  0  0  0  0  0  0  0  0  0  0  0\\n   -0.0788   -0.0831    0.5607 C   0  0  0  0  0  0  0  0  0  0  0  0\\n   -0.2470   -0.2604    1.7572 O   0  0  0  0  0  0  0  0  0  0  0  0\\n    1.3066    0.1738    0.0460 C   0  0  0  0  0  0  0  0  0  0  0  0\\n   -1.7486   -1.1230   -0.2912 H   0  0  0  0  0  0  0  0  0  0  0  0\\n   -0.9641    0.0496   -1.4142 H   0  0  0  0  0  0  0  0  0  0  0  0\\n   -1.9930    0.6539   -0.0623 H   0  0  0  0  0  0  0  0  0  0  0  0\\n    1.3111    0.3163   -1.0548 H   0  0  0  0  0  0  0  0  0  0  0  0\\n    1.9604   -0.6883    0.2946 H   0  0  0  0  0  0  0  0  0  0  0  0\\n    1.7159    1.0886    0.5236 H   0  0  0  0  0  0  0  0  0  0  0  0\\n  1  2  1  0\\n  2  3  2  0\\n  2  4  1  0\\n  1  5  1  0\\n  1  6  1  0\\n  1  7  1  0\\n  4  8  1  0\\n  4  9  1  0\\n  4 10  1  0\\nM  END\\n\",\"mol\");\n",
              "\tviewer_1722009118502029.setStyle({\"stick\": {}});\n",
              "\tviewer_1722009118502029.zoomTo();\n",
              "viewer_1722009118502029.render();\n",
              "});\n",
              "</script>"
            ]
          },
          "metadata": {}
        },
        {
          "output_type": "stream",
          "name": "stdout",
          "text": [
            "Molecule 19 (SMILES: CC(=O)N):\n"
          ]
        },
        {
          "output_type": "display_data",
          "data": {
            "text/plain": [
              "<PIL.PngImagePlugin.PngImageFile image mode=RGB size=300x300>"
            ],
            "image/png": "[encoded data removed]"
          },
          "metadata": {}
        },
        {
          "output_type": "stream",
          "name": "stdout",
          "text": [
            "3D Visualization:\n"
          ]
        },
        {
          "output_type": "display_data",
          "data": {
            "application/3dmoljs_load.v0": "<div id=\"3dmolviewer_17220091185426955\"  style=\"position: relative; width: 400px; height: 400px;\">\n        <p id=\"3dmolwarning_17220091185426955\" style=\"background-color:#ffcccc;color:black\">3Dmol.js failed to load for some reason.  Please check your browser console for error messages.<br></p>\n        </div>\n<script>\n\nvar loadScriptAsync = function(uri){\n  return new Promise((resolve, reject) => {\n    //this is to ignore the existence of requirejs amd\n    var savedexports, savedmodule;\n    if (typeof exports !== 'undefined') savedexports = exports;\n    else exports = {}\n    if (typeof module !== 'undefined') savedmodule = module;\n    else module = {}\n\n    var tag = document.createElement('script');\n    tag.src = uri;\n    tag.async = true;\n    tag.onload = () => {\n        exports = savedexports;\n        module = savedmodule;\n        resolve();\n    };\n  var firstScriptTag = document.getElementsByTagName('script')[0];\n  firstScriptTag.parentNode.insertBefore(tag, firstScriptTag);\n});\n};\n\nif(typeof $3Dmolpromise === 'undefined') {\n$3Dmolpromise = null;\n  $3Dmolpromise = loadScriptAsync('https://cdnjs.cloudflare.com/ajax/libs/3Dmol/2.2.1-post1/3Dmol-min.js');\n}\n\nvar viewer_17220091185426955 = null;\nvar warn = document.getElementById(\"3dmolwarning_17220091185426955\");\nif(warn) {\n    warn.parentNode.removeChild(warn);\n}\n$3Dmolpromise.then(function() {\nviewer_17220091185426955 = $3Dmol.createViewer(document.getElementById(\"3dmolviewer_17220091185426955\"),{backgroundColor:\"white\"});\nviewer_17220091185426955.zoomTo();\n\tviewer_17220091185426955.addModel(\"\\n     RDKit          3D\\n\\n  9  8  0  0  0  0  0  0  0  0999 V2000\\n   -1.1154   -0.0929   -0.2268 C   0  0  0  0  0  0  0  0  0  0  0  0\\n    0.1710    0.4731    0.2796 C   0  0  0  0  0  0  0  0  0  0  0  0\\n    0.1735    1.5644    0.9089 O   0  0  0  0  0  0  0  0  0  0  0  0\\n    1.3940   -0.2350    0.0827 N   0  0  0  0  0  0  0  0  0  0  0  0\\n   -0.9895   -0.4301   -1.2769 H   0  0  0  0  0  0  0  0  0  0  0  0\\n   -1.4113   -0.9582    0.4020 H   0  0  0  0  0  0  0  0  0  0  0  0\\n   -1.9186    0.6735   -0.1914 H   0  0  0  0  0  0  0  0  0  0  0  0\\n    2.2928    0.1539    0.4448 H   0  0  0  0  0  0  0  0  0  0  0  0\\n    1.4035   -1.1486   -0.4228 H   0  0  0  0  0  0  0  0  0  0  0  0\\n  1  2  1  0\\n  2  3  2  0\\n  2  4  1  0\\n  1  5  1  0\\n  1  6  1  0\\n  1  7  1  0\\n  4  8  1  0\\n  4  9  1  0\\nM  END\\n\",\"mol\");\n\tviewer_17220091185426955.setStyle({\"stick\": {}});\n\tviewer_17220091185426955.zoomTo();\nviewer_17220091185426955.render();\n});\n</script>",
            "text/html": [
              "<div id=\"3dmolviewer_17220091185426955\"  style=\"position: relative; width: 400px; height: 400px;\">\n",
              "        <p id=\"3dmolwarning_17220091185426955\" style=\"background-color:#ffcccc;color:black\">3Dmol.js failed to load for some reason.  Please check your browser console for error messages.<br></p>\n",
              "        </div>\n",
              "<script>\n",
              "\n",
              "var loadScriptAsync = function(uri){\n",
              "  return new Promise((resolve, reject) => {\n",
              "    //this is to ignore the existence of requirejs amd\n",
              "    var savedexports, savedmodule;\n",
              "    if (typeof exports !== 'undefined') savedexports = exports;\n",
              "    else exports = {}\n",
              "    if (typeof module !== 'undefined') savedmodule = module;\n",
              "    else module = {}\n",
              "\n",
              "    var tag = document.createElement('script');\n",
              "    tag.src = uri;\n",
              "    tag.async = true;\n",
              "    tag.onload = () => {\n",
              "        exports = savedexports;\n",
              "        module = savedmodule;\n",
              "        resolve();\n",
              "    };\n",
              "  var firstScriptTag = document.getElementsByTagName('script')[0];\n",
              "  firstScriptTag.parentNode.insertBefore(tag, firstScriptTag);\n",
              "});\n",
              "};\n",
              "\n",
              "if(typeof $3Dmolpromise === 'undefined') {\n",
              "$3Dmolpromise = null;\n",
              "  $3Dmolpromise = loadScriptAsync('https://cdnjs.cloudflare.com/ajax/libs/3Dmol/2.2.1-post1/3Dmol-min.js');\n",
              "}\n",
              "\n",
              "var viewer_17220091185426955 = null;\n",
              "var warn = document.getElementById(\"3dmolwarning_17220091185426955\");\n",
              "if(warn) {\n",
              "    warn.parentNode.removeChild(warn);\n",
              "}\n",
              "$3Dmolpromise.then(function() {\n",
              "viewer_17220091185426955 = $3Dmol.createViewer(document.getElementById(\"3dmolviewer_17220091185426955\"),{backgroundColor:\"white\"});\n",
              "viewer_17220091185426955.zoomTo();\n",
              "\tviewer_17220091185426955.addModel(\"\\n     RDKit          3D\\n\\n  9  8  0  0  0  0  0  0  0  0999 V2000\\n   -1.1154   -0.0929   -0.2268 C   0  0  0  0  0  0  0  0  0  0  0  0\\n    0.1710    0.4731    0.2796 C   0  0  0  0  0  0  0  0  0  0  0  0\\n    0.1735    1.5644    0.9089 O   0  0  0  0  0  0  0  0  0  0  0  0\\n    1.3940   -0.2350    0.0827 N   0  0  0  0  0  0  0  0  0  0  0  0\\n   -0.9895   -0.4301   -1.2769 H   0  0  0  0  0  0  0  0  0  0  0  0\\n   -1.4113   -0.9582    0.4020 H   0  0  0  0  0  0  0  0  0  0  0  0\\n   -1.9186    0.6735   -0.1914 H   0  0  0  0  0  0  0  0  0  0  0  0\\n    2.2928    0.1539    0.4448 H   0  0  0  0  0  0  0  0  0  0  0  0\\n    1.4035   -1.1486   -0.4228 H   0  0  0  0  0  0  0  0  0  0  0  0\\n  1  2  1  0\\n  2  3  2  0\\n  2  4  1  0\\n  1  5  1  0\\n  1  6  1  0\\n  1  7  1  0\\n  4  8  1  0\\n  4  9  1  0\\nM  END\\n\",\"mol\");\n",
              "\tviewer_17220091185426955.setStyle({\"stick\": {}});\n",
              "\tviewer_17220091185426955.zoomTo();\n",
              "viewer_17220091185426955.render();\n",
              "});\n",
              "</script>"
            ]
          },
          "metadata": {}
        },
        {
          "output_type": "stream",
          "name": "stdout",
          "text": [
            "Molecule 20 (SMILES: C(=O)(N)N):\n"
          ]
        },
        {
          "output_type": "display_data",
          "data": {
            "text/plain": [
              "<PIL.PngImagePlugin.PngImageFile image mode=RGB size=300x300>"
            ],
            "image/png": "[encoded data removed]"
          },
          "metadata": {}
        },
        {
          "output_type": "stream",
          "name": "stdout",
          "text": [
            "3D Visualization:\n"
          ]
        },
        {
          "output_type": "display_data",
          "data": {
            "application/3dmoljs_load.v0": "<div id=\"3dmolviewer_17220091185929515\"  style=\"position: relative; width: 400px; height: 400px;\">\n        <p id=\"3dmolwarning_17220091185929515\" style=\"background-color:#ffcccc;color:black\">3Dmol.js failed to load for some reason.  Please check your browser console for error messages.<br></p>\n        </div>\n<script>\n\nvar loadScriptAsync = function(uri){\n  return new Promise((resolve, reject) => {\n    //this is to ignore the existence of requirejs amd\n    var savedexports, savedmodule;\n    if (typeof exports !== 'undefined') savedexports = exports;\n    else exports = {}\n    if (typeof module !== 'undefined') savedmodule = module;\n    else module = {}\n\n    var tag = document.createElement('script');\n    tag.src = uri;\n    tag.async = true;\n    tag.onload = () => {\n        exports = savedexports;\n        module = savedmodule;\n        resolve();\n    };\n  var firstScriptTag = document.getElementsByTagName('script')[0];\n  firstScriptTag.parentNode.insertBefore(tag, firstScriptTag);\n});\n};\n\nif(typeof $3Dmolpromise === 'undefined') {\n$3Dmolpromise = null;\n  $3Dmolpromise = loadScriptAsync('https://cdnjs.cloudflare.com/ajax/libs/3Dmol/2.2.1-post1/3Dmol-min.js');\n}\n\nvar viewer_17220091185929515 = null;\nvar warn = document.getElementById(\"3dmolwarning_17220091185929515\");\nif(warn) {\n    warn.parentNode.removeChild(warn);\n}\n$3Dmolpromise.then(function() {\nviewer_17220091185929515 = $3Dmol.createViewer(document.getElementById(\"3dmolviewer_17220091185929515\"),{backgroundColor:\"white\"});\nviewer_17220091185929515.zoomTo();\n\tviewer_17220091185929515.addModel(\"\\n     RDKit          3D\\n\\n  8  7  0  0  0  0  0  0  0  0999 V2000\\n    0.0746    0.3853    0.2225 C   0  0  0  0  0  0  0  0  0  0  0  0\\n    0.2600    1.3428    1.0193 O   0  0  0  0  0  0  0  0  0  0  0  0\\n   -1.2303   -0.1714    0.0722 N   0  0  0  0  0  0  0  0  0  0  0  0\\n    1.1703   -0.1382   -0.5262 N   0  0  0  0  0  0  0  0  0  0  0  0\\n   -1.3958   -0.9653   -0.5853 H   0  0  0  0  0  0  0  0  0  0  0  0\\n   -2.0333    0.2106    0.6195 H   0  0  0  0  0  0  0  0  0  0  0  0\\n    2.1260    0.2681   -0.4174 H   0  0  0  0  0  0  0  0  0  0  0  0\\n    1.0285   -0.9317   -1.1896 H   0  0  0  0  0  0  0  0  0  0  0  0\\n  1  2  2  0\\n  1  3  1  0\\n  1  4  1  0\\n  3  5  1  0\\n  3  6  1  0\\n  4  7  1  0\\n  4  8  1  0\\nM  END\\n\",\"mol\");\n\tviewer_17220091185929515.setStyle({\"stick\": {}});\n\tviewer_17220091185929515.zoomTo();\nviewer_17220091185929515.render();\n});\n</script>",
            "text/html": [
              "<div id=\"3dmolviewer_17220091185929515\"  style=\"position: relative; width: 400px; height: 400px;\">\n",
              "        <p id=\"3dmolwarning_17220091185929515\" style=\"background-color:#ffcccc;color:black\">3Dmol.js failed to load for some reason.  Please check your browser console for error messages.<br></p>\n",
              "        </div>\n",
              "<script>\n",
              "\n",
              "var loadScriptAsync = function(uri){\n",
              "  return new Promise((resolve, reject) => {\n",
              "    //this is to ignore the existence of requirejs amd\n",
              "    var savedexports, savedmodule;\n",
              "    if (typeof exports !== 'undefined') savedexports = exports;\n",
              "    else exports = {}\n",
              "    if (typeof module !== 'undefined') savedmodule = module;\n",
              "    else module = {}\n",
              "\n",
              "    var tag = document.createElement('script');\n",
              "    tag.src = uri;\n",
              "    tag.async = true;\n",
              "    tag.onload = () => {\n",
              "        exports = savedexports;\n",
              "        module = savedmodule;\n",
              "        resolve();\n",
              "    };\n",
              "  var firstScriptTag = document.getElementsByTagName('script')[0];\n",
              "  firstScriptTag.parentNode.insertBefore(tag, firstScriptTag);\n",
              "});\n",
              "};\n",
              "\n",
              "if(typeof $3Dmolpromise === 'undefined') {\n",
              "$3Dmolpromise = null;\n",
              "  $3Dmolpromise = loadScriptAsync('https://cdnjs.cloudflare.com/ajax/libs/3Dmol/2.2.1-post1/3Dmol-min.js');\n",
              "}\n",
              "\n",
              "var viewer_17220091185929515 = null;\n",
              "var warn = document.getElementById(\"3dmolwarning_17220091185929515\");\n",
              "if(warn) {\n",
              "    warn.parentNode.removeChild(warn);\n",
              "}\n",
              "$3Dmolpromise.then(function() {\n",
              "viewer_17220091185929515 = $3Dmol.createViewer(document.getElementById(\"3dmolviewer_17220091185929515\"),{backgroundColor:\"white\"});\n",
              "viewer_17220091185929515.zoomTo();\n",
              "\tviewer_17220091185929515.addModel(\"\\n     RDKit          3D\\n\\n  8  7  0  0  0  0  0  0  0  0999 V2000\\n    0.0746    0.3853    0.2225 C   0  0  0  0  0  0  0  0  0  0  0  0\\n    0.2600    1.3428    1.0193 O   0  0  0  0  0  0  0  0  0  0  0  0\\n   -1.2303   -0.1714    0.0722 N   0  0  0  0  0  0  0  0  0  0  0  0\\n    1.1703   -0.1382   -0.5262 N   0  0  0  0  0  0  0  0  0  0  0  0\\n   -1.3958   -0.9653   -0.5853 H   0  0  0  0  0  0  0  0  0  0  0  0\\n   -2.0333    0.2106    0.6195 H   0  0  0  0  0  0  0  0  0  0  0  0\\n    2.1260    0.2681   -0.4174 H   0  0  0  0  0  0  0  0  0  0  0  0\\n    1.0285   -0.9317   -1.1896 H   0  0  0  0  0  0  0  0  0  0  0  0\\n  1  2  2  0\\n  1  3  1  0\\n  1  4  1  0\\n  3  5  1  0\\n  3  6  1  0\\n  4  7  1  0\\n  4  8  1  0\\nM  END\\n\",\"mol\");\n",
              "\tviewer_17220091185929515.setStyle({\"stick\": {}});\n",
              "\tviewer_17220091185929515.zoomTo();\n",
              "viewer_17220091185929515.render();\n",
              "});\n",
              "</script>"
            ]
          },
          "metadata": {}
        },
        {
          "output_type": "stream",
          "name": "stdout",
          "text": [
            "Molecule 21 (SMILES: CC(C)C):\n"
          ]
        },
        {
          "output_type": "display_data",
          "data": {
            "text/plain": [
              "<PIL.PngImagePlugin.PngImageFile image mode=RGB size=300x300>"
            ],
            "image/png": "[encoded data removed]"
          },
          "metadata": {}
        },
        {
          "output_type": "stream",
          "name": "stdout",
          "text": [
            "3D Visualization:\n"
          ]
        },
        {
          "output_type": "display_data",
          "data": {
            "application/3dmoljs_load.v0": "<div id=\"3dmolviewer_17220091186301665\"  style=\"position: relative; width: 400px; height: 400px;\">\n        <p id=\"3dmolwarning_17220091186301665\" style=\"background-color:#ffcccc;color:black\">3Dmol.js failed to load for some reason.  Please check your browser console for error messages.<br></p>\n        </div>\n<script>\n\nvar loadScriptAsync = function(uri){\n  return new Promise((resolve, reject) => {\n    //this is to ignore the existence of requirejs amd\n    var savedexports, savedmodule;\n    if (typeof exports !== 'undefined') savedexports = exports;\n    else exports = {}\n    if (typeof module !== 'undefined') savedmodule = module;\n    else module = {}\n\n    var tag = document.createElement('script');\n    tag.src = uri;\n    tag.async = true;\n    tag.onload = () => {\n        exports = savedexports;\n        module = savedmodule;\n        resolve();\n    };\n  var firstScriptTag = document.getElementsByTagName('script')[0];\n  firstScriptTag.parentNode.insertBefore(tag, firstScriptTag);\n});\n};\n\nif(typeof $3Dmolpromise === 'undefined') {\n$3Dmolpromise = null;\n  $3Dmolpromise = loadScriptAsync('https://cdnjs.cloudflare.com/ajax/libs/3Dmol/2.2.1-post1/3Dmol-min.js');\n}\n\nvar viewer_17220091186301665 = null;\nvar warn = document.getElementById(\"3dmolwarning_17220091186301665\");\nif(warn) {\n    warn.parentNode.removeChild(warn);\n}\n$3Dmolpromise.then(function() {\nviewer_17220091186301665 = $3Dmol.createViewer(document.getElementById(\"3dmolviewer_17220091186301665\"),{backgroundColor:\"white\"});\nviewer_17220091186301665.zoomTo();\n\tviewer_17220091186301665.addModel(\"\\n     RDKit          3D\\n\\n 14 13  0  0  0  0  0  0  0  0999 V2000\\n    1.4371   -0.2141    0.1047 C   0  0  0  0  0  0  0  0  0  0  0  0\\n   -0.0382    0.0787    0.3984 C   0  0  0  0  0  0  0  0  0  0  0  0\\n   -0.5096    1.3098   -0.3831 C   0  0  0  0  0  0  0  0  0  0  0  0\\n   -0.9068   -1.1384    0.0625 C   0  0  0  0  0  0  0  0  0  0  0  0\\n    1.7799   -1.0870    0.7003 H   0  0  0  0  0  0  0  0  0  0  0  0\\n    1.5866   -0.4347   -0.9743 H   0  0  0  0  0  0  0  0  0  0  0  0\\n    2.0634    0.6605    0.3822 H   0  0  0  0  0  0  0  0  0  0  0  0\\n   -0.1424    0.2934    1.4849 H   0  0  0  0  0  0  0  0  0  0  0  0\\n    0.1033    2.1949   -0.1089 H   0  0  0  0  0  0  0  0  0  0  0  0\\n   -1.5697    1.5352   -0.1390 H   0  0  0  0  0  0  0  0  0  0  0  0\\n   -0.4220    1.1376   -1.4776 H   0  0  0  0  0  0  0  0  0  0  0  0\\n   -0.5801   -2.0176    0.6579 H   0  0  0  0  0  0  0  0  0  0  0  0\\n   -0.8319   -1.3884   -1.0178 H   0  0  0  0  0  0  0  0  0  0  0  0\\n   -1.9697   -0.9299    0.3097 H   0  0  0  0  0  0  0  0  0  0  0  0\\n  1  2  1  0\\n  2  3  1  0\\n  2  4  1  0\\n  1  5  1  0\\n  1  6  1  0\\n  1  7  1  0\\n  2  8  1  0\\n  3  9  1  0\\n  3 10  1  0\\n  3 11  1  0\\n  4 12  1  0\\n  4 13  1  0\\n  4 14  1  0\\nM  END\\n\",\"mol\");\n\tviewer_17220091186301665.setStyle({\"stick\": {}});\n\tviewer_17220091186301665.zoomTo();\nviewer_17220091186301665.render();\n});\n</script>",
            "text/html": [
              "<div id=\"3dmolviewer_17220091186301665\"  style=\"position: relative; width: 400px; height: 400px;\">\n",
              "        <p id=\"3dmolwarning_17220091186301665\" style=\"background-color:#ffcccc;color:black\">3Dmol.js failed to load for some reason.  Please check your browser console for error messages.<br></p>\n",
              "        </div>\n",
              "<script>\n",
              "\n",
              "var loadScriptAsync = function(uri){\n",
              "  return new Promise((resolve, reject) => {\n",
              "    //this is to ignore the existence of requirejs amd\n",
              "    var savedexports, savedmodule;\n",
              "    if (typeof exports !== 'undefined') savedexports = exports;\n",
              "    else exports = {}\n",
              "    if (typeof module !== 'undefined') savedmodule = module;\n",
              "    else module = {}\n",
              "\n",
              "    var tag = document.createElement('script');\n",
              "    tag.src = uri;\n",
              "    tag.async = true;\n",
              "    tag.onload = () => {\n",
              "        exports = savedexports;\n",
              "        module = savedmodule;\n",
              "        resolve();\n",
              "    };\n",
              "  var firstScriptTag = document.getElementsByTagName('script')[0];\n",
              "  firstScriptTag.parentNode.insertBefore(tag, firstScriptTag);\n",
              "});\n",
              "};\n",
              "\n",
              "if(typeof $3Dmolpromise === 'undefined') {\n",
              "$3Dmolpromise = null;\n",
              "  $3Dmolpromise = loadScriptAsync('https://cdnjs.cloudflare.com/ajax/libs/3Dmol/2.2.1-post1/3Dmol-min.js');\n",
              "}\n",
              "\n",
              "var viewer_17220091186301665 = null;\n",
              "var warn = document.getElementById(\"3dmolwarning_17220091186301665\");\n",
              "if(warn) {\n",
              "    warn.parentNode.removeChild(warn);\n",
              "}\n",
              "$3Dmolpromise.then(function() {\n",
              "viewer_17220091186301665 = $3Dmol.createViewer(document.getElementById(\"3dmolviewer_17220091186301665\"),{backgroundColor:\"white\"});\n",
              "viewer_17220091186301665.zoomTo();\n",
              "\tviewer_17220091186301665.addModel(\"\\n     RDKit          3D\\n\\n 14 13  0  0  0  0  0  0  0  0999 V2000\\n    1.4371   -0.2141    0.1047 C   0  0  0  0  0  0  0  0  0  0  0  0\\n   -0.0382    0.0787    0.3984 C   0  0  0  0  0  0  0  0  0  0  0  0\\n   -0.5096    1.3098   -0.3831 C   0  0  0  0  0  0  0  0  0  0  0  0\\n   -0.9068   -1.1384    0.0625 C   0  0  0  0  0  0  0  0  0  0  0  0\\n    1.7799   -1.0870    0.7003 H   0  0  0  0  0  0  0  0  0  0  0  0\\n    1.5866   -0.4347   -0.9743 H   0  0  0  0  0  0  0  0  0  0  0  0\\n    2.0634    0.6605    0.3822 H   0  0  0  0  0  0  0  0  0  0  0  0\\n   -0.1424    0.2934    1.4849 H   0  0  0  0  0  0  0  0  0  0  0  0\\n    0.1033    2.1949   -0.1089 H   0  0  0  0  0  0  0  0  0  0  0  0\\n   -1.5697    1.5352   -0.1390 H   0  0  0  0  0  0  0  0  0  0  0  0\\n   -0.4220    1.1376   -1.4776 H   0  0  0  0  0  0  0  0  0  0  0  0\\n   -0.5801   -2.0176    0.6579 H   0  0  0  0  0  0  0  0  0  0  0  0\\n   -0.8319   -1.3884   -1.0178 H   0  0  0  0  0  0  0  0  0  0  0  0\\n   -1.9697   -0.9299    0.3097 H   0  0  0  0  0  0  0  0  0  0  0  0\\n  1  2  1  0\\n  2  3  1  0\\n  2  4  1  0\\n  1  5  1  0\\n  1  6  1  0\\n  1  7  1  0\\n  2  8  1  0\\n  3  9  1  0\\n  3 10  1  0\\n  3 11  1  0\\n  4 12  1  0\\n  4 13  1  0\\n  4 14  1  0\\nM  END\\n\",\"mol\");\n",
              "\tviewer_17220091186301665.setStyle({\"stick\": {}});\n",
              "\tviewer_17220091186301665.zoomTo();\n",
              "viewer_17220091186301665.render();\n",
              "});\n",
              "</script>"
            ]
          },
          "metadata": {}
        },
        {
          "output_type": "stream",
          "name": "stdout",
          "text": [
            "Molecule 22 (SMILES: CC(C)O):\n"
          ]
        },
        {
          "output_type": "display_data",
          "data": {
            "text/plain": [
              "<PIL.PngImagePlugin.PngImageFile image mode=RGB size=300x300>"
            ],
            "image/png": "[encoded data removed]"
          },
          "metadata": {}
        },
        {
          "output_type": "stream",
          "name": "stdout",
          "text": [
            "3D Visualization:\n"
          ]
        },
        {
          "output_type": "display_data",
          "data": {
            "application/3dmoljs_load.v0": "<div id=\"3dmolviewer_17220091186678958\"  style=\"position: relative; width: 400px; height: 400px;\">\n        <p id=\"3dmolwarning_17220091186678958\" style=\"background-color:#ffcccc;color:black\">3Dmol.js failed to load for some reason.  Please check your browser console for error messages.<br></p>\n        </div>\n<script>\n\nvar loadScriptAsync = function(uri){\n  return new Promise((resolve, reject) => {\n    //this is to ignore the existence of requirejs amd\n    var savedexports, savedmodule;\n    if (typeof exports !== 'undefined') savedexports = exports;\n    else exports = {}\n    if (typeof module !== 'undefined') savedmodule = module;\n    else module = {}\n\n    var tag = document.createElement('script');\n    tag.src = uri;\n    tag.async = true;\n    tag.onload = () => {\n        exports = savedexports;\n        module = savedmodule;\n        resolve();\n    };\n  var firstScriptTag = document.getElementsByTagName('script')[0];\n  firstScriptTag.parentNode.insertBefore(tag, firstScriptTag);\n});\n};\n\nif(typeof $3Dmolpromise === 'undefined') {\n$3Dmolpromise = null;\n  $3Dmolpromise = loadScriptAsync('https://cdnjs.cloudflare.com/ajax/libs/3Dmol/2.2.1-post1/3Dmol-min.js');\n}\n\nvar viewer_17220091186678958 = null;\nvar warn = document.getElementById(\"3dmolwarning_17220091186678958\");\nif(warn) {\n    warn.parentNode.removeChild(warn);\n}\n$3Dmolpromise.then(function() {\nviewer_17220091186678958 = $3Dmol.createViewer(document.getElementById(\"3dmolviewer_17220091186678958\"),{backgroundColor:\"white\"});\nviewer_17220091186678958.zoomTo();\n\tviewer_17220091186678958.addModel(\"\\n     RDKit          3D\\n\\n 12 11  0  0  0  0  0  0  0  0999 V2000\\n    1.3163   -0.3316   -0.2579 C   0  0  0  0  0  0  0  0  0  0  0  0\\n   -0.0495    0.3524   -0.2758 C   0  0  0  0  0  0  0  0  0  0  0  0\\n   -1.1008   -0.5219    0.4123 C   0  0  0  0  0  0  0  0  0  0  0  0\\n    0.0475    1.5891    0.3800 O   0  0  0  0  0  0  0  0  0  0  0  0\\n    2.0643    0.3108   -0.7693 H   0  0  0  0  0  0  0  0  0  0  0  0\\n    1.2669   -1.3052   -0.7908 H   0  0  0  0  0  0  0  0  0  0  0  0\\n    1.6510   -0.5055    0.7873 H   0  0  0  0  0  0  0  0  0  0  0  0\\n   -0.3462    0.5075   -1.3393 H   0  0  0  0  0  0  0  0  0  0  0  0\\n   -0.8304   -0.6895    1.4769 H   0  0  0  0  0  0  0  0  0  0  0  0\\n   -1.1812   -1.5036   -0.1016 H   0  0  0  0  0  0  0  0  0  0  0  0\\n   -2.0922   -0.0232    0.3704 H   0  0  0  0  0  0  0  0  0  0  0  0\\n   -0.7459    2.1207    0.1077 H   0  0  0  0  0  0  0  0  0  0  0  0\\n  1  2  1  0\\n  2  3  1  0\\n  2  4  1  0\\n  1  5  1  0\\n  1  6  1  0\\n  1  7  1  0\\n  2  8  1  0\\n  3  9  1  0\\n  3 10  1  0\\n  3 11  1  0\\n  4 12  1  0\\nM  END\\n\",\"mol\");\n\tviewer_17220091186678958.setStyle({\"stick\": {}});\n\tviewer_17220091186678958.zoomTo();\nviewer_17220091186678958.render();\n});\n</script>",
            "text/html": [
              "<div id=\"3dmolviewer_17220091186678958\"  style=\"position: relative; width: 400px; height: 400px;\">\n",
              "        <p id=\"3dmolwarning_17220091186678958\" style=\"background-color:#ffcccc;color:black\">3Dmol.js failed to load for some reason.  Please check your browser console for error messages.<br></p>\n",
              "        </div>\n",
              "<script>\n",
              "\n",
              "var loadScriptAsync = function(uri){\n",
              "  return new Promise((resolve, reject) => {\n",
              "    //this is to ignore the existence of requirejs amd\n",
              "    var savedexports, savedmodule;\n",
              "    if (typeof exports !== 'undefined') savedexports = exports;\n",
              "    else exports = {}\n",
              "    if (typeof module !== 'undefined') savedmodule = module;\n",
              "    else module = {}\n",
              "\n",
              "    var tag = document.createElement('script');\n",
              "    tag.src = uri;\n",
              "    tag.async = true;\n",
              "    tag.onload = () => {\n",
              "        exports = savedexports;\n",
              "        module = savedmodule;\n",
              "        resolve();\n",
              "    };\n",
              "  var firstScriptTag = document.getElementsByTagName('script')[0];\n",
              "  firstScriptTag.parentNode.insertBefore(tag, firstScriptTag);\n",
              "});\n",
              "};\n",
              "\n",
              "if(typeof $3Dmolpromise === 'undefined') {\n",
              "$3Dmolpromise = null;\n",
              "  $3Dmolpromise = loadScriptAsync('https://cdnjs.cloudflare.com/ajax/libs/3Dmol/2.2.1-post1/3Dmol-min.js');\n",
              "}\n",
              "\n",
              "var viewer_17220091186678958 = null;\n",
              "var warn = document.getElementById(\"3dmolwarning_17220091186678958\");\n",
              "if(warn) {\n",
              "    warn.parentNode.removeChild(warn);\n",
              "}\n",
              "$3Dmolpromise.then(function() {\n",
              "viewer_17220091186678958 = $3Dmol.createViewer(document.getElementById(\"3dmolviewer_17220091186678958\"),{backgroundColor:\"white\"});\n",
              "viewer_17220091186678958.zoomTo();\n",
              "\tviewer_17220091186678958.addModel(\"\\n     RDKit          3D\\n\\n 12 11  0  0  0  0  0  0  0  0999 V2000\\n    1.3163   -0.3316   -0.2579 C   0  0  0  0  0  0  0  0  0  0  0  0\\n   -0.0495    0.3524   -0.2758 C   0  0  0  0  0  0  0  0  0  0  0  0\\n   -1.1008   -0.5219    0.4123 C   0  0  0  0  0  0  0  0  0  0  0  0\\n    0.0475    1.5891    0.3800 O   0  0  0  0  0  0  0  0  0  0  0  0\\n    2.0643    0.3108   -0.7693 H   0  0  0  0  0  0  0  0  0  0  0  0\\n    1.2669   -1.3052   -0.7908 H   0  0  0  0  0  0  0  0  0  0  0  0\\n    1.6510   -0.5055    0.7873 H   0  0  0  0  0  0  0  0  0  0  0  0\\n   -0.3462    0.5075   -1.3393 H   0  0  0  0  0  0  0  0  0  0  0  0\\n   -0.8304   -0.6895    1.4769 H   0  0  0  0  0  0  0  0  0  0  0  0\\n   -1.1812   -1.5036   -0.1016 H   0  0  0  0  0  0  0  0  0  0  0  0\\n   -2.0922   -0.0232    0.3704 H   0  0  0  0  0  0  0  0  0  0  0  0\\n   -0.7459    2.1207    0.1077 H   0  0  0  0  0  0  0  0  0  0  0  0\\n  1  2  1  0\\n  2  3  1  0\\n  2  4  1  0\\n  1  5  1  0\\n  1  6  1  0\\n  1  7  1  0\\n  2  8  1  0\\n  3  9  1  0\\n  3 10  1  0\\n  3 11  1  0\\n  4 12  1  0\\nM  END\\n\",\"mol\");\n",
              "\tviewer_17220091186678958.setStyle({\"stick\": {}});\n",
              "\tviewer_17220091186678958.zoomTo();\n",
              "viewer_17220091186678958.render();\n",
              "});\n",
              "</script>"
            ]
          },
          "metadata": {}
        },
        {
          "output_type": "stream",
          "name": "stdout",
          "text": [
            "Molecule 23 (SMILES: C#CC#C):\n"
          ]
        },
        {
          "output_type": "display_data",
          "data": {
            "text/plain": [
              "<PIL.PngImagePlugin.PngImageFile image mode=RGB size=300x300>"
            ],
            "image/png": "[encoded data removed]"
          },
          "metadata": {}
        },
        {
          "output_type": "stream",
          "name": "stdout",
          "text": [
            "3D Visualization:\n"
          ]
        },
        {
          "output_type": "display_data",
          "data": {
            "application/3dmoljs_load.v0": "<div id=\"3dmolviewer_17220091187005236\"  style=\"position: relative; width: 400px; height: 400px;\">\n        <p id=\"3dmolwarning_17220091187005236\" style=\"background-color:#ffcccc;color:black\">3Dmol.js failed to load for some reason.  Please check your browser console for error messages.<br></p>\n        </div>\n<script>\n\nvar loadScriptAsync = function(uri){\n  return new Promise((resolve, reject) => {\n    //this is to ignore the existence of requirejs amd\n    var savedexports, savedmodule;\n    if (typeof exports !== 'undefined') savedexports = exports;\n    else exports = {}\n    if (typeof module !== 'undefined') savedmodule = module;\n    else module = {}\n\n    var tag = document.createElement('script');\n    tag.src = uri;\n    tag.async = true;\n    tag.onload = () => {\n        exports = savedexports;\n        module = savedmodule;\n        resolve();\n    };\n  var firstScriptTag = document.getElementsByTagName('script')[0];\n  firstScriptTag.parentNode.insertBefore(tag, firstScriptTag);\n});\n};\n\nif(typeof $3Dmolpromise === 'undefined') {\n$3Dmolpromise = null;\n  $3Dmolpromise = loadScriptAsync('https://cdnjs.cloudflare.com/ajax/libs/3Dmol/2.2.1-post1/3Dmol-min.js');\n}\n\nvar viewer_17220091187005236 = null;\nvar warn = document.getElementById(\"3dmolwarning_17220091187005236\");\nif(warn) {\n    warn.parentNode.removeChild(warn);\n}\n$3Dmolpromise.then(function() {\nviewer_17220091187005236 = $3Dmol.createViewer(document.getElementById(\"3dmolviewer_17220091187005236\"),{backgroundColor:\"white\"});\nviewer_17220091187005236.zoomTo();\n\tviewer_17220091187005236.addModel(\"\\n     RDKit          3D\\n\\n  6  5  0  0  0  0  0  0  0  0999 V2000\\n    1.8482   -0.4841   -0.2950 C   0  0  0  0  0  0  0  0  0  0  0  0\\n    0.6826   -0.1788   -0.2623 C   0  0  0  0  0  0  0  0  0  0  0  0\\n   -0.6826    0.1788   -0.2241 C   0  0  0  0  0  0  0  0  0  0  0  0\\n   -1.8482    0.4841   -0.1915 C   0  0  0  0  0  0  0  0  0  0  0  0\\n    2.8716   -0.7522   -0.3236 H   0  0  0  0  0  0  0  0  0  0  0  0\\n   -2.8716    0.7522   -0.1628 H   0  0  0  0  0  0  0  0  0  0  0  0\\n  1  2  3  0\\n  2  3  1  0\\n  3  4  3  0\\n  1  5  1  0\\n  4  6  1  0\\nM  END\\n\",\"mol\");\n\tviewer_17220091187005236.setStyle({\"stick\": {}});\n\tviewer_17220091187005236.zoomTo();\nviewer_17220091187005236.render();\n});\n</script>",
            "text/html": [
              "<div id=\"3dmolviewer_17220091187005236\"  style=\"position: relative; width: 400px; height: 400px;\">\n",
              "        <p id=\"3dmolwarning_17220091187005236\" style=\"background-color:#ffcccc;color:black\">3Dmol.js failed to load for some reason.  Please check your browser console for error messages.<br></p>\n",
              "        </div>\n",
              "<script>\n",
              "\n",
              "var loadScriptAsync = function(uri){\n",
              "  return new Promise((resolve, reject) => {\n",
              "    //this is to ignore the existence of requirejs amd\n",
              "    var savedexports, savedmodule;\n",
              "    if (typeof exports !== 'undefined') savedexports = exports;\n",
              "    else exports = {}\n",
              "    if (typeof module !== 'undefined') savedmodule = module;\n",
              "    else module = {}\n",
              "\n",
              "    var tag = document.createElement('script');\n",
              "    tag.src = uri;\n",
              "    tag.async = true;\n",
              "    tag.onload = () => {\n",
              "        exports = savedexports;\n",
              "        module = savedmodule;\n",
              "        resolve();\n",
              "    };\n",
              "  var firstScriptTag = document.getElementsByTagName('script')[0];\n",
              "  firstScriptTag.parentNode.insertBefore(tag, firstScriptTag);\n",
              "});\n",
              "};\n",
              "\n",
              "if(typeof $3Dmolpromise === 'undefined') {\n",
              "$3Dmolpromise = null;\n",
              "  $3Dmolpromise = loadScriptAsync('https://cdnjs.cloudflare.com/ajax/libs/3Dmol/2.2.1-post1/3Dmol-min.js');\n",
              "}\n",
              "\n",
              "var viewer_17220091187005236 = null;\n",
              "var warn = document.getElementById(\"3dmolwarning_17220091187005236\");\n",
              "if(warn) {\n",
              "    warn.parentNode.removeChild(warn);\n",
              "}\n",
              "$3Dmolpromise.then(function() {\n",
              "viewer_17220091187005236 = $3Dmol.createViewer(document.getElementById(\"3dmolviewer_17220091187005236\"),{backgroundColor:\"white\"});\n",
              "viewer_17220091187005236.zoomTo();\n",
              "\tviewer_17220091187005236.addModel(\"\\n     RDKit          3D\\n\\n  6  5  0  0  0  0  0  0  0  0999 V2000\\n    1.8482   -0.4841   -0.2950 C   0  0  0  0  0  0  0  0  0  0  0  0\\n    0.6826   -0.1788   -0.2623 C   0  0  0  0  0  0  0  0  0  0  0  0\\n   -0.6826    0.1788   -0.2241 C   0  0  0  0  0  0  0  0  0  0  0  0\\n   -1.8482    0.4841   -0.1915 C   0  0  0  0  0  0  0  0  0  0  0  0\\n    2.8716   -0.7522   -0.3236 H   0  0  0  0  0  0  0  0  0  0  0  0\\n   -2.8716    0.7522   -0.1628 H   0  0  0  0  0  0  0  0  0  0  0  0\\n  1  2  3  0\\n  2  3  1  0\\n  3  4  3  0\\n  1  5  1  0\\n  4  6  1  0\\nM  END\\n\",\"mol\");\n",
              "\tviewer_17220091187005236.setStyle({\"stick\": {}});\n",
              "\tviewer_17220091187005236.zoomTo();\n",
              "viewer_17220091187005236.render();\n",
              "});\n",
              "</script>"
            ]
          },
          "metadata": {}
        },
        {
          "output_type": "stream",
          "name": "stdout",
          "text": [
            "Molecule 24 (SMILES: C#CC#N):\n"
          ]
        },
        {
          "output_type": "display_data",
          "data": {
            "text/plain": [
              "<PIL.PngImagePlugin.PngImageFile image mode=RGB size=300x300>"
            ],
            "image/png": "[encoded data removed]"
          },
          "metadata": {}
        },
        {
          "output_type": "stream",
          "name": "stdout",
          "text": [
            "3D Visualization:\n"
          ]
        },
        {
          "output_type": "display_data",
          "data": {
            "application/3dmoljs_load.v0": "<div id=\"3dmolviewer_17220091187356722\"  style=\"position: relative; width: 400px; height: 400px;\">\n        <p id=\"3dmolwarning_17220091187356722\" style=\"background-color:#ffcccc;color:black\">3Dmol.js failed to load for some reason.  Please check your browser console for error messages.<br></p>\n        </div>\n<script>\n\nvar loadScriptAsync = function(uri){\n  return new Promise((resolve, reject) => {\n    //this is to ignore the existence of requirejs amd\n    var savedexports, savedmodule;\n    if (typeof exports !== 'undefined') savedexports = exports;\n    else exports = {}\n    if (typeof module !== 'undefined') savedmodule = module;\n    else module = {}\n\n    var tag = document.createElement('script');\n    tag.src = uri;\n    tag.async = true;\n    tag.onload = () => {\n        exports = savedexports;\n        module = savedmodule;\n        resolve();\n    };\n  var firstScriptTag = document.getElementsByTagName('script')[0];\n  firstScriptTag.parentNode.insertBefore(tag, firstScriptTag);\n});\n};\n\nif(typeof $3Dmolpromise === 'undefined') {\n$3Dmolpromise = null;\n  $3Dmolpromise = loadScriptAsync('https://cdnjs.cloudflare.com/ajax/libs/3Dmol/2.2.1-post1/3Dmol-min.js');\n}\n\nvar viewer_17220091187356722 = null;\nvar warn = document.getElementById(\"3dmolwarning_17220091187356722\");\nif(warn) {\n    warn.parentNode.removeChild(warn);\n}\n$3Dmolpromise.then(function() {\nviewer_17220091187356722 = $3Dmol.createViewer(document.getElementById(\"3dmolviewer_17220091187356722\"),{backgroundColor:\"white\"});\nviewer_17220091187356722.zoomTo();\n\tviewer_17220091187356722.addModel(\"\\n     RDKit          3D\\n\\n  5  4  0  0  0  0  0  0  0  0999 V2000\\n   -0.8835   -0.5334   -1.1780 C   0  0  0  0  0  0  0  0  0  0  0  0\\n   -0.0692   -0.0418   -0.4377 C   0  0  0  0  0  0  0  0  0  0  0  0\\n    0.8847    0.5341    0.4295 C   0  0  0  0  0  0  0  0  0  0  0  0\\n    1.6664    1.0060    1.1402 N   0  0  0  0  0  0  0  0  0  0  0  0\\n   -1.5985   -0.9650   -1.8281 H   0  0  0  0  0  0  0  0  0  0  0  0\\n  1  2  3  0\\n  2  3  1  0\\n  3  4  3  0\\n  1  5  1  0\\nM  END\\n\",\"mol\");\n\tviewer_17220091187356722.setStyle({\"stick\": {}});\n\tviewer_17220091187356722.zoomTo();\nviewer_17220091187356722.render();\n});\n</script>",
            "text/html": [
              "<div id=\"3dmolviewer_17220091187356722\"  style=\"position: relative; width: 400px; height: 400px;\">\n",
              "        <p id=\"3dmolwarning_17220091187356722\" style=\"background-color:#ffcccc;color:black\">3Dmol.js failed to load for some reason.  Please check your browser console for error messages.<br></p>\n",
              "        </div>\n",
              "<script>\n",
              "\n",
              "var loadScriptAsync = function(uri){\n",
              "  return new Promise((resolve, reject) => {\n",
              "    //this is to ignore the existence of requirejs amd\n",
              "    var savedexports, savedmodule;\n",
              "    if (typeof exports !== 'undefined') savedexports = exports;\n",
              "    else exports = {}\n",
              "    if (typeof module !== 'undefined') savedmodule = module;\n",
              "    else module = {}\n",
              "\n",
              "    var tag = document.createElement('script');\n",
              "    tag.src = uri;\n",
              "    tag.async = true;\n",
              "    tag.onload = () => {\n",
              "        exports = savedexports;\n",
              "        module = savedmodule;\n",
              "        resolve();\n",
              "    };\n",
              "  var firstScriptTag = document.getElementsByTagName('script')[0];\n",
              "  firstScriptTag.parentNode.insertBefore(tag, firstScriptTag);\n",
              "});\n",
              "};\n",
              "\n",
              "if(typeof $3Dmolpromise === 'undefined') {\n",
              "$3Dmolpromise = null;\n",
              "  $3Dmolpromise = loadScriptAsync('https://cdnjs.cloudflare.com/ajax/libs/3Dmol/2.2.1-post1/3Dmol-min.js');\n",
              "}\n",
              "\n",
              "var viewer_17220091187356722 = null;\n",
              "var warn = document.getElementById(\"3dmolwarning_17220091187356722\");\n",
              "if(warn) {\n",
              "    warn.parentNode.removeChild(warn);\n",
              "}\n",
              "$3Dmolpromise.then(function() {\n",
              "viewer_17220091187356722 = $3Dmol.createViewer(document.getElementById(\"3dmolviewer_17220091187356722\"),{backgroundColor:\"white\"});\n",
              "viewer_17220091187356722.zoomTo();\n",
              "\tviewer_17220091187356722.addModel(\"\\n     RDKit          3D\\n\\n  5  4  0  0  0  0  0  0  0  0999 V2000\\n   -0.8835   -0.5334   -1.1780 C   0  0  0  0  0  0  0  0  0  0  0  0\\n   -0.0692   -0.0418   -0.4377 C   0  0  0  0  0  0  0  0  0  0  0  0\\n    0.8847    0.5341    0.4295 C   0  0  0  0  0  0  0  0  0  0  0  0\\n    1.6664    1.0060    1.1402 N   0  0  0  0  0  0  0  0  0  0  0  0\\n   -1.5985   -0.9650   -1.8281 H   0  0  0  0  0  0  0  0  0  0  0  0\\n  1  2  3  0\\n  2  3  1  0\\n  3  4  3  0\\n  1  5  1  0\\nM  END\\n\",\"mol\");\n",
              "\tviewer_17220091187356722.setStyle({\"stick\": {}});\n",
              "\tviewer_17220091187356722.zoomTo();\n",
              "viewer_17220091187356722.render();\n",
              "});\n",
              "</script>"
            ]
          },
          "metadata": {}
        },
        {
          "output_type": "stream",
          "name": "stdout",
          "text": [
            "Molecule 25 (SMILES: C(#N)C#N):\n"
          ]
        },
        {
          "output_type": "display_data",
          "data": {
            "text/plain": [
              "<PIL.PngImagePlugin.PngImageFile image mode=RGB size=300x300>"
            ],
            "image/png": "[encoded data removed]"
          },
          "metadata": {}
        },
        {
          "output_type": "stream",
          "name": "stdout",
          "text": [
            "3D Visualization:\n"
          ]
        },
        {
          "output_type": "display_data",
          "data": {
            "application/3dmoljs_load.v0": "<div id=\"3dmolviewer_17220091187686198\"  style=\"position: relative; width: 400px; height: 400px;\">\n        <p id=\"3dmolwarning_17220091187686198\" style=\"background-color:#ffcccc;color:black\">3Dmol.js failed to load for some reason.  Please check your browser console for error messages.<br></p>\n        </div>\n<script>\n\nvar loadScriptAsync = function(uri){\n  return new Promise((resolve, reject) => {\n    //this is to ignore the existence of requirejs amd\n    var savedexports, savedmodule;\n    if (typeof exports !== 'undefined') savedexports = exports;\n    else exports = {}\n    if (typeof module !== 'undefined') savedmodule = module;\n    else module = {}\n\n    var tag = document.createElement('script');\n    tag.src = uri;\n    tag.async = true;\n    tag.onload = () => {\n        exports = savedexports;\n        module = savedmodule;\n        resolve();\n    };\n  var firstScriptTag = document.getElementsByTagName('script')[0];\n  firstScriptTag.parentNode.insertBefore(tag, firstScriptTag);\n});\n};\n\nif(typeof $3Dmolpromise === 'undefined') {\n$3Dmolpromise = null;\n  $3Dmolpromise = loadScriptAsync('https://cdnjs.cloudflare.com/ajax/libs/3Dmol/2.2.1-post1/3Dmol-min.js');\n}\n\nvar viewer_17220091187686198 = null;\nvar warn = document.getElementById(\"3dmolwarning_17220091187686198\");\nif(warn) {\n    warn.parentNode.removeChild(warn);\n}\n$3Dmolpromise.then(function() {\nviewer_17220091187686198 = $3Dmol.createViewer(document.getElementById(\"3dmolviewer_17220091187686198\"),{backgroundColor:\"white\"});\nviewer_17220091187686198.zoomTo();\n\tviewer_17220091187686198.addModel(\"\\n     RDKit          3D\\n\\n  4  3  0  0  0  0  0  0  0  0999 V2000\\n    0.6852    0.0286   -0.1148 C   0  0  0  0  0  0  0  0  0  0  0  0\\n    1.8083    0.2340   -0.3030 N   0  0  0  0  0  0  0  0  0  0  0  0\\n   -0.6852   -0.2221    0.1148 C   0  0  0  0  0  0  0  0  0  0  0  0\\n   -1.8083   -0.4275    0.3030 N   0  0  0  0  0  0  0  0  0  0  0  0\\n  1  2  3  0\\n  1  3  1  0\\n  3  4  3  0\\nM  END\\n\",\"mol\");\n\tviewer_17220091187686198.setStyle({\"stick\": {}});\n\tviewer_17220091187686198.zoomTo();\nviewer_17220091187686198.render();\n});\n</script>",
            "text/html": [
              "<div id=\"3dmolviewer_17220091187686198\"  style=\"position: relative; width: 400px; height: 400px;\">\n",
              "        <p id=\"3dmolwarning_17220091187686198\" style=\"background-color:#ffcccc;color:black\">3Dmol.js failed to load for some reason.  Please check your browser console for error messages.<br></p>\n",
              "        </div>\n",
              "<script>\n",
              "\n",
              "var loadScriptAsync = function(uri){\n",
              "  return new Promise((resolve, reject) => {\n",
              "    //this is to ignore the existence of requirejs amd\n",
              "    var savedexports, savedmodule;\n",
              "    if (typeof exports !== 'undefined') savedexports = exports;\n",
              "    else exports = {}\n",
              "    if (typeof module !== 'undefined') savedmodule = module;\n",
              "    else module = {}\n",
              "\n",
              "    var tag = document.createElement('script');\n",
              "    tag.src = uri;\n",
              "    tag.async = true;\n",
              "    tag.onload = () => {\n",
              "        exports = savedexports;\n",
              "        module = savedmodule;\n",
              "        resolve();\n",
              "    };\n",
              "  var firstScriptTag = document.getElementsByTagName('script')[0];\n",
              "  firstScriptTag.parentNode.insertBefore(tag, firstScriptTag);\n",
              "});\n",
              "};\n",
              "\n",
              "if(typeof $3Dmolpromise === 'undefined') {\n",
              "$3Dmolpromise = null;\n",
              "  $3Dmolpromise = loadScriptAsync('https://cdnjs.cloudflare.com/ajax/libs/3Dmol/2.2.1-post1/3Dmol-min.js');\n",
              "}\n",
              "\n",
              "var viewer_17220091187686198 = null;\n",
              "var warn = document.getElementById(\"3dmolwarning_17220091187686198\");\n",
              "if(warn) {\n",
              "    warn.parentNode.removeChild(warn);\n",
              "}\n",
              "$3Dmolpromise.then(function() {\n",
              "viewer_17220091187686198 = $3Dmol.createViewer(document.getElementById(\"3dmolviewer_17220091187686198\"),{backgroundColor:\"white\"});\n",
              "viewer_17220091187686198.zoomTo();\n",
              "\tviewer_17220091187686198.addModel(\"\\n     RDKit          3D\\n\\n  4  3  0  0  0  0  0  0  0  0999 V2000\\n    0.6852    0.0286   -0.1148 C   0  0  0  0  0  0  0  0  0  0  0  0\\n    1.8083    0.2340   -0.3030 N   0  0  0  0  0  0  0  0  0  0  0  0\\n   -0.6852   -0.2221    0.1148 C   0  0  0  0  0  0  0  0  0  0  0  0\\n   -1.8083   -0.4275    0.3030 N   0  0  0  0  0  0  0  0  0  0  0  0\\n  1  2  3  0\\n  1  3  1  0\\n  3  4  3  0\\nM  END\\n\",\"mol\");\n",
              "\tviewer_17220091187686198.setStyle({\"stick\": {}});\n",
              "\tviewer_17220091187686198.zoomTo();\n",
              "viewer_17220091187686198.render();\n",
              "});\n",
              "</script>"
            ]
          },
          "metadata": {}
        },
        {
          "output_type": "stream",
          "name": "stdout",
          "text": [
            "Conversion and display completed.\n"
          ]
        }
      ],
      "source": [
        "# Convert the entire dataset and display the first few molecules\n",
        "num_molecules_to_display = input_number\n",
        "for idx, row in data.iterrows():\n",
        "    if idx >= num_molecules_to_display:\n",
        "        break\n",
        "    smiles = row['smiles']  # Update column name if necessary\n",
        "    mol = smiles_to_3d(smiles)\n",
        "    if mol:\n",
        "        print(f\"Molecule {idx + 1} (SMILES: {smiles}):\")\n",
        "        img_2d = display(Draw.MolToImage(mol, size=(300, 300), kekulize=True, wedgeBonds=True, legend=smiles))\n",
        "        print(\"3D Visualization:\")\n",
        "        viewer = visualize_molecule(mol)\n",
        "        viewer.show()\n",
        "\n",
        "print(\"Conversion and display completed.\")"
      ]
    },
    {
      "cell_type": "code",
      "execution_count": 34,
      "metadata": {
        "colab": {
          "base_uri": "https://localhost:8080/",
          "height": 771
        },
        "outputId": "06800cee-6c59-44a6-acb3-11f9d001b2ee",
        "collapsed": true,
        "id": "-Fjn2MVQwJ_9"
      },
      "outputs": [
        {
          "name": "stdout",
          "output_type": "stream",
          "text": [
            "Enter a SMILES string: Cc1cn2c(CN(C)C(=O)c3ccc(F)cc3C)c(C)nc2s1\n"
          ]
        },
        {
          "output_type": "display_data",
          "data": {
            "text/plain": [
              "<PIL.PngImagePlugin.PngImageFile image mode=RGB size=300x300>"
            ],
            "image/png": "[encoded data removed]"
          },
          "metadata": {}
        },
        {
          "output_type": "stream",
          "name": "stdout",
          "text": [
            "3D Visualization:\n"
          ]
        },
        {
          "output_type": "display_data",
          "data": {
            "application/3dmoljs_load.v0": "<div id=\"3dmolviewer_17220097965554876\"  style=\"position: relative; width: 400px; height: 400px;\">\n        <p id=\"3dmolwarning_17220097965554876\" style=\"background-color:#ffcccc;color:black\">3Dmol.js failed to load for some reason.  Please check your browser console for error messages.<br></p>\n        </div>\n<script>\n\nvar loadScriptAsync = function(uri){\n  return new Promise((resolve, reject) => {\n    //this is to ignore the existence of requirejs amd\n    var savedexports, savedmodule;\n    if (typeof exports !== 'undefined') savedexports = exports;\n    else exports = {}\n    if (typeof module !== 'undefined') savedmodule = module;\n    else module = {}\n\n    var tag = document.createElement('script');\n    tag.src = uri;\n    tag.async = true;\n    tag.onload = () => {\n        exports = savedexports;\n        module = savedmodule;\n        resolve();\n    };\n  var firstScriptTag = document.getElementsByTagName('script')[0];\n  firstScriptTag.parentNode.insertBefore(tag, firstScriptTag);\n});\n};\n\nif(typeof $3Dmolpromise === 'undefined') {\n$3Dmolpromise = null;\n  $3Dmolpromise = loadScriptAsync('https://cdnjs.cloudflare.com/ajax/libs/3Dmol/2.2.1-post1/3Dmol-min.js');\n}\n\nvar viewer_17220097965554876 = null;\nvar warn = document.getElementById(\"3dmolwarning_17220097965554876\");\nif(warn) {\n    warn.parentNode.removeChild(warn);\n}\n$3Dmolpromise.then(function() {\nviewer_17220097965554876 = $3Dmol.createViewer(document.getElementById(\"3dmolviewer_17220097965554876\"),{backgroundColor:\"white\"});\nviewer_17220097965554876.zoomTo();\n\tviewer_17220097965554876.addModel(\"\\n     RDKit          3D\\n\\n 41 43  0  0  0  0  0  0  0  0999 V2000\\n    4.1199    1.0002    2.9771 C   0  0  0  0  0  0  0  0  0  0  0  0\\n    3.4745    0.1592    1.9283 C   0  0  0  0  0  0  0  0  0  0  0  0\\n    2.8255    0.6510    0.7865 C   0  0  0  0  0  0  0  0  0  0  0  0\\n    2.4036   -0.3573   -0.0071 N   0  0  0  0  0  0  0  0  0  0  0  0\\n    1.7258   -0.5099   -1.1493 C   0  0  0  0  0  0  0  0  0  0  0  0\\n    1.0766    0.5922   -1.9339 C   0  0  0  0  0  0  0  0  0  0  0  0\\n   -0.3329    0.7254   -1.5420 N   0  0  0  0  0  0  0  0  0  0  0  0\\n   -1.3947    0.2199   -2.4190 C   0  0  0  0  0  0  0  0  0  0  0  0\\n   -0.6836    1.4144   -0.3248 C   0  0  0  0  0  0  0  0  0  0  0  0\\n    0.0834    2.2960    0.1467 O   0  0  0  0  0  0  0  0  0  0  0  0\\n   -1.9503    1.1300    0.3754 C   0  0  0  0  0  0  0  0  0  0  0  0\\n   -2.9459    2.1183    0.3960 C   0  0  0  0  0  0  0  0  0  0  0  0\\n   -4.1678    1.8770    1.0270 C   0  0  0  0  0  0  0  0  0  0  0  0\\n   -4.4047    0.6494    1.6472 C   0  0  0  0  0  0  0  0  0  0  0  0\\n   -5.5949    0.4160    2.2535 F   0  0  0  0  0  0  0  0  0  0  0  0\\n   -3.4150   -0.3369    1.6494 C   0  0  0  0  0  0  0  0  0  0  0  0\\n   -2.1749   -0.1047    1.0296 C   0  0  0  0  0  0  0  0  0  0  0  0\\n   -1.1130   -1.1715    1.0774 C   0  0  0  0  0  0  0  0  0  0  0  0\\n    1.6288   -1.8915   -1.3533 C   0  0  0  0  0  0  0  0  0  0  0  0\\n    0.8808   -2.5683   -2.4553 C   0  0  0  0  0  0  0  0  0  0  0  0\\n    2.2370   -2.5722   -0.3406 N   0  0  0  0  0  0  0  0  0  0  0  0\\n    2.6895   -1.5669    0.4311 C   0  0  0  0  0  0  0  0  0  0  0  0\\n    3.5154   -1.5556    1.8902 S   0  0  0  0  0  0  0  0  0  0  0  0\\n    3.5434    1.9379    3.1223 H   0  0  0  0  0  0  0  0  0  0  0  0\\n    4.1519    0.4472    3.9388 H   0  0  0  0  0  0  0  0  0  0  0  0\\n    5.1548    1.2505    2.6644 H   0  0  0  0  0  0  0  0  0  0  0  0\\n    2.6831    1.6983    0.5563 H   0  0  0  0  0  0  0  0  0  0  0  0\\n    1.1696    0.3677   -3.0173 H   0  0  0  0  0  0  0  0  0  0  0  0\\n    1.6152    1.5495   -1.7697 H   0  0  0  0  0  0  0  0  0  0  0  0\\n   -1.9832   -0.5611   -1.8955 H   0  0  0  0  0  0  0  0  0  0  0  0\\n   -0.9811   -0.2269   -3.3471 H   0  0  0  0  0  0  0  0  0  0  0  0\\n   -2.0707    1.0531   -2.7049 H   0  0  0  0  0  0  0  0  0  0  0  0\\n   -2.7808    3.0718   -0.0910 H   0  0  0  0  0  0  0  0  0  0  0  0\\n   -4.9337    2.6420    1.0300 H   0  0  0  0  0  0  0  0  0  0  0  0\\n   -3.6140   -1.2801    2.1433 H   0  0  0  0  0  0  0  0  0  0  0  0\\n   -0.1410   -0.7283    1.3787 H   0  0  0  0  0  0  0  0  0  0  0  0\\n   -1.0092   -1.6445    0.0803 H   0  0  0  0  0  0  0  0  0  0  0  0\\n   -1.3644   -1.9627    1.8152 H   0  0  0  0  0  0  0  0  0  0  0  0\\n    1.2133   -3.6235   -2.5465 H   0  0  0  0  0  0  0  0  0  0  0  0\\n   -0.2057   -2.5516   -2.2325 H   0  0  0  0  0  0  0  0  0  0  0  0\\n    1.0695   -2.0536   -3.4200 H   0  0  0  0  0  0  0  0  0  0  0  0\\n  1  2  1  0\\n  2  3  2  0\\n  3  4  1  0\\n  4  5  1  0\\n  5  6  1  0\\n  6  7  1  0\\n  7  8  1  0\\n  7  9  1  0\\n  9 10  2  0\\n  9 11  1  0\\n 11 12  2  0\\n 12 13  1  0\\n 13 14  2  0\\n 14 15  1  0\\n 14 16  1  0\\n 16 17  2  0\\n 17 18  1  0\\n  5 19  2  0\\n 19 20  1  0\\n 19 21  1  0\\n 21 22  2  0\\n 22 23  1  0\\n 23  2  1  0\\n 22  4  1  0\\n 17 11  1  0\\n  1 24  1  0\\n  1 25  1  0\\n  1 26  1  0\\n  3 27  1  0\\n  6 28  1  0\\n  6 29  1  0\\n  8 30  1  0\\n  8 31  1  0\\n  8 32  1  0\\n 12 33  1  0\\n 13 34  1  0\\n 16 35  1  0\\n 18 36  1  0\\n 18 37  1  0\\n 18 38  1  0\\n 20 39  1  0\\n 20 40  1  0\\n 20 41  1  0\\nM  END\\n\",\"mol\");\n\tviewer_17220097965554876.setStyle({\"stick\": {}});\n\tviewer_17220097965554876.zoomTo();\nviewer_17220097965554876.render();\n});\n</script>",
            "text/html": [
              "<div id=\"3dmolviewer_17220097965554876\"  style=\"position: relative; width: 400px; height: 400px;\">\n",
              "        <p id=\"3dmolwarning_17220097965554876\" style=\"background-color:#ffcccc;color:black\">3Dmol.js failed to load for some reason.  Please check your browser console for error messages.<br></p>\n",
              "        </div>\n",
              "<script>\n",
              "\n",
              "var loadScriptAsync = function(uri){\n",
              "  return new Promise((resolve, reject) => {\n",
              "    //this is to ignore the existence of requirejs amd\n",
              "    var savedexports, savedmodule;\n",
              "    if (typeof exports !== 'undefined') savedexports = exports;\n",
              "    else exports = {}\n",
              "    if (typeof module !== 'undefined') savedmodule = module;\n",
              "    else module = {}\n",
              "\n",
              "    var tag = document.createElement('script');\n",
              "    tag.src = uri;\n",
              "    tag.async = true;\n",
              "    tag.onload = () => {\n",
              "        exports = savedexports;\n",
              "        module = savedmodule;\n",
              "        resolve();\n",
              "    };\n",
              "  var firstScriptTag = document.getElementsByTagName('script')[0];\n",
              "  firstScriptTag.parentNode.insertBefore(tag, firstScriptTag);\n",
              "});\n",
              "};\n",
              "\n",
              "if(typeof $3Dmolpromise === 'undefined') {\n",
              "$3Dmolpromise = null;\n",
              "  $3Dmolpromise = loadScriptAsync('https://cdnjs.cloudflare.com/ajax/libs/3Dmol/2.2.1-post1/3Dmol-min.js');\n",
              "}\n",
              "\n",
              "var viewer_17220097965554876 = null;\n",
              "var warn = document.getElementById(\"3dmolwarning_17220097965554876\");\n",
              "if(warn) {\n",
              "    warn.parentNode.removeChild(warn);\n",
              "}\n",
              "$3Dmolpromise.then(function() {\n",
              "viewer_17220097965554876 = $3Dmol.createViewer(document.getElementById(\"3dmolviewer_17220097965554876\"),{backgroundColor:\"white\"});\n",
              "viewer_17220097965554876.zoomTo();\n",
              "\tviewer_17220097965554876.addModel(\"\\n     RDKit          3D\\n\\n 41 43  0  0  0  0  0  0  0  0999 V2000\\n    4.1199    1.0002    2.9771 C   0  0  0  0  0  0  0  0  0  0  0  0\\n    3.4745    0.1592    1.9283 C   0  0  0  0  0  0  0  0  0  0  0  0\\n    2.8255    0.6510    0.7865 C   0  0  0  0  0  0  0  0  0  0  0  0\\n    2.4036   -0.3573   -0.0071 N   0  0  0  0  0  0  0  0  0  0  0  0\\n    1.7258   -0.5099   -1.1493 C   0  0  0  0  0  0  0  0  0  0  0  0\\n    1.0766    0.5922   -1.9339 C   0  0  0  0  0  0  0  0  0  0  0  0\\n   -0.3329    0.7254   -1.5420 N   0  0  0  0  0  0  0  0  0  0  0  0\\n   -1.3947    0.2199   -2.4190 C   0  0  0  0  0  0  0  0  0  0  0  0\\n   -0.6836    1.4144   -0.3248 C   0  0  0  0  0  0  0  0  0  0  0  0\\n    0.0834    2.2960    0.1467 O   0  0  0  0  0  0  0  0  0  0  0  0\\n   -1.9503    1.1300    0.3754 C   0  0  0  0  0  0  0  0  0  0  0  0\\n   -2.9459    2.1183    0.3960 C   0  0  0  0  0  0  0  0  0  0  0  0\\n   -4.1678    1.8770    1.0270 C   0  0  0  0  0  0  0  0  0  0  0  0\\n   -4.4047    0.6494    1.6472 C   0  0  0  0  0  0  0  0  0  0  0  0\\n   -5.5949    0.4160    2.2535 F   0  0  0  0  0  0  0  0  0  0  0  0\\n   -3.4150   -0.3369    1.6494 C   0  0  0  0  0  0  0  0  0  0  0  0\\n   -2.1749   -0.1047    1.0296 C   0  0  0  0  0  0  0  0  0  0  0  0\\n   -1.1130   -1.1715    1.0774 C   0  0  0  0  0  0  0  0  0  0  0  0\\n    1.6288   -1.8915   -1.3533 C   0  0  0  0  0  0  0  0  0  0  0  0\\n    0.8808   -2.5683   -2.4553 C   0  0  0  0  0  0  0  0  0  0  0  0\\n    2.2370   -2.5722   -0.3406 N   0  0  0  0  0  0  0  0  0  0  0  0\\n    2.6895   -1.5669    0.4311 C   0  0  0  0  0  0  0  0  0  0  0  0\\n    3.5154   -1.5556    1.8902 S   0  0  0  0  0  0  0  0  0  0  0  0\\n    3.5434    1.9379    3.1223 H   0  0  0  0  0  0  0  0  0  0  0  0\\n    4.1519    0.4472    3.9388 H   0  0  0  0  0  0  0  0  0  0  0  0\\n    5.1548    1.2505    2.6644 H   0  0  0  0  0  0  0  0  0  0  0  0\\n    2.6831    1.6983    0.5563 H   0  0  0  0  0  0  0  0  0  0  0  0\\n    1.1696    0.3677   -3.0173 H   0  0  0  0  0  0  0  0  0  0  0  0\\n    1.6152    1.5495   -1.7697 H   0  0  0  0  0  0  0  0  0  0  0  0\\n   -1.9832   -0.5611   -1.8955 H   0  0  0  0  0  0  0  0  0  0  0  0\\n   -0.9811   -0.2269   -3.3471 H   0  0  0  0  0  0  0  0  0  0  0  0\\n   -2.0707    1.0531   -2.7049 H   0  0  0  0  0  0  0  0  0  0  0  0\\n   -2.7808    3.0718   -0.0910 H   0  0  0  0  0  0  0  0  0  0  0  0\\n   -4.9337    2.6420    1.0300 H   0  0  0  0  0  0  0  0  0  0  0  0\\n   -3.6140   -1.2801    2.1433 H   0  0  0  0  0  0  0  0  0  0  0  0\\n   -0.1410   -0.7283    1.3787 H   0  0  0  0  0  0  0  0  0  0  0  0\\n   -1.0092   -1.6445    0.0803 H   0  0  0  0  0  0  0  0  0  0  0  0\\n   -1.3644   -1.9627    1.8152 H   0  0  0  0  0  0  0  0  0  0  0  0\\n    1.2133   -3.6235   -2.5465 H   0  0  0  0  0  0  0  0  0  0  0  0\\n   -0.2057   -2.5516   -2.2325 H   0  0  0  0  0  0  0  0  0  0  0  0\\n    1.0695   -2.0536   -3.4200 H   0  0  0  0  0  0  0  0  0  0  0  0\\n  1  2  1  0\\n  2  3  2  0\\n  3  4  1  0\\n  4  5  1  0\\n  5  6  1  0\\n  6  7  1  0\\n  7  8  1  0\\n  7  9  1  0\\n  9 10  2  0\\n  9 11  1  0\\n 11 12  2  0\\n 12 13  1  0\\n 13 14  2  0\\n 14 15  1  0\\n 14 16  1  0\\n 16 17  2  0\\n 17 18  1  0\\n  5 19  2  0\\n 19 20  1  0\\n 19 21  1  0\\n 21 22  2  0\\n 22 23  1  0\\n 23  2  1  0\\n 22  4  1  0\\n 17 11  1  0\\n  1 24  1  0\\n  1 25  1  0\\n  1 26  1  0\\n  3 27  1  0\\n  6 28  1  0\\n  6 29  1  0\\n  8 30  1  0\\n  8 31  1  0\\n  8 32  1  0\\n 12 33  1  0\\n 13 34  1  0\\n 16 35  1  0\\n 18 36  1  0\\n 18 37  1  0\\n 18 38  1  0\\n 20 39  1  0\\n 20 40  1  0\\n 20 41  1  0\\nM  END\\n\",\"mol\");\n",
              "\tviewer_17220097965554876.setStyle({\"stick\": {}});\n",
              "\tviewer_17220097965554876.zoomTo();\n",
              "viewer_17220097965554876.render();\n",
              "});\n",
              "</script>"
            ]
          },
          "metadata": {}
        },
        {
          "output_type": "stream",
          "name": "stdout",
          "text": [
            "Conversion and display completed.\n"
          ]
        }
      ],
      "source": [
        "# Get SMILES input from user\n",
        "smiles = input(\"Enter a SMILES string: \")\n",
        "mol = smiles_to_3d(smiles)\n",
        "if mol:\n",
        "        img_2d = display(Draw.MolToImage(mol, size=(300, 300), kekulize=True, wedgeBonds=True, legend=smiles))\n",
        "        print(\"3D Visualization:\")\n",
        "        viewer = visualize_molecule(mol)\n",
        "        viewer.show()\n",
        "\n",
        "print(\"Conversion and display completed.\")"
      ]
    }
  ],
  "metadata": {
    "kernelspec": {
      "display_name": "Python 3",
      "language": "python",
      "name": "python3"
    },
    "language_info": {
      "codemirror_mode": {
        "name": "ipython",
        "version": 3
      },
      "file_extension": ".py",
      "mimetype": "text/x-python",
      "name": "python",
      "nbconvert_exporter": "python",
      "pygments_lexer": "ipython3",
      "version": "3.9.6"
    },
    "colab": {
      "provenance": []
    }
  },
  "nbformat": 4,
  "nbformat_minor": 0
}