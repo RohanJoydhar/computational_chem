{
  "nbformat": 4,
  "nbformat_minor": 0,
  "metadata": {
    "colab": {
      "provenance": []
    },
    "kernelspec": {
      "name": "python3",
      "display_name": "Python 3"
    },
    "language_info": {
      "name": "python"
    }
  },
  "cells": [
    {
      "cell_type": "code",
      "source": [
        "!pip install pyscf"
      ],
      "metadata": {
        "colab": {
          "base_uri": "https://localhost:8080/"
        },
        "id": "VmfzIobyhRnS",
        "outputId": "d9536d70-2199-4da2-a6f6-48d056c14fdf"
      },
      "execution_count": null,
      "outputs": [
        {
          "output_type": "stream",
          "name": "stdout",
          "text": [
            "Requirement already satisfied: pyscf in /usr/local/lib/python3.10/dist-packages (2.6.2)\n",
            "Requirement already satisfied: numpy!=1.16,!=1.17,>=1.13 in /usr/local/lib/python3.10/dist-packages (from pyscf) (1.25.2)\n",
            "Requirement already satisfied: scipy!=1.5.0,!=1.5.1 in /usr/local/lib/python3.10/dist-packages (from pyscf) (1.11.4)\n",
            "Requirement already satisfied: h5py>=2.7 in /usr/local/lib/python3.10/dist-packages (from pyscf) (3.9.0)\n",
            "Requirement already satisfied: setuptools in /usr/local/lib/python3.10/dist-packages (from pyscf) (67.7.2)\n"
          ]
        }
      ]
    },
    {
      "cell_type": "markdown",
      "source": [
        "**Defines the water molecule using Cartesian coordinates.**"
      ],
      "metadata": {
        "id": "H539IUlohHs6"
      }
    },
    {
      "cell_type": "markdown",
      "source": [
        "This block defines a water molecule:\n",
        "\n",
        "mol = gto.Mole(): Creates a Molecule object.\n",
        "\n",
        "mol.atom: Specifies the atomic composition and Cartesian coordinates of the atoms in the molecule.\n",
        "\n",
        "The coordinates are given for oxygen (O) and two hydrogen (H) atoms."
      ],
      "metadata": {
        "id": "DV3ETC0FpmZ-"
      }
    },
    {
      "cell_type": "code",
      "source": [
        "from pyscf import gto, scf, dft\n",
        "\n",
        "# Define the water molecule\n",
        "mol = gto.Mole()\n",
        "mol.atom = '''\n",
        "  O 0.000000 0.000000 0.000000\n",
        "  H 0.000000 -0.757000 0.587000\n",
        "  H 0.000000 0.757000 0.587000\n",
        "'''"
      ],
      "metadata": {
        "id": "yF1PSAyxoPlj"
      },
      "execution_count": null,
      "outputs": []
    },
    {
      "cell_type": "markdown",
      "source": [
        "**Basis Set:\n",
        "Using the STO-3G basis set**"
      ],
      "metadata": {
        "id": "IaSRrWmEhaoy"
      }
    },
    {
      "cell_type": "markdown",
      "source": [
        "Sets the basis set to 'STO-3G', a minimal basis set commonly used for quantum chemistry calculations. The basis set defines the functions used to describe the atomic orbitals in the molecule."
      ],
      "metadata": {
        "id": "bGOTEpdNpxL8"
      }
    },
    {
      "cell_type": "code",
      "source": [
        "mol.basis = 'sto-3g'  # Basis set"
      ],
      "metadata": {
        "id": "_Xx-kz6qfaA7"
      },
      "execution_count": null,
      "outputs": []
    },
    {
      "cell_type": "markdown",
      "source": [
        "**Molecule Charge and Spin.**"
      ],
      "metadata": {
        "id": "xiCdvoRrhu7k"
      }
    },
    {
      "cell_type": "markdown",
      "source": [
        "Specifies additional properties of the molecule:\n",
        "\n",
        "mol.charge: Sets the total charge of the molecule to 0, indicating it is neutral.\n",
        "mol.spin: Sets the spin multiplicity of the molecule. A value of 0 corresponds to a singlet state (all electrons paired)."
      ],
      "metadata": {
        "id": "IEd5T26Rp1W6"
      }
    },
    {
      "cell_type": "code",
      "source": [
        "mol.charge = 0        # Neutral molecule\n",
        "mol.spin = 0          # Singlet state"
      ],
      "metadata": {
        "id": "onj3dA_0hf8E"
      },
      "execution_count": null,
      "outputs": []
    },
    {
      "cell_type": "markdown",
      "source": [
        "**Build the Molecule: Finalizes the molecule setup.**"
      ],
      "metadata": {
        "id": "QiIsvTNOh66M"
      }
    },
    {
      "cell_type": "markdown",
      "source": [
        "Finalizes the molecule setup, preparing it for calculations. This method processes the information provided (atoms, basis set, charge, spin) and creates the necessary internal structures."
      ],
      "metadata": {
        "id": "Ho2cmPtfqHIE"
      }
    },
    {
      "cell_type": "code",
      "source": [
        "mol.build()"
      ],
      "metadata": {
        "colab": {
          "base_uri": "https://localhost:8080/"
        },
        "id": "BC_a5DvlhXnT",
        "outputId": "7a349697-6465-45db-c80d-7bfe6669511b"
      },
      "execution_count": null,
      "outputs": [
        {
          "output_type": "execute_result",
          "data": {
            "text/plain": [
              "<pyscf.gto.mole.Mole at 0x7fa42bf6cfd0>"
            ]
          },
          "metadata": {},
          "execution_count": 8
        }
      ]
    },
    {
      "cell_type": "markdown",
      "source": [
        "**Hartree-Fock Calculation: Performs a restricted Hartree-Fock (RHF) calculation to get the Hartree-Fock energy.**"
      ],
      "metadata": {
        "id": "3ijDnW02iDTl"
      }
    },
    {
      "cell_type": "markdown",
      "source": [
        "Performs a restricted Hartree-Fock (RHF) calculation:\n",
        "\n",
        "scf.RHF(mol): Initializes an RHF calculation object with the defined molecule.\n",
        "mf.kernel(): Runs the Hartree-Fock calculation, which optimizes the molecular orbitals to minimize the total electronic energy. The result includes the Hartree-Fock energy and the molecular orbital energies."
      ],
      "metadata": {
        "id": "mUmP9oC5qMkU"
      }
    },
    {
      "cell_type": "code",
      "source": [
        "# Perform Hartree-Fock calculation\n",
        "mf = scf.RHF(mol)\n",
        "hf_energy = mf.kernel()"
      ],
      "metadata": {
        "colab": {
          "base_uri": "https://localhost:8080/"
        },
        "id": "5zSMXLp_e6to",
        "outputId": "d26a0735-fea3-4304-eee5-82836a469857"
      },
      "execution_count": null,
      "outputs": [
        {
          "output_type": "stream",
          "name": "stdout",
          "text": [
            "converged SCF energy = -74.9630631297276\n"
          ]
        }
      ]
    },
    {
      "cell_type": "markdown",
      "source": [
        "**DFT Calculation using B3LYP Functional: Performs a DFT calculation using the B3LYP functional to get the DFT energy.**"
      ],
      "metadata": {
        "id": "fOytEgDPiMZk"
      }
    },
    {
      "cell_type": "markdown",
      "source": [
        "Performs a DFT calculation using the B3LYP exchange-correlation functional:\n",
        "\n",
        "dft.RKS(mol): Initializes a Restricted Kohn-Sham DFT calculation object for the molecule.\n",
        "dft_calc.xc = 'B3LYP': Specifies the use of the B3LYP functional, a popular choice for DFT calculations.\n",
        "\n",
        "dft_calc.kernel(): Runs the DFT calculation, providing the DFT energy and molecular orbital energies."
      ],
      "metadata": {
        "id": "IXJ_GrkZqclj"
      }
    },
    {
      "cell_type": "code",
      "source": [
        "# Perform DFT calculation using B3LYP functional\n",
        "mf = dft.RKS(mol)\n",
        "mf.xc = 'b3lyp'\n",
        "dft_energy = mf.kernel()"
      ],
      "metadata": {
        "colab": {
          "base_uri": "https://localhost:8080/"
        },
        "id": "UPm9gkeye4kK",
        "outputId": "ba1f7c80-ae37-4cdb-cfbb-06e0efcb6fc0"
      },
      "execution_count": null,
      "outputs": [
        {
          "output_type": "stream",
          "name": "stdout",
          "text": [
            "converged SCF energy = -75.3125873998937\n"
          ]
        }
      ]
    },
    {
      "cell_type": "markdown",
      "source": [
        "**Analyzing the Results: Extracts and calculates the molecular orbital (MO) energies, HOMO and LUMO energies, and the HOMO-LUMO gap.**"
      ],
      "metadata": {
        "id": "mknL_TbEiUCK"
      }
    },
    {
      "cell_type": "markdown",
      "source": [
        "Calculates the energy of the Highest Occupied Molecular Orbital (HOMO):\n",
        "\n",
        "mol.nelectron: Total number of electrons in the molecule.\n",
        "\n",
        "mol.nelectron//2 - 1: Index for the HOMO, calculated by dividing the number of electrons by 2 (since each orbital can hold two electrons) and subtracting one to get the last occupied orbital.\n",
        "\n",
        "Calculates the energy of the Lowest Unoccupied Molecular Orbital (LUMO):\n",
        "\n",
        "mol.nelectron//2: Index for the LUMO, which is the first unoccupied orbital.\n",
        "\n",
        "Calculates the HOMO-LUMO gap, which is the energy difference between the HOMO and LUMO orbitals. This gap is an important parameter indicating the electronic excitation energy."
      ],
      "metadata": {
        "id": "Kren5jVYqq_G"
      }
    },
    {
      "cell_type": "code",
      "source": [
        "# Analyze the results\n",
        "mo_energies = mf.mo_energy\n",
        "homo_index = mol.nelectron // 2 - 1  # Index of the highest occupied molecular orbital (HOMO)\n",
        "lumo_index = homo_index + 1          # Index of the lowest unoccupied molecular orbital (LUMO)\n",
        "homo_energy = mo_energies[homo_index]\n",
        "lumo_energy = mo_energies[lumo_index]\n",
        "gap = lumo_energy - homo_energy      # HOMO-LUMO gap"
      ],
      "metadata": {
        "id": "xUBUdr80exab"
      },
      "execution_count": null,
      "outputs": []
    },
    {
      "cell_type": "markdown",
      "source": [
        "**Printing Results: Displays the calculated energies and the HOMO-LUMO gap.**"
      ],
      "metadata": {
        "id": "vZACk9VQibAY"
      }
    },
    {
      "cell_type": "code",
      "source": [
        "# Print results\n",
        "print(f\"Hartree-Fock Energy: {hf_energy} Hartree\")\n",
        "print(f\"DFT Energy (B3LYP): {dft_energy} Hartree\")\n",
        "print(f\"HOMO Energy: {homo_energy} Hartree\")\n",
        "print(f\"LUMO Energy: {lumo_energy} Hartree\")\n",
        "print(f\"HOMO-LUMO Gap: {gap} Hartree\")"
      ],
      "metadata": {
        "colab": {
          "base_uri": "https://localhost:8080/"
        },
        "id": "mPcu9dK_esFG",
        "outputId": "89de70fd-acc3-4df5-aa51-011155e2e571"
      },
      "execution_count": null,
      "outputs": [
        {
          "output_type": "stream",
          "name": "stdout",
          "text": [
            "Hartree-Fock Energy: -74.96306312972763 Hartree\n",
            "DFT Energy (B3LYP): -75.31258739989367 Hartree\n",
            "HOMO Energy: -0.1442125609860971 Hartree\n",
            "LUMO Energy: 0.355325315709403 Hartree\n",
            "HOMO-LUMO Gap: 0.4995378766955001 Hartree\n"
          ]
        }
      ]
    }
  ]
}